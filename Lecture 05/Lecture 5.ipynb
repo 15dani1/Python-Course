{
 "cells": [
  {
   "cell_type": "markdown",
   "metadata": {
    "colab_type": "text",
    "id": "3_QWEI6zofvK"
   },
   "source": [
    "# Lecture 5 - Halfway Review \n",
    "\n",
    "*Monday, June 15th 2020*\n",
    "\n",
    "*Rahul Dani*\n",
    "\n",
    "In this lecture, we will recap all the material we have learned so far and try to work on some fun tasks!\n",
    "\n",
    "\"Everyone should learn how to code, it teaches you how to think\" - Steve Jobs"
   ]
  },
  {
   "cell_type": "markdown",
   "metadata": {
    "colab_type": "text",
    "id": "W-txrp4CK5hH"
   },
   "source": [
    "## Activity 1 : Mad Libs"
   ]
  },
  {
   "cell_type": "markdown",
   "metadata": {
    "colab_type": "text",
    "id": "rLZfaWoRdlcT"
   },
   "source": [
    "\n",
    "\n",
    "```\n",
    "noun_1\n",
    "noun_2\n",
    "plural_noun_1\n",
    "game\n",
    "plural_noun_2\n",
    "verb_ending_ING_1\n",
    "verb_ending_ING_2\n",
    "plural_noun_3\n",
    "verb_ending_ING_3\n",
    "noun_3\n",
    "plant\n",
    "body_part\n",
    "place\n",
    "verb_ending_ING_4\n",
    "```\n",
    "\n",
    "Make variables names with the words I have given above and take user input for those words with \"Enter an adjective: \" for adjectives, etc. Also come up with creative answers to each of the words. I might ask you to share some funny ones. Please choose appropriate words!\n",
    "\n",
    "<!-- Sentence : 'A vacation is when you take a trip to some ' + adjective_1 + ' place with your '+adjective_2+ 'family. Usually you go to some place that is near a/an ' +noun_1+ ' or up on a/an '+noun_2+'. A good vacation place is one where you can ride '+plural_noun_1+ ' or play '+game+ ' or go hunting for '+plural_noun_2+'. I like to spend my time '+verb_ending_ING_1+' or '+verb_ending_ING_2+'. When parents go on a vacation, they spend their time eating three '+plural_noun_3+' a day, and fathers play golf, and mothers sit around '+verb_ending_ING_3+'. Last summer, my little brother fell in a/an '+noun_3+' and got poison '+plant+' all over his '+body_part+'. My family is going to go to (the) '+place+', and I will practice '+verb_ending_ING_4+'.' -->\n",
    "\n",
    "\n",
    "<!-- Answer:\n",
    "\n",
    "```\n",
    "print('Welcome to the Mad Libs Game!\\n')\n",
    "\n",
    "adjective_1 = input('Enter an adjective: ')\n",
    "adjective_2 = input('Enter an adjective: ')\n",
    "noun_1 = input('Enter a noun: ')\n",
    "noun_2 = input('Enter a noun: ')\n",
    "plural_noun_1 = input('Enter a plural noun: ')\n",
    "game = input('Enter a game: ')\n",
    "plural_noun_2 = input('Enter a plural noun: ')\n",
    "verb_ending_ING_1 = input('Enter a verb ending with ING: ')\n",
    "verb_ending_ING_2 = input('Enter a verb ending with ING: ')\n",
    "plural_noun_3 = input('Enter a plural noun: ')\n",
    "verb_ending_ING_3 = input('Enter a verb ending with ING: ')\n",
    "noun_3 = input('Enter a noun: ')\n",
    "plant = input('Enter a plant: ')\n",
    "body_part = input('Enter a body part: ')\n",
    "place = input('Enter a place: ')\n",
    "verb_ending_ING_4 = input('Enter a verb ending with ING: ')\n",
    "\n",
    "print('\\nA vacation is when you take a trip to some ' + adjective_1 + ' place with your '+adjective_2+ ' \\nfamily. Usually you go to some place that is near a/an ' +noun_1+ ' or up on a/an '+noun_2+'. A good \\nvacation place is one where you can ride '+plural_noun_1+ ' or play '+game+ ' or go hunting for '+plural_noun_2+'. I like to spend \\nmy time '+verb_ending_ING_1+' or '+verb_ending_ING_2+'. When parents go on a vacation, they spend their time eating \\nthree '+plural_noun_3+' a day, and fathers play golf, and mothers sit around '+verb_ending_ING_3+'. Last summer, my \\nlittle brother fell in a/an '+noun_3+' and got poison '+plant+' all over his '+body_part+'. My family is going to go \\nto (the) '+place+', and I will practice '+verb_ending_ING_4+'.' )\n",
    "``` -->\n"
   ]
  },
  {
   "cell_type": "code",
   "execution_count": null,
   "metadata": {
    "colab": {
     "base_uri": "https://localhost:8080/",
     "height": 463
    },
    "colab_type": "code",
    "executionInfo": {
     "elapsed": 65045,
     "status": "ok",
     "timestamp": 1592234059893,
     "user": {
      "displayName": "Rahul Dani",
      "photoUrl": "https://lh3.googleusercontent.com/a-/AOh14Gj4Ylyc5noiFAMi-UQaeNwk1wfY6BGY9uKNf5_8IQ=s64",
      "userId": "15518412354795461544"
     },
     "user_tz": 240
    },
    "id": "7TratPD-oQYZ",
    "outputId": "fe76d31f-c671-4c4b-f5f8-ec37e7a12e62"
   },
   "outputs": [
    {
     "name": "stdout",
     "output_type": "stream",
     "text": [
      "Welcome to the Mad Libs Game!\n",
      "\n"
     ]
    }
   ],
   "source": [
    "print('Welcome to the Mad Libs Game!\\n')\n",
    "\n",
    "adjective_1 = input('Enter an adjective: ')\n",
    "adjective_2 = input('Enter an adjective: ')\n",
    "noun_1 = input('Enter a noun: ')\n",
    "noun_2 = input('Enter a noun: ')\n",
    "plural_noun_1 = input('Enter a plural noun: ')\n",
    "game = input('Enter a game: ')\n",
    "plural_noun_2 = input('Enter a plural noun: ')\n",
    "verb_ending_ING_1 = input('Enter a verb ending with ING: ')\n",
    "verb_ending_ING_2 = input('Enter a verb ending with ING: ')\n",
    "plural_noun_3 = input('Enter a plural noun: ')\n",
    "verb_ending_ING_3 = input('Enter a verb ending with ING: ')\n",
    "noun_3 = input('Enter a noun: ')\n",
    "plant = input('Enter a plant: ')\n",
    "body_part = input('Enter a body part: ')\n",
    "place = input('Enter a place: ')\n",
    "verb_ending_ING_4 = input('Enter a verb ending with ING: ')\n",
    "\n",
    "print('\\nA vacation is when you take a trip to some ' + adjective_1 + ' place with your '+adjective_2+ ' \\nfamily. Usually you go to some place that is near a/an ' +noun_1+ ' or up on a/an '+noun_2+'. A good \\nvacation place is one where you can ride '+plural_noun_1+ ' or play '+game+ ' or go hunting for '+plural_noun_2+'. I like to spend \\nmy time '+verb_ending_ING_1+' or '+verb_ending_ING_2+'. When parents go on a vacation, they spend their time eating \\nthree '+plural_noun_3+' a day, and fathers play golf, and mothers sit around '+verb_ending_ING_3+'. Last summer, my \\nlittle brother fell in a/an '+noun_3+' and got poison '+plant+' all over his '+body_part+'. My family is going to go \\nto (the) '+place+', and I will practice '+verb_ending_ING_4+'.' )\n"
   ]
  },
  {
   "cell_type": "markdown",
   "metadata": {
    "colab_type": "text",
    "id": "L8obk9qMBwPx"
   },
   "source": [
    "## Activity 2 : Guessing game"
   ]
  },
  {
   "cell_type": "markdown",
   "metadata": {
    "colab_type": "text",
    "id": "h6hkPRh3EXye"
   },
   "source": [
    "In this exercise you will make a game that lets the user guess a random number between 1 and 100.\n",
    "\n",
    "For example:\n",
    "\n",
    "    Let the random number be 75.\n",
    "    If the user guesses 60, say \"Your guess was too low\"\n",
    "    If the user guesses 80, say \"Your guess was too high\"\n",
    "    Let the user keep entering numbers and only end the program when the user guesses correctly.\n",
    "\n",
    "Use this to generate a random number between 1 and 100:\n",
    "\n",
    "    import random\n",
    "    number = random.randint(1,100)\n",
    "\n",
    "<!-- Answer:\n",
    "```\n",
    "import random\n",
    "\n",
    "number = random.randint(1, 100)\n",
    "\n",
    "guess = -1\n",
    "attempts = 0\n",
    "while(guess != number):\n",
    "    guess = int(input('What is your guess? :  '))\n",
    "    if (guess < number):\n",
    "        print('Your guess was too low!')\n",
    "        attempts += 1\n",
    "    elif (guess > number):\n",
    "        print('Your guess was too high!')\n",
    "        attempts += 1\n",
    "    else:\n",
    "        attempts += 1\n",
    "        print('Yay you got it!')\n",
    "        print('You took ' + str(score) + ' attempts to get the answer!')\n",
    "``` -->"
   ]
  },
  {
   "cell_type": "code",
   "execution_count": 3,
   "metadata": {
    "colab": {
     "base_uri": "https://localhost:8080/",
     "height": 240
    },
    "colab_type": "code",
    "executionInfo": {
     "elapsed": 52561,
     "status": "ok",
     "timestamp": 1592235122453,
     "user": {
      "displayName": "Rahul Dani",
      "photoUrl": "https://lh3.googleusercontent.com/a-/AOh14Gj4Ylyc5noiFAMi-UQaeNwk1wfY6BGY9uKNf5_8IQ=s64",
      "userId": "15518412354795461544"
     },
     "user_tz": 240
    },
    "id": "ByoCq85OB1LC",
    "outputId": "e4759528-5910-49f2-c3ac-53d5ba6de74f"
   },
   "outputs": [
    {
     "name": "stdout",
     "output_type": "stream",
     "text": [
      "What is your guess? :  72\n",
      "Your guess was too high!\n",
      "What is your guess? :  23\n",
      "Your guess was too low!\n",
      "What is your guess? :  53\n",
      "Your guess was too high!\n",
      "What is your guess? :  35\n",
      "Your guess was too low!\n",
      "What is your guess? :  44\n",
      "Your guess was too low!\n",
      "What is your guess? :  48\n",
      "Yay you got it!\n",
      "You took 6 attempts to get the answer!\n"
     ]
    }
   ],
   "source": [
    "import random\n",
    "\n",
    "number = random.randint(1, 100)\n",
    "\n",
    "guess = -1\n",
    "attempts = 0\n",
    "while(guess != number):\n",
    "    guess = int(input('What is your guess? :  '))\n",
    "    if (guess < number):\n",
    "        print('Your guess was too low!')\n",
    "        attempts += 1\n",
    "    elif (guess > number):\n",
    "        print('Your guess was too high!')\n",
    "        attempts += 1\n",
    "    else:\n",
    "        attempts += 1\n",
    "        print('Yay you got it!')\n",
    "        print('You took ' + str(attempts) + ' attempts to get the answer!')\n"
   ]
  },
  {
   "cell_type": "markdown",
   "metadata": {
    "colab_type": "text",
    "id": "dYT3N_mVKIz8"
   },
   "source": [
    "## Activity 3 : Adding numbers game (Gauss' Formula)"
   ]
  },
  {
   "cell_type": "markdown",
   "metadata": {
    "colab_type": "text",
    "id": "KpOqoM2ZK-pS"
   },
   "source": [
    "Can you add all the numbers from 1 to 100? Seems like a challenging task, so make a program that can add all the numbers from 1 to 100. Ex: 1+2+3...+98+99+100. Hint: Use a for loop with the range() command. \n",
    "\n",
    "<!-- Answer: \n",
    "\n",
    "```\n",
    "sum = 0\n",
    "for num in range(101):\n",
    "    sum = sum + num\n",
    "print(sum)\n",
    "``` -->"
   ]
  },
  {
   "cell_type": "code",
   "execution_count": 5,
   "metadata": {
    "colab": {
     "base_uri": "https://localhost:8080/",
     "height": 34
    },
    "colab_type": "code",
    "executionInfo": {
     "elapsed": 335,
     "status": "ok",
     "timestamp": 1592235560339,
     "user": {
      "displayName": "Rahul Dani",
      "photoUrl": "https://lh3.googleusercontent.com/a-/AOh14Gj4Ylyc5noiFAMi-UQaeNwk1wfY6BGY9uKNf5_8IQ=s64",
      "userId": "15518412354795461544"
     },
     "user_tz": 240
    },
    "id": "0xuvMi6PKMNJ",
    "outputId": "f9cb7b8c-52b0-4dcf-e38b-741154046444"
   },
   "outputs": [
    {
     "name": "stdout",
     "output_type": "stream",
     "text": [
      "5050\n"
     ]
    }
   ],
   "source": [
    "sum = 0\n",
    "for num in range(1,101):\n",
    "    sum = sum + num\n",
    "print(sum)"
   ]
  },
  {
   "cell_type": "markdown",
   "metadata": {
    "colab_type": "text",
    "id": "sYi7G9UKMBC_"
   },
   "source": [
    "Now, can you do this task without using a for loop?\n",
    "\n",
    "<!-- Answer:\n",
    "```\n",
    "sum = (100*(101))/2\n",
    "sum = int(sum)\n",
    "print(sum)\n",
    "``` -->"
   ]
  },
  {
   "cell_type": "code",
   "execution_count": 7,
   "metadata": {
    "colab": {
     "base_uri": "https://localhost:8080/",
     "height": 34
    },
    "colab_type": "code",
    "executionInfo": {
     "elapsed": 725,
     "status": "ok",
     "timestamp": 1592235886381,
     "user": {
      "displayName": "Rahul Dani",
      "photoUrl": "https://lh3.googleusercontent.com/a-/AOh14Gj4Ylyc5noiFAMi-UQaeNwk1wfY6BGY9uKNf5_8IQ=s64",
      "userId": "15518412354795461544"
     },
     "user_tz": 240
    },
    "id": "uaTkTkNmLoDr",
    "outputId": "0e08cfc4-b694-491c-d13f-30d4a8cef716"
   },
   "outputs": [
    {
     "name": "stdout",
     "output_type": "stream",
     "text": [
      "5050\n"
     ]
    }
   ],
   "source": [
    "sum = int((100*(101))/2)\n",
    "print(sum)"
   ]
  },
  {
   "cell_type": "markdown",
   "metadata": {
    "colab_type": "text",
    "id": "uM45FPoPNJIL"
   },
   "source": [
    "Gauss Formula method:\n",
    "\n",
    "![alt text](https://lh3.googleusercontent.com/proxy/G83sM5RMXAfIg073tRoCl9YPNuYjWqeJf44EmVGTVEBD0rCn-5DSOkiKlqxcj-rojAs1LmY7kbTn_lnF1tew2YwYwX-IlPz_mML0-9DnaiYdpfT-3nb86vHCOaVueGBOSci4Bb9gzuHH0AtSaS_KsG5WL7Y)\n",
    "\n",
    "![alt text](https://betterexplained.com/wp-content/plugins/wp-latexrender/pictures/2e9ef5f601b25cef7278a83960a9f8f5.png)"
   ]
  },
  {
   "cell_type": "markdown",
   "metadata": {
    "colab_type": "text",
    "id": "grSelyx7Opzp"
   },
   "source": [
    "You may be asking: **Why does this matter?**\n",
    "\n",
    "It matters because we are excuting the same code in less time. We are optimizing our solution!\n",
    "\n",
    "Let's try adding all the numbers between 1 and 1 million and check which method is faster.\n",
    "\n",
    "<!-- Solution 1:\n",
    "```\n",
    "import time\n",
    "start_time = time.time()\n",
    "sum = 0\n",
    "for num in range(1000001):\n",
    "    sum = sum + num\n",
    "print(sum)\n",
    "print(\"--- %s seconds ---\" % (time.time() - start_time))\n",
    "```\n",
    "\n",
    "Solution 2: \n",
    "```\n",
    "import time\n",
    "start_time = time.time()\n",
    "sum = (1000000*(1000001))//2\n",
    "print(sum)\n",
    "print(\"--- %s seconds ---\" % (time.time() - start_time))\n",
    "``` -->"
   ]
  },
  {
   "cell_type": "code",
   "execution_count": 4,
   "metadata": {
    "colab": {
     "base_uri": "https://localhost:8080/",
     "height": 51
    },
    "colab_type": "code",
    "executionInfo": {
     "elapsed": 11715,
     "status": "ok",
     "timestamp": 1592236213795,
     "user": {
      "displayName": "Rahul Dani",
      "photoUrl": "https://lh3.googleusercontent.com/a-/AOh14Gj4Ylyc5noiFAMi-UQaeNwk1wfY6BGY9uKNf5_8IQ=s64",
      "userId": "15518412354795461544"
     },
     "user_tz": 240
    },
    "id": "quPvngmFOuQo",
    "outputId": "a7ddb61d-24f1-4a9b-8ffa-45fd08814617"
   },
   "outputs": [
    {
     "name": "stdout",
     "output_type": "stream",
     "text": [
      "5000000050000000\n",
      "--- 11.107958316802979 seconds ---\n"
     ]
    }
   ],
   "source": [
    "import time\n",
    "start_time = time.time()\n",
    "sum = 0\n",
    "for num in range(100000001):\n",
    "    sum = sum + num\n",
    "print(sum)\n",
    "print(\"--- %s seconds ---\" % (time.time() - start_time))"
   ]
  },
  {
   "cell_type": "code",
   "execution_count": 3,
   "metadata": {
    "colab": {
     "base_uri": "https://localhost:8080/",
     "height": 51
    },
    "colab_type": "code",
    "executionInfo": {
     "elapsed": 342,
     "status": "ok",
     "timestamp": 1592236195839,
     "user": {
      "displayName": "Rahul Dani",
      "photoUrl": "https://lh3.googleusercontent.com/a-/AOh14Gj4Ylyc5noiFAMi-UQaeNwk1wfY6BGY9uKNf5_8IQ=s64",
      "userId": "15518412354795461544"
     },
     "user_tz": 240
    },
    "id": "J3vGp3a7PCc3",
    "outputId": "e612c986-9483-43ed-8237-424425b009da"
   },
   "outputs": [
    {
     "name": "stdout",
     "output_type": "stream",
     "text": [
      "5000000050000000\n",
      "--- 0.0001361370086669922 seconds ---\n"
     ]
    }
   ],
   "source": [
    "import time\n",
    "start_time = time.time()\n",
    "sum = (100000000*(100000001))//2\n",
    "print(sum)\n",
    "print(\"--- %s seconds ---\" % (time.time() - start_time))"
   ]
  },
  {
   "cell_type": "markdown",
   "metadata": {
    "colab_type": "text",
    "id": "DMkZcWTCRNUE"
   },
   "source": [
    "## Activity 4: Odd/Even Number Checker"
   ]
  },
  {
   "cell_type": "markdown",
   "metadata": {
    "colab_type": "text",
    "id": "1aOGtS-oRe7T"
   },
   "source": [
    "Take a user input number, if the number is even then print 'This number is even', otherwise print 'This number is odd'.\n",
    "\n",
    "<!-- Answer:\n",
    "```\n",
    "num = input('Enter your number here: ')\n",
    "num = int(num)\n",
    "if(num % 2 == 0):\n",
    "    print('This number is even!')\n",
    "else:\n",
    "    print('This number is odd!')\n",
    "``` -->"
   ]
  },
  {
   "cell_type": "code",
   "execution_count": 11,
   "metadata": {
    "colab": {
     "base_uri": "https://localhost:8080/",
     "height": 51
    },
    "colab_type": "code",
    "executionInfo": {
     "elapsed": 319,
     "status": "ok",
     "timestamp": 1592236427705,
     "user": {
      "displayName": "Rahul Dani",
      "photoUrl": "https://lh3.googleusercontent.com/a-/AOh14Gj4Ylyc5noiFAMi-UQaeNwk1wfY6BGY9uKNf5_8IQ=s64",
      "userId": "15518412354795461544"
     },
     "user_tz": 240
    },
    "id": "3Z6tAFJCTDmX",
    "outputId": "4c280de1-b031-4e22-8276-47806c74819e"
   },
   "outputs": [
    {
     "name": "stdout",
     "output_type": "stream",
     "text": [
      "5\n",
      "odd\n"
     ]
    }
   ],
   "source": [
    "import random\n",
    "number = random.randint(1, 100)\n",
    "\n",
    "print(number)\n",
    "\n",
    "if (number%2 == 0):\n",
    "          print('even')\n",
    "else:\n",
    "          print('odd')"
   ]
  },
  {
   "cell_type": "markdown",
   "metadata": {
    "colab_type": "text",
    "id": "sTVI9zPd1Nwn"
   },
   "source": [
    "Practice Problems from previous lectures to work on after class:\n",
    "\n",
    "Lecture 1 : https://colab.research.google.com/drive/1RlMF5WD6YvUf7sbGs0XkpYyWvOLyT30b?usp=sharing\n",
    "\n",
    "Lecture 2 : https://colab.research.google.com/drive/14B7NaXdTWmfFhb6wRldo8nTdPMHNX7fZ?usp=sharing\n",
    "\n",
    "Lecture 3 : https://colab.research.google.com/drive/1WLEpSIk2eDn9YORxIuBJKAIBtvQ0E50Q?usp=sharing\n",
    "\n",
    "Lecture 4 :  https://colab.research.google.com/drive/1eZ3Xzojdu8QYzLD3AfkImMgSf9xUMsHD?usp=sharing\n"
   ]
  }
 ],
 "metadata": {
  "colab": {
   "authorship_tag": "ABX9TyNuD97LzxLrB02NODLi+oTg",
   "collapsed_sections": [],
   "name": "Lecture 5.ipynb",
   "provenance": []
  },
  "kernelspec": {
   "display_name": "Python 3",
   "language": "python",
   "name": "python3"
  },
  "language_info": {
   "codemirror_mode": {
    "name": "ipython",
    "version": 3
   },
   "file_extension": ".py",
   "mimetype": "text/x-python",
   "name": "python",
   "nbconvert_exporter": "python",
   "pygments_lexer": "ipython3",
   "version": "3.7.4"
  }
 },
 "nbformat": 4,
 "nbformat_minor": 1
}
