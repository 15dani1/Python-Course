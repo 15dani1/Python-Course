{
 "cells": [
  {
   "cell_type": "markdown",
   "metadata": {
    "colab_type": "text",
    "id": "3_QWEI6zofvK"
   },
   "source": [
    "# Lecture 9 - Graphing and Data Analysis\n",
    "\n",
    "*Monday, June 29th 2020*\n",
    "\n",
    "*Rahul Dani*\n",
    "\n",
    "In this lecture, we will cover techniques to plot functions, line graphs, bar graphs, and also how to extract information from a dataset.\n"
   ]
  },
  {
   "cell_type": "markdown",
   "metadata": {
    "colab_type": "text",
    "id": "zoOatgOAfMQe"
   },
   "source": [
    "## Topic 1 : Graphing"
   ]
  },
  {
   "cell_type": "markdown",
   "metadata": {
    "colab_type": "text",
    "id": "p1U_1Y6Cf31t"
   },
   "source": [
    "In order to graph functions in python, we will use the **matplotlib** library.\n",
    "\n",
    "In order to install matplotlib, run the following commands:\n",
    "\n",
    "    pip install matplotlib\n"
   ]
  },
  {
   "cell_type": "markdown",
   "metadata": {
    "colab_type": "text",
    "id": "_PqDbq3ogXRd"
   },
   "source": [
    "To create a line from values of x and y we write this code:\n",
    "\n",
    "    import matplotlib.pyplot as plt   # imports matplotlib\n",
    "\n",
    "    x = [1,2,3,4]                     # x values\n",
    "    y = [1,3,5,7]                     # y values\n",
    "\n",
    "    plt.plot(x,y)                     # plot the line\n",
    "    plt.show()                        # display the plot to the user"
   ]
  },
  {
   "cell_type": "code",
   "execution_count": 1,
   "metadata": {
    "colab": {
     "base_uri": "https://localhost:8080/",
     "height": 265
    },
    "colab_type": "code",
    "executionInfo": {
     "elapsed": 557,
     "status": "ok",
     "timestamp": 1593443220890,
     "user": {
      "displayName": "Rahul Dani",
      "photoUrl": "https://lh3.googleusercontent.com/a-/AOh14Gj4Ylyc5noiFAMi-UQaeNwk1wfY6BGY9uKNf5_8IQ=s64",
      "userId": "15518412354795461544"
     },
     "user_tz": 240
    },
    "id": "0HUqDEmidcNL",
    "outputId": "0bf77053-4b36-40dc-f109-c2eebe630ebf"
   },
   "outputs": [
    {
     "data": {
      "text/plain": [
       "<Figure size 640x480 with 1 Axes>"
      ]
     },
     "metadata": {},
     "output_type": "display_data"
    }
   ],
   "source": [
    "import matplotlib.pyplot as plt   # imports matplotlib\n",
    " \n",
    "x = [1,2,3,4]                     # x values\n",
    "y = [1,3,5,7]                     # y values\n",
    " \n",
    "plt.plot(x,y)                     # plot the line\n",
    "plt.show()                        # display the plot to the user"
   ]
  },
  {
   "cell_type": "markdown",
   "metadata": {
    "colab_type": "text",
    "id": "8VWy8fUnkk-5"
   },
   "source": [
    "As we see from the first plot, we don't have a title or a way to distinguish x and y values.\n",
    "\n",
    "In order to add those features, we modify the code a little bit:\n",
    "\n",
    "    import matplotlib.pyplot as plt   # imports matplotlib\n",
    " \n",
    "    x = [1,2,3,4]                     # x values\n",
    "    y = [1,3,5,7]                     # y values\n",
    "    \n",
    "    plt.plot(x,y)                     # plot the line\n",
    "    plt.xlabel('x values')            # label for x values\n",
    "    plt.ylabel('y values')            # label for y values\n",
    "    plt.title('Graph')                # label for the title\n",
    "    plt.show()                        # display the plot to the user"
   ]
  },
  {
   "cell_type": "code",
   "execution_count": 2,
   "metadata": {
    "colab": {
     "base_uri": "https://localhost:8080/",
     "height": 295
    },
    "colab_type": "code",
    "executionInfo": {
     "elapsed": 356,
     "status": "ok",
     "timestamp": 1593443274853,
     "user": {
      "displayName": "Rahul Dani",
      "photoUrl": "https://lh3.googleusercontent.com/a-/AOh14Gj4Ylyc5noiFAMi-UQaeNwk1wfY6BGY9uKNf5_8IQ=s64",
      "userId": "15518412354795461544"
     },
     "user_tz": 240
    },
    "id": "DL1FK_acfo4B",
    "outputId": "dd3f9b41-d16b-488c-d0d5-1cc709ac7c39"
   },
   "outputs": [
    {
     "data": {
      "image/png": "[encoded data removed]",
      "text/plain": [
       "<Figure size 432x288 with 1 Axes>"
      ]
     },
     "metadata": {
      "needs_background": "light"
     },
     "output_type": "display_data"
    }
   ],
   "source": [
    "import matplotlib.pyplot as plt   # imports matplotlib\n",
    " \n",
    "x = [1,2,3,4]                     # x values\n",
    "y = [1,3,5,7]                     # y values\n",
    " \n",
    "plt.plot(x,y)                     # plot the line\n",
    "plt.xlabel('x values')            # label for x values\n",
    "plt.ylabel('y values')            # label for y values\n",
    "plt.title('Graph')                # label for the title\n",
    "plt.show()                        # display the plot to the user"
   ]
  },
  {
   "cell_type": "markdown",
   "metadata": {
    "colab_type": "text",
    "id": "bv2lrb2Hm_Yn"
   },
   "source": [
    "**Task 1 :** Create a graph of x = [1,2,3,4,5] and y = [92, 97, 96, 92, 94] with the title : 'Tampa weather', x-axis title : 'Days', y-axis title : 'Temperature in F'.\n",
    "\n",
    "<!-- \n",
    "```\n",
    "import matplotlib.pyplot as plt     # imports matplotlib\n",
    " \n",
    "x = [1,2,3,4,5]                     # x values\n",
    "y = [92, 97, 96, 92, 94]            # y values\n",
    " \n",
    "plt.plot(x,y)                       # plot the line\n",
    "plt.xlabel('Days')                  # label for x values\n",
    "plt.ylabel('Temperature in F')      # label for y values\n",
    "plt.title('Tampa Weather')          # label for the title\n",
    "plt.show()                          # display the plot to the user\n",
    "``` -->\n"
   ]
  },
  {
   "cell_type": "code",
   "execution_count": null,
   "metadata": {
    "colab": {
     "base_uri": "https://localhost:8080/",
     "height": 295
    },
    "colab_type": "code",
    "executionInfo": {
     "elapsed": 420,
     "status": "ok",
     "timestamp": 1593443426128,
     "user": {
      "displayName": "Rahul Dani",
      "photoUrl": "https://lh3.googleusercontent.com/a-/AOh14Gj4Ylyc5noiFAMi-UQaeNwk1wfY6BGY9uKNf5_8IQ=s64",
      "userId": "15518412354795461544"
     },
     "user_tz": 240
    },
    "id": "H1Yl7gNzfuRR",
    "outputId": "a538a673-71a6-4062-a7c6-8c75d131dcf4"
   },
   "outputs": [],
   "source": []
  },
  {
   "cell_type": "markdown",
   "metadata": {
    "colab_type": "text",
    "id": "nPmmX8Yyo2PD"
   },
   "source": [
    "One thing you might have noticed is that we are not emphasizing the \"temperature\" levels, even though it is very hot!\n",
    "\n",
    "This is because we haven't set a manual window for the plot. Matplotlib automatically sets the window based on our graph.\n",
    "\n",
    "To set the window we use: \n",
    "\n",
    "    plt.xlim(start, end)          # start is the lower limit and end is the upper limit.\n",
    "    plt.ylim(start, end)          # start is the lower limit and end is the upper limit.\n",
    "\n",
    "If we try making the \"Tampa weather\" plot again with the window adjusted, it look would look like:\n",
    "\n",
    "<!-- ```\n",
    "import matplotlib.pyplot as plt     # imports matplotlib\n",
    " \n",
    "x = [1,2,3,4,5]                     # x values\n",
    "y = [92, 97, 96, 92, 94]            # y values\n",
    " \n",
    "plt.plot(x,y)                       # plot the line\n",
    "plt.xlabel('Days')                  # label for x values\n",
    "plt.ylabel('Temperature in F')      # label for y values\n",
    "plt.xlim(1, 5)\n",
    "plt.ylim(32,100)\n",
    "plt.title('Tampa Weather')          # label for the title\n",
    "plt.show()                          # display the plot to the user\n",
    "``` -->\n"
   ]
  },
  {
   "cell_type": "code",
   "execution_count": 3,
   "metadata": {
    "colab": {
     "base_uri": "https://localhost:8080/",
     "height": 295
    },
    "colab_type": "code",
    "executionInfo": {
     "elapsed": 396,
     "status": "ok",
     "timestamp": 1593443538815,
     "user": {
      "displayName": "Rahul Dani",
      "photoUrl": "https://lh3.googleusercontent.com/a-/AOh14Gj4Ylyc5noiFAMi-UQaeNwk1wfY6BGY9uKNf5_8IQ=s64",
      "userId": "15518412354795461544"
     },
     "user_tz": 240
    },
    "id": "8S7bKKbWoKta",
    "outputId": "1117c211-d616-4b2f-96d8-b63b19bb1da8"
   },
   "outputs": [
    {
     "data": {
      "image/png": "[encoded data removed]",
      "text/plain": [
       "<Figure size 432x288 with 1 Axes>"
      ]
     },
     "metadata": {
      "needs_background": "light"
     },
     "output_type": "display_data"
    }
   ],
   "source": [
    "import matplotlib.pyplot as plt\n",
    "x = [1,2,3,4,5]\n",
    "y = [92,97,96,92,94]\n",
    "\n",
    "plt.plot(x,y)\n",
    "plt.xlabel('Tampa Weather')\n",
    "plt.ylabel('Days')\n",
    "plt.title(\"Temp in F\")\n",
    "plt.xlim(1,5)\n",
    "plt.ylim(32, 100)\n",
    "plt.show()"
   ]
  },
  {
   "cell_type": "markdown",
   "metadata": {
    "colab_type": "text",
    "id": "bML_PR5TxFBn"
   },
   "source": [
    "You are also able to expand the number of lines to plot.\n",
    "\n",
    "For example:\n",
    "\n",
    "    import matplotlib.pyplot as plt                     # imports matplotlib\n",
    " \n",
    "    x1 = [1,2,3,4]                                      # x1 values\n",
    "    y1 = [1,7,3,5]                                      # y1 values\n",
    "\n",
    "    x2 = [1,2,3,4]                                      # x2 values\n",
    "    y2 = [3,4,1,7]                                      # y2 values\n",
    "\n",
    "    plt.plot(x1,y1, label='1st line', color='blue')     # plot the 1st points\n",
    "    plt.plot(x2,y2, label='2nd line', color='orange')   # plot the 2nd points\n",
    "    plt.xlabel('x values')                              # label for x values\n",
    "    plt.ylabel('y values')                              # label for y values\n",
    "    plt.legend()                                        # displays a legend for the lines\n",
    "    plt.title('Graph')                                  # label for the title\n",
    "    plt.show()                                          # display the plot to the user"
   ]
  },
  {
   "cell_type": "markdown",
   "metadata": {
    "colab_type": "text",
    "id": "YKaV1gK83-oo"
   },
   "source": [
    "**Task 2 :** Add a second plot of Seattle weather to your previous Tampa weather graph. Seattle temperatures are : [59, 70, 77, 67, 71]. The new title should be \"Tampa v. Seattle Weather\". Color the Tampa line with red and Seattle line with blue.\n",
    "\n",
    "<!-- ```\n",
    "import matplotlib.pyplot as plt     # imports matplotlib\n",
    " \n",
    "days = [1,2,3,4,5]                  # x values\n",
    "tampa = [92, 97, 96, 92, 94]        # tampa y values\n",
    "seattle = [59, 70, 77, 67, 71]      # seattle y values\n",
    "plt.plot(days,tampa, label = 'tampa', color = 'red') # plot the line\n",
    "plt.plot(days,seattle, label = 'seattle', color = 'blue') # plot the line\n",
    "plt.xlabel('Days')                  # label for x values\n",
    "plt.ylabel('Temperature in F')      # label for y values\n",
    "plt.title('Tampa v. Seattle Weather')          # label for the title\n",
    "plt.legend()\n",
    "plt.show()                          # display the plot to the user\n",
    "``` -->"
   ]
  },
  {
   "cell_type": "code",
   "execution_count": null,
   "metadata": {
    "colab": {
     "base_uri": "https://localhost:8080/",
     "height": 295
    },
    "colab_type": "code",
    "executionInfo": {
     "elapsed": 539,
     "status": "ok",
     "timestamp": 1593443891325,
     "user": {
      "displayName": "Rahul Dani",
      "photoUrl": "https://lh3.googleusercontent.com/a-/AOh14Gj4Ylyc5noiFAMi-UQaeNwk1wfY6BGY9uKNf5_8IQ=s64",
      "userId": "15518412354795461544"
     },
     "user_tz": 240
    },
    "id": "--bnkb_bp_1C",
    "outputId": "7cf9ca5e-de51-492d-ba6d-20fa5f9db11a"
   },
   "outputs": [],
   "source": []
  },
  {
   "cell_type": "markdown",
   "metadata": {
    "colab_type": "text",
    "id": "YdphgBYzB_P5"
   },
   "source": [
    "We can also make **bar graphs**. The syntax would look pretty similar!\n",
    "\n",
    "For example:\n",
    "\n",
    "    import matplotlib.pyplot as plt \n",
    "\n",
    "    movies = ['Batman Begins', 'The Dark Knight', 'The Dark Knight Rises', 'Batman V. Superman']              \n",
    "    likes = [10,25,17,5]\n",
    "    plt.figure(figsize=(10,6)) # Adjusts the size of the plot\n",
    "    plt.bar(movies,likes, color=['purple', 'orange'], width = 0.8)\n",
    "    plt.xlabel('Batman Movies')\n",
    "    plt.ylabel('Number of likes')\n",
    "    plt.title('Favorite Batman Movies')\n",
    "    plt.show()"
   ]
  },
  {
   "cell_type": "code",
   "execution_count": 4,
   "metadata": {
    "colab": {
     "base_uri": "https://localhost:8080/",
     "height": 404
    },
    "colab_type": "code",
    "executionInfo": {
     "elapsed": 345,
     "status": "ok",
     "timestamp": 1593444066928,
     "user": {
      "displayName": "Rahul Dani",
      "photoUrl": "https://lh3.googleusercontent.com/a-/AOh14Gj4Ylyc5noiFAMi-UQaeNwk1wfY6BGY9uKNf5_8IQ=s64",
      "userId": "15518412354795461544"
     },
     "user_tz": 240
    },
    "id": "PlNbkqGvqXzq",
    "outputId": "30be1c71-099a-45d5-c00d-a5bdb074714f"
   },
   "outputs": [
    {
     "data": {
      "image/png": "[encoded data removed]",
      "text/plain": [
       "<Figure size 720x432 with 1 Axes>"
      ]
     },
     "metadata": {
      "needs_background": "light"
     },
     "output_type": "display_data"
    }
   ],
   "source": [
    "import matplotlib.pyplot as plt \n",
    " \n",
    "movies = ['Batman Begins', 'The Dark Knight', 'The Dark Knight Rises', 'Batman V. Superman']              \n",
    "likes = [10,25,17,5]\n",
    "plt.figure(figsize=(10,6)) # Adjusts the size of the plot\n",
    "plt.bar(movies,likes, color=['purple', 'orange'], width = 0.8)\n",
    "plt.xlabel('Batman Movies')\n",
    "plt.ylabel('Number of likes')\n",
    "plt.title('Favorite Batman Movies')\n",
    "plt.show()"
   ]
  },
  {
   "cell_type": "markdown",
   "metadata": {
    "colab_type": "text",
    "id": "SRx_f95jCTkw"
   },
   "source": [
    "**Task 3 :** Create a bar graph of 5 pizza toppings and the number of people who like the toppings (you can make up your own numbers). Make sure to include labels and a title.\n",
    "\n",
    "<!-- ```\n",
    "import matplotlib.pyplot as plt \n",
    " \n",
    "toppings = ['Chicken', 'Pepperoni', 'Olives', 'Mushrooms','Pineapples']              \n",
    "likes = [10,25,17,17,5]\n",
    "plt.figure(figsize=(10,6)) # Adjusts the size of the plot\n",
    "plt.bar(toppings,likes, color=['purple', 'orange'], width = 0.8)\n",
    "plt.xlabel('Pizza Toppings')\n",
    "plt.ylabel('Number of likes')\n",
    "plt.title('Favorite Pizza Toppings')\n",
    "plt.show()\n",
    "``` -->\n"
   ]
  },
  {
   "cell_type": "code",
   "execution_count": null,
   "metadata": {
    "colab": {
     "base_uri": "https://localhost:8080/",
     "height": 404
    },
    "colab_type": "code",
    "executionInfo": {
     "elapsed": 445,
     "status": "ok",
     "timestamp": 1593444325001,
     "user": {
      "displayName": "Rahul Dani",
      "photoUrl": "https://lh3.googleusercontent.com/a-/AOh14Gj4Ylyc5noiFAMi-UQaeNwk1wfY6BGY9uKNf5_8IQ=s64",
      "userId": "15518412354795461544"
     },
     "user_tz": 240
    },
    "id": "1PmtUsrRxZYw",
    "outputId": "e5dc5008-424a-44b9-a5e4-2aee5d6b0598"
   },
   "outputs": [],
   "source": [
    "\n"
   ]
  },
  {
   "cell_type": "markdown",
   "metadata": {
    "colab_type": "text",
    "id": "tiRk_ykaECNC"
   },
   "source": [
    "We can expand the types of graphs we use to **scatter plots** : plt.scatter(), **pie charts** : plt.pie(), **histograms** : plt.hist(), etc. "
   ]
  },
  {
   "cell_type": "markdown",
   "metadata": {
    "colab_type": "text",
    "id": "VCLMxcYpEdqi"
   },
   "source": [
    "If you want to graph a function, we would need to use the **numpy** library, it would look this:\n",
    "\n",
    "    import matplotlib.pyplot as plt\n",
    "    import numpy as np\n",
    "\n",
    "    x = np.linspace(-10,10)  # Specifies the x values of the function\n",
    "    y = x\n",
    "\n",
    "    plt.title('Graph of y=x')\n",
    "    plt.xlabel('x axis')\n",
    "    plt.ylabel('y axis')\n",
    "    plt.plot(x,y)\n",
    "    plt.show()\n",
    "\n"
   ]
  },
  {
   "cell_type": "code",
   "execution_count": 5,
   "metadata": {
    "colab": {
     "base_uri": "https://localhost:8080/",
     "height": 295
    },
    "colab_type": "code",
    "executionInfo": {
     "elapsed": 460,
     "status": "ok",
     "timestamp": 1593444407515,
     "user": {
      "displayName": "Rahul Dani",
      "photoUrl": "https://lh3.googleusercontent.com/a-/AOh14Gj4Ylyc5noiFAMi-UQaeNwk1wfY6BGY9uKNf5_8IQ=s64",
      "userId": "15518412354795461544"
     },
     "user_tz": 240
    },
    "id": "s0BDBfwiCiyk",
    "outputId": "f4a1b7a2-a3fa-4834-d518-7dce9bc454ff"
   },
   "outputs": [
    {
     "data": {
      "image/png": "[encoded data removed]",
      "text/plain": [
       "<Figure size 432x288 with 1 Axes>"
      ]
     },
     "metadata": {
      "needs_background": "light"
     },
     "output_type": "display_data"
    }
   ],
   "source": [
    "import matplotlib.pyplot as plt\n",
    "import numpy as np\n",
    " \n",
    "x = np.linspace(-10,10)  # Specifies the x values of the function\n",
    "y = x\n",
    " \n",
    "plt.title('Graph of y=x')\n",
    "plt.xlabel('x axis')\n",
    "plt.ylabel('y axis')\n",
    "plt.plot(x,y)\n",
    "plt.show()"
   ]
  },
  {
   "cell_type": "markdown",
   "metadata": {
    "colab_type": "text",
    "id": "DWZytiSgG0Gw"
   },
   "source": [
    "**Task 4 :** Graph y=x^2 from -20 to 20. Make sure include labels and a title.\n",
    "\n",
    "<!-- ```\n",
    "import matplotlib.pyplot as plt\n",
    "import numpy as np\n",
    "\n",
    "x = np.linspace(-20,20)\n",
    "y = x**2\n",
    "\n",
    "plt.title('Graph of y=x^2')\n",
    "plt.xlabel('x axis')\n",
    "plt.ylabel('y axis')\n",
    "plt.plot(x,y)\n",
    "plt.show()\n",
    "``` -->"
   ]
  },
  {
   "cell_type": "code",
   "execution_count": null,
   "metadata": {
    "colab": {
     "base_uri": "https://localhost:8080/",
     "height": 295
    },
    "colab_type": "code",
    "executionInfo": {
     "elapsed": 487,
     "status": "ok",
     "timestamp": 1593444533591,
     "user": {
      "displayName": "Rahul Dani",
      "photoUrl": "https://lh3.googleusercontent.com/a-/AOh14Gj4Ylyc5noiFAMi-UQaeNwk1wfY6BGY9uKNf5_8IQ=s64",
      "userId": "15518412354795461544"
     },
     "user_tz": 240
    },
    "id": "K5KVma3rHQah",
    "outputId": "08b33577-f2c1-4753-e46f-48b529f07129"
   },
   "outputs": [],
   "source": []
  },
  {
   "cell_type": "markdown",
   "metadata": {
    "colab_type": "text",
    "id": "f98Z43wYJ8lW"
   },
   "source": [
    "**Optional:** For those of you who are in a more advanced math class, this is how you can plot sin(x) and cos(x):\n",
    "\n",
    "    import matplotlib.pyplot as plt\n",
    "    import numpy as np\n",
    "\n",
    "    x = np.linspace(0,2*np.pi)\n",
    "    y1 = np.sin(x)\n",
    "    y2 = np.cos(x)\n",
    "\n",
    "    plt.xlim(0,2*np.pi)\n",
    "    plt.plot(x,y1,label='sin(x)')\n",
    "    plt.plot(x,y2,label='cos(x)')\n",
    "    plt.legend()\n",
    "    plt.show()"
   ]
  },
  {
   "cell_type": "code",
   "execution_count": 6,
   "metadata": {
    "colab": {
     "base_uri": "https://localhost:8080/",
     "height": 265
    },
    "colab_type": "code",
    "executionInfo": {
     "elapsed": 525,
     "status": "ok",
     "timestamp": 1593444573137,
     "user": {
      "displayName": "Rahul Dani",
      "photoUrl": "https://lh3.googleusercontent.com/a-/AOh14Gj4Ylyc5noiFAMi-UQaeNwk1wfY6BGY9uKNf5_8IQ=s64",
      "userId": "15518412354795461544"
     },
     "user_tz": 240
    },
    "id": "QA-Wj1YdEujv",
    "outputId": "711f3f82-9210-43a3-b04d-4df37d960d9b"
   },
   "outputs": [
    {
     "data": {
      "image/png": "[encoded data removed]",
      "text/plain": [
       "<Figure size 432x288 with 1 Axes>"
      ]
     },
     "metadata": {
      "needs_background": "light"
     },
     "output_type": "display_data"
    }
   ],
   "source": [
    "import matplotlib.pyplot as plt\n",
    "import numpy as np\n",
    " \n",
    "x = np.linspace(0,2*np.pi)\n",
    "y1 = np.sin(x)\n",
    "y2 = np.cos(x)\n",
    " \n",
    "plt.xlim(0,2*np.pi)\n",
    "plt.plot(x,y1,label='sin(x)')\n",
    "plt.plot(x,y2,label='cos(x)')\n",
    "plt.legend()\n",
    "plt.show()"
   ]
  },
  {
   "cell_type": "markdown",
   "metadata": {
    "colab_type": "text",
    "id": "F4OIW7MwN6t5"
   },
   "source": [
    "**Note:**\n",
    "\n",
    "Numpy contains various math functions such as ln(x), e^(x), sqrt(x), etc.\n",
    "\n",
    "You are also able to perform Calculus operations on functions such as limits, derivates, integrals, etc."
   ]
  },
  {
   "cell_type": "markdown",
   "metadata": {
    "colab_type": "text",
    "id": "jr2B7TOaOs0w"
   },
   "source": [
    "## Topic 2 : Data Analysis"
   ]
  },
  {
   "cell_type": "markdown",
   "metadata": {
    "colab_type": "text",
    "id": "4I6uM__sRv_o"
   },
   "source": [
    "There is a powerful library in python for data analysis known as **pandas**. In pandas, we refer to data tables as dataframes.\n",
    "\n",
    "In order to install pandas, we run:\n",
    "\n",
    "    pip install pandas\n",
    "\n",
    "For this section we will use nytimes dataset for COVID-19 and examine some features: https://github.com/nytimes/covid-19-data/tree/master/live\n",
    "\n",
    "Copy and paste the following lines of code:\n",
    "\n",
    "    import pandas as pd\n",
    "\n",
    "    url = 'https://raw.githubusercontent.com/nytimes/covid-19-data/master/live/us-states.csv'\n",
    "    data = pd.read_csv(url, error_bad_lines=False)\n",
    "    data"
   ]
  },
  {
   "cell_type": "code",
   "execution_count": 7,
   "metadata": {
    "colab": {
     "base_uri": "https://localhost:8080/",
     "height": 1000
    },
    "colab_type": "code",
    "executionInfo": {
     "elapsed": 310,
     "status": "ok",
     "timestamp": 1593444801750,
     "user": {
      "displayName": "Rahul Dani",
      "photoUrl": "https://lh3.googleusercontent.com/a-/AOh14Gj4Ylyc5noiFAMi-UQaeNwk1wfY6BGY9uKNf5_8IQ=s64",
      "userId": "15518412354795461544"
     },
     "user_tz": 240
    },
    "id": "uxz520JZQag-",
    "outputId": "f9cf7f55-3618-4b4b-c0a0-2eeade9d6278"
   },
   "outputs": [
    {
     "data": {
      "text/html": [
       "<div>\n",
       "<style scoped>\n",
       "    .dataframe tbody tr th:only-of-type {\n",
       "        vertical-align: middle;\n",
       "    }\n",
       "\n",
       "    .dataframe tbody tr th {\n",
       "        vertical-align: top;\n",
       "    }\n",
       "\n",
       "    .dataframe thead th {\n",
       "        text-align: right;\n",
       "    }\n",
       "</style>\n",
       "<table border=\"1\" class=\"dataframe\">\n",
       "  <thead>\n",
       "    <tr style=\"text-align: right;\">\n",
       "      <th></th>\n",
       "      <th>date</th>\n",
       "      <th>state</th>\n",
       "      <th>fips</th>\n",
       "      <th>cases</th>\n",
       "      <th>deaths</th>\n",
       "      <th>confirmed_cases</th>\n",
       "      <th>confirmed_deaths</th>\n",
       "      <th>probable_cases</th>\n",
       "      <th>probable_deaths</th>\n",
       "    </tr>\n",
       "  </thead>\n",
       "  <tbody>\n",
       "    <tr>\n",
       "      <th>0</th>\n",
       "      <td>2020-08-26</td>\n",
       "      <td>Alabama</td>\n",
       "      <td>1</td>\n",
       "      <td>119254</td>\n",
       "      <td>2045</td>\n",
       "      <td>112126.0</td>\n",
       "      <td>1965.0</td>\n",
       "      <td>7128.0</td>\n",
       "      <td>80.0</td>\n",
       "    </tr>\n",
       "    <tr>\n",
       "      <th>1</th>\n",
       "      <td>2020-08-26</td>\n",
       "      <td>Alaska</td>\n",
       "      <td>2</td>\n",
       "      <td>5621</td>\n",
       "      <td>33</td>\n",
       "      <td>5621.0</td>\n",
       "      <td>33.0</td>\n",
       "      <td>0.0</td>\n",
       "      <td>0.0</td>\n",
       "    </tr>\n",
       "    <tr>\n",
       "      <th>2</th>\n",
       "      <td>2020-08-26</td>\n",
       "      <td>Arizona</td>\n",
       "      <td>4</td>\n",
       "      <td>199486</td>\n",
       "      <td>4898</td>\n",
       "      <td>NaN</td>\n",
       "      <td>NaN</td>\n",
       "      <td>NaN</td>\n",
       "      <td>NaN</td>\n",
       "    </tr>\n",
       "    <tr>\n",
       "      <th>3</th>\n",
       "      <td>2020-08-26</td>\n",
       "      <td>Arkansas</td>\n",
       "      <td>5</td>\n",
       "      <td>57374</td>\n",
       "      <td>711</td>\n",
       "      <td>57374.0</td>\n",
       "      <td>711.0</td>\n",
       "      <td>0.0</td>\n",
       "      <td>0.0</td>\n",
       "    </tr>\n",
       "    <tr>\n",
       "      <th>4</th>\n",
       "      <td>2020-08-26</td>\n",
       "      <td>California</td>\n",
       "      <td>6</td>\n",
       "      <td>682476</td>\n",
       "      <td>12412</td>\n",
       "      <td>682476.0</td>\n",
       "      <td>12412.0</td>\n",
       "      <td>0.0</td>\n",
       "      <td>0.0</td>\n",
       "    </tr>\n",
       "    <tr>\n",
       "      <th>5</th>\n",
       "      <td>2020-08-26</td>\n",
       "      <td>Colorado</td>\n",
       "      <td>8</td>\n",
       "      <td>56233</td>\n",
       "      <td>1932</td>\n",
       "      <td>NaN</td>\n",
       "      <td>NaN</td>\n",
       "      <td>NaN</td>\n",
       "      <td>NaN</td>\n",
       "    </tr>\n",
       "    <tr>\n",
       "      <th>6</th>\n",
       "      <td>2020-08-26</td>\n",
       "      <td>Connecticut</td>\n",
       "      <td>9</td>\n",
       "      <td>52040</td>\n",
       "      <td>4463</td>\n",
       "      <td>NaN</td>\n",
       "      <td>NaN</td>\n",
       "      <td>NaN</td>\n",
       "      <td>NaN</td>\n",
       "    </tr>\n",
       "    <tr>\n",
       "      <th>7</th>\n",
       "      <td>2020-08-26</td>\n",
       "      <td>Delaware</td>\n",
       "      <td>10</td>\n",
       "      <td>16962</td>\n",
       "      <td>603</td>\n",
       "      <td>NaN</td>\n",
       "      <td>NaN</td>\n",
       "      <td>NaN</td>\n",
       "      <td>NaN</td>\n",
       "    </tr>\n",
       "    <tr>\n",
       "      <th>8</th>\n",
       "      <td>2020-08-26</td>\n",
       "      <td>District of Columbia</td>\n",
       "      <td>11</td>\n",
       "      <td>13722</td>\n",
       "      <td>605</td>\n",
       "      <td>13722.0</td>\n",
       "      <td>605.0</td>\n",
       "      <td>0.0</td>\n",
       "      <td>0.0</td>\n",
       "    </tr>\n",
       "    <tr>\n",
       "      <th>9</th>\n",
       "      <td>2020-08-26</td>\n",
       "      <td>Florida</td>\n",
       "      <td>12</td>\n",
       "      <td>608714</td>\n",
       "      <td>10732</td>\n",
       "      <td>0.0</td>\n",
       "      <td>10732.0</td>\n",
       "      <td>608714.0</td>\n",
       "      <td>0.0</td>\n",
       "    </tr>\n",
       "    <tr>\n",
       "      <th>10</th>\n",
       "      <td>2020-08-26</td>\n",
       "      <td>Georgia</td>\n",
       "      <td>13</td>\n",
       "      <td>241865</td>\n",
       "      <td>5147</td>\n",
       "      <td>241865.0</td>\n",
       "      <td>5147.0</td>\n",
       "      <td>0.0</td>\n",
       "      <td>0.0</td>\n",
       "    </tr>\n",
       "    <tr>\n",
       "      <th>11</th>\n",
       "      <td>2020-08-26</td>\n",
       "      <td>Guam</td>\n",
       "      <td>66</td>\n",
       "      <td>2089</td>\n",
       "      <td>10</td>\n",
       "      <td>2081.0</td>\n",
       "      <td>10.0</td>\n",
       "      <td>8.0</td>\n",
       "      <td>0.0</td>\n",
       "    </tr>\n",
       "    <tr>\n",
       "      <th>12</th>\n",
       "      <td>2020-08-26</td>\n",
       "      <td>Hawaii</td>\n",
       "      <td>15</td>\n",
       "      <td>6961</td>\n",
       "      <td>48</td>\n",
       "      <td>NaN</td>\n",
       "      <td>NaN</td>\n",
       "      <td>NaN</td>\n",
       "      <td>NaN</td>\n",
       "    </tr>\n",
       "    <tr>\n",
       "      <th>13</th>\n",
       "      <td>2020-08-26</td>\n",
       "      <td>Idaho</td>\n",
       "      <td>16</td>\n",
       "      <td>30648</td>\n",
       "      <td>328</td>\n",
       "      <td>28412.0</td>\n",
       "      <td>293.0</td>\n",
       "      <td>2236.0</td>\n",
       "      <td>35.0</td>\n",
       "    </tr>\n",
       "    <tr>\n",
       "      <th>14</th>\n",
       "      <td>2020-08-26</td>\n",
       "      <td>Illinois</td>\n",
       "      <td>17</td>\n",
       "      <td>225830</td>\n",
       "      <td>8155</td>\n",
       "      <td>224413.0</td>\n",
       "      <td>7946.0</td>\n",
       "      <td>1417.0</td>\n",
       "      <td>209.0</td>\n",
       "    </tr>\n",
       "    <tr>\n",
       "      <th>15</th>\n",
       "      <td>2020-08-26</td>\n",
       "      <td>Indiana</td>\n",
       "      <td>18</td>\n",
       "      <td>91403</td>\n",
       "      <td>3259</td>\n",
       "      <td>89359.0</td>\n",
       "      <td>3041.0</td>\n",
       "      <td>2044.0</td>\n",
       "      <td>218.0</td>\n",
       "    </tr>\n",
       "    <tr>\n",
       "      <th>16</th>\n",
       "      <td>2020-08-26</td>\n",
       "      <td>Iowa</td>\n",
       "      <td>19</td>\n",
       "      <td>58019</td>\n",
       "      <td>1062</td>\n",
       "      <td>58019.0</td>\n",
       "      <td>1062.0</td>\n",
       "      <td>0.0</td>\n",
       "      <td>0.0</td>\n",
       "    </tr>\n",
       "    <tr>\n",
       "      <th>17</th>\n",
       "      <td>2020-08-26</td>\n",
       "      <td>Kansas</td>\n",
       "      <td>20</td>\n",
       "      <td>39370</td>\n",
       "      <td>437</td>\n",
       "      <td>NaN</td>\n",
       "      <td>NaN</td>\n",
       "      <td>NaN</td>\n",
       "      <td>NaN</td>\n",
       "    </tr>\n",
       "    <tr>\n",
       "      <th>18</th>\n",
       "      <td>2020-08-26</td>\n",
       "      <td>Kentucky</td>\n",
       "      <td>21</td>\n",
       "      <td>46940</td>\n",
       "      <td>919</td>\n",
       "      <td>NaN</td>\n",
       "      <td>NaN</td>\n",
       "      <td>NaN</td>\n",
       "      <td>NaN</td>\n",
       "    </tr>\n",
       "    <tr>\n",
       "      <th>19</th>\n",
       "      <td>2020-08-26</td>\n",
       "      <td>Louisiana</td>\n",
       "      <td>22</td>\n",
       "      <td>144257</td>\n",
       "      <td>4797</td>\n",
       "      <td>144116.0</td>\n",
       "      <td>4656.0</td>\n",
       "      <td>141.0</td>\n",
       "      <td>141.0</td>\n",
       "    </tr>\n",
       "    <tr>\n",
       "      <th>20</th>\n",
       "      <td>2020-08-26</td>\n",
       "      <td>Maine</td>\n",
       "      <td>23</td>\n",
       "      <td>4389</td>\n",
       "      <td>132</td>\n",
       "      <td>3942.0</td>\n",
       "      <td>132.0</td>\n",
       "      <td>447.0</td>\n",
       "      <td>0.0</td>\n",
       "    </tr>\n",
       "    <tr>\n",
       "      <th>21</th>\n",
       "      <td>2020-08-26</td>\n",
       "      <td>Maryland</td>\n",
       "      <td>24</td>\n",
       "      <td>105942</td>\n",
       "      <td>3717</td>\n",
       "      <td>105823.0</td>\n",
       "      <td>3575.0</td>\n",
       "      <td>119.0</td>\n",
       "      <td>142.0</td>\n",
       "    </tr>\n",
       "    <tr>\n",
       "      <th>22</th>\n",
       "      <td>2020-08-26</td>\n",
       "      <td>Massachusetts</td>\n",
       "      <td>25</td>\n",
       "      <td>126420</td>\n",
       "      <td>8961</td>\n",
       "      <td>116770.0</td>\n",
       "      <td>8729.0</td>\n",
       "      <td>9650.0</td>\n",
       "      <td>232.0</td>\n",
       "    </tr>\n",
       "    <tr>\n",
       "      <th>23</th>\n",
       "      <td>2020-08-26</td>\n",
       "      <td>Michigan</td>\n",
       "      <td>26</td>\n",
       "      <td>108751</td>\n",
       "      <td>6687</td>\n",
       "      <td>98346.0</td>\n",
       "      <td>6419.0</td>\n",
       "      <td>10405.0</td>\n",
       "      <td>268.0</td>\n",
       "    </tr>\n",
       "    <tr>\n",
       "      <th>24</th>\n",
       "      <td>2020-08-26</td>\n",
       "      <td>Minnesota</td>\n",
       "      <td>27</td>\n",
       "      <td>70753</td>\n",
       "      <td>1825</td>\n",
       "      <td>70707.0</td>\n",
       "      <td>1779.0</td>\n",
       "      <td>46.0</td>\n",
       "      <td>46.0</td>\n",
       "    </tr>\n",
       "    <tr>\n",
       "      <th>25</th>\n",
       "      <td>2020-08-26</td>\n",
       "      <td>Mississippi</td>\n",
       "      <td>28</td>\n",
       "      <td>79206</td>\n",
       "      <td>2315</td>\n",
       "      <td>76228.0</td>\n",
       "      <td>2201.0</td>\n",
       "      <td>2978.0</td>\n",
       "      <td>114.0</td>\n",
       "    </tr>\n",
       "    <tr>\n",
       "      <th>26</th>\n",
       "      <td>2020-08-26</td>\n",
       "      <td>Missouri</td>\n",
       "      <td>29</td>\n",
       "      <td>78278</td>\n",
       "      <td>1555</td>\n",
       "      <td>78073.0</td>\n",
       "      <td>1554.0</td>\n",
       "      <td>205.0</td>\n",
       "      <td>1.0</td>\n",
       "    </tr>\n",
       "    <tr>\n",
       "      <th>27</th>\n",
       "      <td>2020-08-26</td>\n",
       "      <td>Montana</td>\n",
       "      <td>30</td>\n",
       "      <td>6649</td>\n",
       "      <td>97</td>\n",
       "      <td>6647.0</td>\n",
       "      <td>97.0</td>\n",
       "      <td>2.0</td>\n",
       "      <td>0.0</td>\n",
       "    </tr>\n",
       "    <tr>\n",
       "      <th>28</th>\n",
       "      <td>2020-08-26</td>\n",
       "      <td>Nebraska</td>\n",
       "      <td>31</td>\n",
       "      <td>32393</td>\n",
       "      <td>388</td>\n",
       "      <td>32393.0</td>\n",
       "      <td>388.0</td>\n",
       "      <td>0.0</td>\n",
       "      <td>0.0</td>\n",
       "    </tr>\n",
       "    <tr>\n",
       "      <th>29</th>\n",
       "      <td>2020-08-26</td>\n",
       "      <td>Nevada</td>\n",
       "      <td>32</td>\n",
       "      <td>66528</td>\n",
       "      <td>1230</td>\n",
       "      <td>66520.0</td>\n",
       "      <td>1230.0</td>\n",
       "      <td>8.0</td>\n",
       "      <td>0.0</td>\n",
       "    </tr>\n",
       "    <tr>\n",
       "      <th>30</th>\n",
       "      <td>2020-08-26</td>\n",
       "      <td>New Hampshire</td>\n",
       "      <td>33</td>\n",
       "      <td>7150</td>\n",
       "      <td>429</td>\n",
       "      <td>7150.0</td>\n",
       "      <td>429.0</td>\n",
       "      <td>0.0</td>\n",
       "      <td>0.0</td>\n",
       "    </tr>\n",
       "    <tr>\n",
       "      <th>31</th>\n",
       "      <td>2020-08-26</td>\n",
       "      <td>New Jersey</td>\n",
       "      <td>34</td>\n",
       "      <td>191850</td>\n",
       "      <td>15953</td>\n",
       "      <td>190021.0</td>\n",
       "      <td>14124.0</td>\n",
       "      <td>1829.0</td>\n",
       "      <td>1829.0</td>\n",
       "    </tr>\n",
       "    <tr>\n",
       "      <th>32</th>\n",
       "      <td>2020-08-26</td>\n",
       "      <td>New Mexico</td>\n",
       "      <td>35</td>\n",
       "      <td>24535</td>\n",
       "      <td>750</td>\n",
       "      <td>24535.0</td>\n",
       "      <td>750.0</td>\n",
       "      <td>0.0</td>\n",
       "      <td>0.0</td>\n",
       "    </tr>\n",
       "    <tr>\n",
       "      <th>33</th>\n",
       "      <td>2020-08-26</td>\n",
       "      <td>New York</td>\n",
       "      <td>36</td>\n",
       "      <td>435495</td>\n",
       "      <td>32495</td>\n",
       "      <td>430858.0</td>\n",
       "      <td>27858.0</td>\n",
       "      <td>4637.0</td>\n",
       "      <td>4637.0</td>\n",
       "    </tr>\n",
       "    <tr>\n",
       "      <th>34</th>\n",
       "      <td>2020-08-26</td>\n",
       "      <td>North Carolina</td>\n",
       "      <td>37</td>\n",
       "      <td>158300</td>\n",
       "      <td>2607</td>\n",
       "      <td>158231.0</td>\n",
       "      <td>2607.0</td>\n",
       "      <td>69.0</td>\n",
       "      <td>0.0</td>\n",
       "    </tr>\n",
       "    <tr>\n",
       "      <th>35</th>\n",
       "      <td>2020-08-26</td>\n",
       "      <td>North Dakota</td>\n",
       "      <td>38</td>\n",
       "      <td>10471</td>\n",
       "      <td>142</td>\n",
       "      <td>10467.0</td>\n",
       "      <td>138.0</td>\n",
       "      <td>4.0</td>\n",
       "      <td>4.0</td>\n",
       "    </tr>\n",
       "    <tr>\n",
       "      <th>36</th>\n",
       "      <td>2020-08-26</td>\n",
       "      <td>Northern Mariana Islands</td>\n",
       "      <td>69</td>\n",
       "      <td>54</td>\n",
       "      <td>2</td>\n",
       "      <td>54.0</td>\n",
       "      <td>2.0</td>\n",
       "      <td>0.0</td>\n",
       "      <td>0.0</td>\n",
       "    </tr>\n",
       "    <tr>\n",
       "      <th>37</th>\n",
       "      <td>2020-08-26</td>\n",
       "      <td>Ohio</td>\n",
       "      <td>39</td>\n",
       "      <td>116495</td>\n",
       "      <td>3996</td>\n",
       "      <td>NaN</td>\n",
       "      <td>NaN</td>\n",
       "      <td>NaN</td>\n",
       "      <td>NaN</td>\n",
       "    </tr>\n",
       "    <tr>\n",
       "      <th>38</th>\n",
       "      <td>2020-08-26</td>\n",
       "      <td>Oklahoma</td>\n",
       "      <td>40</td>\n",
       "      <td>54172</td>\n",
       "      <td>744</td>\n",
       "      <td>54172.0</td>\n",
       "      <td>744.0</td>\n",
       "      <td>0.0</td>\n",
       "      <td>0.0</td>\n",
       "    </tr>\n",
       "    <tr>\n",
       "      <th>39</th>\n",
       "      <td>2020-08-26</td>\n",
       "      <td>Oregon</td>\n",
       "      <td>41</td>\n",
       "      <td>25408</td>\n",
       "      <td>436</td>\n",
       "      <td>24444.0</td>\n",
       "      <td>257.0</td>\n",
       "      <td>964.0</td>\n",
       "      <td>179.0</td>\n",
       "    </tr>\n",
       "    <tr>\n",
       "      <th>40</th>\n",
       "      <td>2020-08-26</td>\n",
       "      <td>Pennsylvania</td>\n",
       "      <td>42</td>\n",
       "      <td>135156</td>\n",
       "      <td>7687</td>\n",
       "      <td>NaN</td>\n",
       "      <td>NaN</td>\n",
       "      <td>NaN</td>\n",
       "      <td>NaN</td>\n",
       "    </tr>\n",
       "    <tr>\n",
       "      <th>41</th>\n",
       "      <td>2020-08-26</td>\n",
       "      <td>Puerto Rico</td>\n",
       "      <td>72</td>\n",
       "      <td>30744</td>\n",
       "      <td>404</td>\n",
       "      <td>14010.0</td>\n",
       "      <td>263.0</td>\n",
       "      <td>16734.0</td>\n",
       "      <td>141.0</td>\n",
       "    </tr>\n",
       "    <tr>\n",
       "      <th>42</th>\n",
       "      <td>2020-08-26</td>\n",
       "      <td>Rhode Island</td>\n",
       "      <td>44</td>\n",
       "      <td>21454</td>\n",
       "      <td>1041</td>\n",
       "      <td>21454.0</td>\n",
       "      <td>1041.0</td>\n",
       "      <td>0.0</td>\n",
       "      <td>0.0</td>\n",
       "    </tr>\n",
       "    <tr>\n",
       "      <th>43</th>\n",
       "      <td>2020-08-26</td>\n",
       "      <td>South Carolina</td>\n",
       "      <td>45</td>\n",
       "      <td>113488</td>\n",
       "      <td>2529</td>\n",
       "      <td>112088.0</td>\n",
       "      <td>2408.0</td>\n",
       "      <td>1400.0</td>\n",
       "      <td>121.0</td>\n",
       "    </tr>\n",
       "    <tr>\n",
       "      <th>44</th>\n",
       "      <td>2020-08-26</td>\n",
       "      <td>South Dakota</td>\n",
       "      <td>46</td>\n",
       "      <td>11505</td>\n",
       "      <td>161</td>\n",
       "      <td>11503.0</td>\n",
       "      <td>NaN</td>\n",
       "      <td>2.0</td>\n",
       "      <td>NaN</td>\n",
       "    </tr>\n",
       "    <tr>\n",
       "      <th>45</th>\n",
       "      <td>2020-08-26</td>\n",
       "      <td>Tennessee</td>\n",
       "      <td>47</td>\n",
       "      <td>142717</td>\n",
       "      <td>1605</td>\n",
       "      <td>139644.0</td>\n",
       "      <td>708.0</td>\n",
       "      <td>3073.0</td>\n",
       "      <td>897.0</td>\n",
       "    </tr>\n",
       "    <tr>\n",
       "      <th>46</th>\n",
       "      <td>2020-08-26</td>\n",
       "      <td>Texas</td>\n",
       "      <td>48</td>\n",
       "      <td>613903</td>\n",
       "      <td>12014</td>\n",
       "      <td>591841.0</td>\n",
       "      <td>8588.0</td>\n",
       "      <td>22062.0</td>\n",
       "      <td>3426.0</td>\n",
       "    </tr>\n",
       "    <tr>\n",
       "      <th>47</th>\n",
       "      <td>2020-08-26</td>\n",
       "      <td>Utah</td>\n",
       "      <td>49</td>\n",
       "      <td>49879</td>\n",
       "      <td>398</td>\n",
       "      <td>29945.0</td>\n",
       "      <td>267.0</td>\n",
       "      <td>19934.0</td>\n",
       "      <td>131.0</td>\n",
       "    </tr>\n",
       "    <tr>\n",
       "      <th>48</th>\n",
       "      <td>2020-08-26</td>\n",
       "      <td>Vermont</td>\n",
       "      <td>50</td>\n",
       "      <td>1577</td>\n",
       "      <td>58</td>\n",
       "      <td>1577.0</td>\n",
       "      <td>58.0</td>\n",
       "      <td>0.0</td>\n",
       "      <td>0.0</td>\n",
       "    </tr>\n",
       "    <tr>\n",
       "      <th>49</th>\n",
       "      <td>2020-08-26</td>\n",
       "      <td>Virginia</td>\n",
       "      <td>51</td>\n",
       "      <td>115458</td>\n",
       "      <td>2515</td>\n",
       "      <td>NaN</td>\n",
       "      <td>NaN</td>\n",
       "      <td>NaN</td>\n",
       "      <td>NaN</td>\n",
       "    </tr>\n",
       "    <tr>\n",
       "      <th>50</th>\n",
       "      <td>2020-08-26</td>\n",
       "      <td>Virgin Islands</td>\n",
       "      <td>78</td>\n",
       "      <td>1030</td>\n",
       "      <td>14</td>\n",
       "      <td>1030.0</td>\n",
       "      <td>14.0</td>\n",
       "      <td>0.0</td>\n",
       "      <td>0.0</td>\n",
       "    </tr>\n",
       "    <tr>\n",
       "      <th>51</th>\n",
       "      <td>2020-08-26</td>\n",
       "      <td>Washington</td>\n",
       "      <td>53</td>\n",
       "      <td>74635</td>\n",
       "      <td>1963</td>\n",
       "      <td>72757.0</td>\n",
       "      <td>1890.0</td>\n",
       "      <td>1878.0</td>\n",
       "      <td>73.0</td>\n",
       "    </tr>\n",
       "    <tr>\n",
       "      <th>52</th>\n",
       "      <td>2020-08-26</td>\n",
       "      <td>West Virginia</td>\n",
       "      <td>54</td>\n",
       "      <td>9540</td>\n",
       "      <td>190</td>\n",
       "      <td>9364.0</td>\n",
       "      <td>189.0</td>\n",
       "      <td>176.0</td>\n",
       "      <td>1.0</td>\n",
       "    </tr>\n",
       "    <tr>\n",
       "      <th>53</th>\n",
       "      <td>2020-08-26</td>\n",
       "      <td>Wisconsin</td>\n",
       "      <td>55</td>\n",
       "      <td>76498</td>\n",
       "      <td>1106</td>\n",
       "      <td>71684.0</td>\n",
       "      <td>1098.0</td>\n",
       "      <td>4814.0</td>\n",
       "      <td>8.0</td>\n",
       "    </tr>\n",
       "    <tr>\n",
       "      <th>54</th>\n",
       "      <td>2020-08-26</td>\n",
       "      <td>Wyoming</td>\n",
       "      <td>56</td>\n",
       "      <td>3634</td>\n",
       "      <td>37</td>\n",
       "      <td>3089.0</td>\n",
       "      <td>NaN</td>\n",
       "      <td>545.0</td>\n",
       "      <td>NaN</td>\n",
       "    </tr>\n",
       "  </tbody>\n",
       "</table>\n",
       "</div>"
      ],
      "text/plain": [
       "          date                     state  fips   cases  deaths  \\\n",
       "0   2020-08-26                   Alabama     1  119254    2045   \n",
       "1   2020-08-26                    Alaska     2    5621      33   \n",
       "2   2020-08-26                   Arizona     4  199486    4898   \n",
       "3   2020-08-26                  Arkansas     5   57374     711   \n",
       "4   2020-08-26                California     6  682476   12412   \n",
       "5   2020-08-26                  Colorado     8   56233    1932   \n",
       "6   2020-08-26               Connecticut     9   52040    4463   \n",
       "7   2020-08-26                  Delaware    10   16962     603   \n",
       "8   2020-08-26      District of Columbia    11   13722     605   \n",
       "9   2020-08-26                   Florida    12  608714   10732   \n",
       "10  2020-08-26                   Georgia    13  241865    5147   \n",
       "11  2020-08-26                      Guam    66    2089      10   \n",
       "12  2020-08-26                    Hawaii    15    6961      48   \n",
       "13  2020-08-26                     Idaho    16   30648     328   \n",
       "14  2020-08-26                  Illinois    17  225830    8155   \n",
       "15  2020-08-26                   Indiana    18   91403    3259   \n",
       "16  2020-08-26                      Iowa    19   58019    1062   \n",
       "17  2020-08-26                    Kansas    20   39370     437   \n",
       "18  2020-08-26                  Kentucky    21   46940     919   \n",
       "19  2020-08-26                 Louisiana    22  144257    4797   \n",
       "20  2020-08-26                     Maine    23    4389     132   \n",
       "21  2020-08-26                  Maryland    24  105942    3717   \n",
       "22  2020-08-26             Massachusetts    25  126420    8961   \n",
       "23  2020-08-26                  Michigan    26  108751    6687   \n",
       "24  2020-08-26                 Minnesota    27   70753    1825   \n",
       "25  2020-08-26               Mississippi    28   79206    2315   \n",
       "26  2020-08-26                  Missouri    29   78278    1555   \n",
       "27  2020-08-26                   Montana    30    6649      97   \n",
       "28  2020-08-26                  Nebraska    31   32393     388   \n",
       "29  2020-08-26                    Nevada    32   66528    1230   \n",
       "30  2020-08-26             New Hampshire    33    7150     429   \n",
       "31  2020-08-26                New Jersey    34  191850   15953   \n",
       "32  2020-08-26                New Mexico    35   24535     750   \n",
       "33  2020-08-26                  New York    36  435495   32495   \n",
       "34  2020-08-26            North Carolina    37  158300    2607   \n",
       "35  2020-08-26              North Dakota    38   10471     142   \n",
       "36  2020-08-26  Northern Mariana Islands    69      54       2   \n",
       "37  2020-08-26                      Ohio    39  116495    3996   \n",
       "38  2020-08-26                  Oklahoma    40   54172     744   \n",
       "39  2020-08-26                    Oregon    41   25408     436   \n",
       "40  2020-08-26              Pennsylvania    42  135156    7687   \n",
       "41  2020-08-26               Puerto Rico    72   30744     404   \n",
       "42  2020-08-26              Rhode Island    44   21454    1041   \n",
       "43  2020-08-26            South Carolina    45  113488    2529   \n",
       "44  2020-08-26              South Dakota    46   11505     161   \n",
       "45  2020-08-26                 Tennessee    47  142717    1605   \n",
       "46  2020-08-26                     Texas    48  613903   12014   \n",
       "47  2020-08-26                      Utah    49   49879     398   \n",
       "48  2020-08-26                   Vermont    50    1577      58   \n",
       "49  2020-08-26                  Virginia    51  115458    2515   \n",
       "50  2020-08-26            Virgin Islands    78    1030      14   \n",
       "51  2020-08-26                Washington    53   74635    1963   \n",
       "52  2020-08-26             West Virginia    54    9540     190   \n",
       "53  2020-08-26                 Wisconsin    55   76498    1106   \n",
       "54  2020-08-26                   Wyoming    56    3634      37   \n",
       "\n",
       "    confirmed_cases  confirmed_deaths  probable_cases  probable_deaths  \n",
       "0          112126.0            1965.0          7128.0             80.0  \n",
       "1            5621.0              33.0             0.0              0.0  \n",
       "2               NaN               NaN             NaN              NaN  \n",
       "3           57374.0             711.0             0.0              0.0  \n",
       "4          682476.0           12412.0             0.0              0.0  \n",
       "5               NaN               NaN             NaN              NaN  \n",
       "6               NaN               NaN             NaN              NaN  \n",
       "7               NaN               NaN             NaN              NaN  \n",
       "8           13722.0             605.0             0.0              0.0  \n",
       "9               0.0           10732.0        608714.0              0.0  \n",
       "10         241865.0            5147.0             0.0              0.0  \n",
       "11           2081.0              10.0             8.0              0.0  \n",
       "12              NaN               NaN             NaN              NaN  \n",
       "13          28412.0             293.0          2236.0             35.0  \n",
       "14         224413.0            7946.0          1417.0            209.0  \n",
       "15          89359.0            3041.0          2044.0            218.0  \n",
       "16          58019.0            1062.0             0.0              0.0  \n",
       "17              NaN               NaN             NaN              NaN  \n",
       "18              NaN               NaN             NaN              NaN  \n",
       "19         144116.0            4656.0           141.0            141.0  \n",
       "20           3942.0             132.0           447.0              0.0  \n",
       "21         105823.0            3575.0           119.0            142.0  \n",
       "22         116770.0            8729.0          9650.0            232.0  \n",
       "23          98346.0            6419.0         10405.0            268.0  \n",
       "24          70707.0            1779.0            46.0             46.0  \n",
       "25          76228.0            2201.0          2978.0            114.0  \n",
       "26          78073.0            1554.0           205.0              1.0  \n",
       "27           6647.0              97.0             2.0              0.0  \n",
       "28          32393.0             388.0             0.0              0.0  \n",
       "29          66520.0            1230.0             8.0              0.0  \n",
       "30           7150.0             429.0             0.0              0.0  \n",
       "31         190021.0           14124.0          1829.0           1829.0  \n",
       "32          24535.0             750.0             0.0              0.0  \n",
       "33         430858.0           27858.0          4637.0           4637.0  \n",
       "34         158231.0            2607.0            69.0              0.0  \n",
       "35          10467.0             138.0             4.0              4.0  \n",
       "36             54.0               2.0             0.0              0.0  \n",
       "37              NaN               NaN             NaN              NaN  \n",
       "38          54172.0             744.0             0.0              0.0  \n",
       "39          24444.0             257.0           964.0            179.0  \n",
       "40              NaN               NaN             NaN              NaN  \n",
       "41          14010.0             263.0         16734.0            141.0  \n",
       "42          21454.0            1041.0             0.0              0.0  \n",
       "43         112088.0            2408.0          1400.0            121.0  \n",
       "44          11503.0               NaN             2.0              NaN  \n",
       "45         139644.0             708.0          3073.0            897.0  \n",
       "46         591841.0            8588.0         22062.0           3426.0  \n",
       "47          29945.0             267.0         19934.0            131.0  \n",
       "48           1577.0              58.0             0.0              0.0  \n",
       "49              NaN               NaN             NaN              NaN  \n",
       "50           1030.0              14.0             0.0              0.0  \n",
       "51          72757.0            1890.0          1878.0             73.0  \n",
       "52           9364.0             189.0           176.0              1.0  \n",
       "53          71684.0            1098.0          4814.0              8.0  \n",
       "54           3089.0               NaN           545.0              NaN  "
      ]
     },
     "execution_count": 7,
     "metadata": {},
     "output_type": "execute_result"
    }
   ],
   "source": [
    "import pandas as pd\n",
    " \n",
    "url = 'https://raw.githubusercontent.com/nytimes/covid-19-data/master/live/us-states.csv'\n",
    "data = pd.read_csv(url, error_bad_lines=False)\n",
    "data"
   ]
  },
  {
   "cell_type": "markdown",
   "metadata": {
    "colab_type": "text",
    "id": "bQ1O7Q9WbCRQ"
   },
   "source": [
    "To get more information about the data and their types, we can use data.info()."
   ]
  },
  {
   "cell_type": "code",
   "execution_count": 8,
   "metadata": {
    "colab": {
     "base_uri": "https://localhost:8080/",
     "height": 291
    },
    "colab_type": "code",
    "executionInfo": {
     "elapsed": 480,
     "status": "ok",
     "timestamp": 1593444876666,
     "user": {
      "displayName": "Rahul Dani",
      "photoUrl": "https://lh3.googleusercontent.com/a-/AOh14Gj4Ylyc5noiFAMi-UQaeNwk1wfY6BGY9uKNf5_8IQ=s64",
      "userId": "15518412354795461544"
     },
     "user_tz": 240
    },
    "id": "IzcSGebFbLo5",
    "outputId": "1834df03-b1da-4b33-dcdf-c258e559660c"
   },
   "outputs": [
    {
     "name": "stdout",
     "output_type": "stream",
     "text": [
      "<class 'pandas.core.frame.DataFrame'>\n",
      "RangeIndex: 55 entries, 0 to 54\n",
      "Data columns (total 9 columns):\n",
      "date                55 non-null object\n",
      "state               55 non-null object\n",
      "fips                55 non-null int64\n",
      "cases               55 non-null int64\n",
      "deaths              55 non-null int64\n",
      "confirmed_cases     45 non-null float64\n",
      "confirmed_deaths    43 non-null float64\n",
      "probable_cases      45 non-null float64\n",
      "probable_deaths     43 non-null float64\n",
      "dtypes: float64(4), int64(3), object(2)\n",
      "memory usage: 4.0+ KB\n"
     ]
    }
   ],
   "source": [
    "data.info()"
   ]
  },
  {
   "cell_type": "markdown",
   "metadata": {
    "colab_type": "text",
    "id": "5D6SDPdWZSbu"
   },
   "source": [
    "To print the first 10 items of the dataframe. Use:\n",
    "\n",
    "    data.head(10)\n",
    "    data.head()  # without any number it prints 5 by default.\n",
    "\n",
    "In order to print from the bottom we use **data.tail()**"
   ]
  },
  {
   "cell_type": "markdown",
   "metadata": {
    "colab_type": "text",
    "id": "kIOwx9zbafxH"
   },
   "source": [
    "**Task 5 :** Print the last 7 entries from the dataframe\n",
    "\n",
    "<!-- ```\n",
    "import pandas as pd\n",
    " \n",
    "url = 'https://raw.githubusercontent.com/nytimes/covid-19-data/master/live/us-states.csv'\n",
    "data = pd.read_csv(url, error_bad_lines=False)\n",
    "data.tail(7)\n",
    "``` -->"
   ]
  },
  {
   "cell_type": "code",
   "execution_count": null,
   "metadata": {
    "colab": {
     "base_uri": "https://localhost:8080/",
     "height": 357
    },
    "colab_type": "code",
    "executionInfo": {
     "elapsed": 577,
     "status": "ok",
     "timestamp": 1593445018754,
     "user": {
      "displayName": "Rahul Dani",
      "photoUrl": "https://lh3.googleusercontent.com/a-/AOh14Gj4Ylyc5noiFAMi-UQaeNwk1wfY6BGY9uKNf5_8IQ=s64",
      "userId": "15518412354795461544"
     },
     "user_tz": 240
    },
    "id": "GE8pgNnuSZLl",
    "outputId": "300d819d-56be-4005-e68b-cf8835276ab9"
   },
   "outputs": [],
   "source": []
  },
  {
   "cell_type": "markdown",
   "metadata": {
    "colab_type": "text",
    "id": "M58JZBsZa3wk"
   },
   "source": [
    "To find the sum of a column we can do:\n",
    "\n",
    "    data['Column Name'].sum()\n",
    "\n",
    "For example:\n",
    "\n",
    "    total_deaths = data['deaths'].sum() # Gives us total number of COVID-19 deaths in the US.\n",
    "    print(total_deaths)"
   ]
  },
  {
   "cell_type": "markdown",
   "metadata": {
    "colab_type": "text",
    "id": "k1cvgy-qbzZ9"
   },
   "source": [
    "**Task 6 :** Find the total number of COVID-19 cases in the US.\n",
    "\n",
    "<!-- ```\n",
    "total_cases = data['cases'].sum()\n",
    "print(total_cases)\n",
    "``` -->"
   ]
  },
  {
   "cell_type": "code",
   "execution_count": null,
   "metadata": {
    "colab": {
     "base_uri": "https://localhost:8080/",
     "height": 34
    },
    "colab_type": "code",
    "executionInfo": {
     "elapsed": 346,
     "status": "ok",
     "timestamp": 1593445206696,
     "user": {
      "displayName": "Rahul Dani",
      "photoUrl": "https://lh3.googleusercontent.com/a-/AOh14Gj4Ylyc5noiFAMi-UQaeNwk1wfY6BGY9uKNf5_8IQ=s64",
      "userId": "15518412354795461544"
     },
     "user_tz": 240
    },
    "id": "56UpTpM4ZbN5",
    "outputId": "2b47c82a-5f90-460a-c5e9-6ee8d7de70d5"
   },
   "outputs": [],
   "source": []
  },
  {
   "cell_type": "markdown",
   "metadata": {
    "colab_type": "text",
    "id": "YdvAx0x4d2Ye"
   },
   "source": [
    "In order to access the row of a single column:\n",
    "\n",
    "    data[condition]\n",
    "\n",
    "For example:\n",
    "\n",
    "    data[data['state'] == 'Florida'] # Gives you the data for the state of Florida"
   ]
  },
  {
   "cell_type": "code",
   "execution_count": 9,
   "metadata": {
    "colab": {
     "base_uri": "https://localhost:8080/",
     "height": 79
    },
    "colab_type": "code",
    "executionInfo": {
     "elapsed": 368,
     "status": "ok",
     "timestamp": 1593445281923,
     "user": {
      "displayName": "Rahul Dani",
      "photoUrl": "https://lh3.googleusercontent.com/a-/AOh14Gj4Ylyc5noiFAMi-UQaeNwk1wfY6BGY9uKNf5_8IQ=s64",
      "userId": "15518412354795461544"
     },
     "user_tz": 240
    },
    "id": "EkuIsHX4ejLy",
    "outputId": "46513bd5-981a-4bcb-988d-8365dbe961be"
   },
   "outputs": [
    {
     "data": {
      "text/html": [
       "<div>\n",
       "<style scoped>\n",
       "    .dataframe tbody tr th:only-of-type {\n",
       "        vertical-align: middle;\n",
       "    }\n",
       "\n",
       "    .dataframe tbody tr th {\n",
       "        vertical-align: top;\n",
       "    }\n",
       "\n",
       "    .dataframe thead th {\n",
       "        text-align: right;\n",
       "    }\n",
       "</style>\n",
       "<table border=\"1\" class=\"dataframe\">\n",
       "  <thead>\n",
       "    <tr style=\"text-align: right;\">\n",
       "      <th></th>\n",
       "      <th>date</th>\n",
       "      <th>state</th>\n",
       "      <th>fips</th>\n",
       "      <th>cases</th>\n",
       "      <th>deaths</th>\n",
       "      <th>confirmed_cases</th>\n",
       "      <th>confirmed_deaths</th>\n",
       "      <th>probable_cases</th>\n",
       "      <th>probable_deaths</th>\n",
       "    </tr>\n",
       "  </thead>\n",
       "  <tbody>\n",
       "    <tr>\n",
       "      <th>9</th>\n",
       "      <td>2020-08-26</td>\n",
       "      <td>Florida</td>\n",
       "      <td>12</td>\n",
       "      <td>608714</td>\n",
       "      <td>10732</td>\n",
       "      <td>0.0</td>\n",
       "      <td>10732.0</td>\n",
       "      <td>608714.0</td>\n",
       "      <td>0.0</td>\n",
       "    </tr>\n",
       "  </tbody>\n",
       "</table>\n",
       "</div>"
      ],
      "text/plain": [
       "         date    state  fips   cases  deaths  confirmed_cases  \\\n",
       "9  2020-08-26  Florida    12  608714   10732              0.0   \n",
       "\n",
       "   confirmed_deaths  probable_cases  probable_deaths  \n",
       "9           10732.0        608714.0              0.0  "
      ]
     },
     "execution_count": 9,
     "metadata": {},
     "output_type": "execute_result"
    }
   ],
   "source": [
    "data[data['state'] == 'Florida'] # Gives you the data for the state of Florida"
   ]
  },
  {
   "cell_type": "markdown",
   "metadata": {
    "colab_type": "text",
    "id": "clhEMtD4ePFr"
   },
   "source": [
    "**Task 7 :** Find all the states with COVID-19 cases greater than 100000.\n",
    "\n",
    "<!-- ```\n",
    "data[data['cases'] > 100000]\n",
    "``` -->"
   ]
  },
  {
   "cell_type": "code",
   "execution_count": null,
   "metadata": {
    "colab": {
     "base_uri": "https://localhost:8080/",
     "height": 264
    },
    "colab_type": "code",
    "executionInfo": {
     "elapsed": 382,
     "status": "ok",
     "timestamp": 1593445522152,
     "user": {
      "displayName": "Rahul Dani",
      "photoUrl": "https://lh3.googleusercontent.com/a-/AOh14Gj4Ylyc5noiFAMi-UQaeNwk1wfY6BGY9uKNf5_8IQ=s64",
      "userId": "15518412354795461544"
     },
     "user_tz": 240
    },
    "id": "zSYZFi7ceKN_",
    "outputId": "c4b9aec4-329b-4ab3-ef09-176b4e1e1dc0"
   },
   "outputs": [],
   "source": []
  },
  {
   "cell_type": "markdown",
   "metadata": {
    "colab_type": "text",
    "id": "9C5O0gxYhQ3v"
   },
   "source": [
    "The topics we have covered today is part of a field known as **Data Science**! It is different from Computer Science as it emphasizes data manipulation and analysis."
   ]
  },
  {
   "cell_type": "markdown",
   "metadata": {
    "colab_type": "text",
    "id": "3-Dy54dFfZua"
   },
   "source": [
    "For more information about using pandas go to : https://www.learndatasci.com/tutorials/python-pandas-tutorial-complete-introduction-for-beginners/\n",
    "\n",
    "Some of the graphing tools came from : https://www.geeksforgeeks.org/graph-plotting-in-python-set-1/"
   ]
  },
  {
   "cell_type": "markdown",
   "metadata": {
    "colab_type": "text",
    "id": "sTVI9zPd1Nwn"
   },
   "source": [
    "Practice Problems from previous lectures to work on after class:\n",
    "\n",
    "Lecture 1 : https://colab.research.google.com/drive/1RlMF5WD6YvUf7sbGs0XkpYyWvOLyT30b?usp=sharing\n",
    "\n",
    "Lecture 2 : https://colab.research.google.com/drive/14B7NaXdTWmfFhb6wRldo8nTdPMHNX7fZ?usp=sharing\n",
    "\n",
    "Lecture 3 : https://colab.research.google.com/drive/1WLEpSIk2eDn9YORxIuBJKAIBtvQ0E50Q?usp=sharing\n",
    "\n",
    "Lecture 4 :  https://colab.research.google.com/drive/1eZ3Xzojdu8QYzLD3AfkImMgSf9xUMsHD?usp=sharing\n",
    "\n",
    "Lecture 6 : https://colab.research.google.com/drive/1fbE_v3kYROSSHDjPQEzmtSp263SRDNiI?usp=sharing\n",
    "\n"
   ]
  }
 ],
 "metadata": {
  "colab": {
   "authorship_tag": "ABX9TyN0F1PCG4wap6cnJL2KqfYX",
   "collapsed_sections": [],
   "name": "Lecture 9.ipynb",
   "provenance": []
  },
  "kernelspec": {
   "display_name": "Python 3",
   "language": "python",
   "name": "python3"
  },
  "language_info": {
   "codemirror_mode": {
    "name": "ipython",
    "version": 3
   },
   "file_extension": ".py",
   "mimetype": "text/x-python",
   "name": "python",
   "nbconvert_exporter": "python",
   "pygments_lexer": "ipython3",
   "version": "3.7.4"
  }
 },
 "nbformat": 4,
 "nbformat_minor": 1
}
