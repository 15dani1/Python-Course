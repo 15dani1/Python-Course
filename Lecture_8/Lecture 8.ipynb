{
 "cells": [
  {
   "cell_type": "markdown",
   "metadata": {
    "colab_type": "text",
    "id": "3_QWEI6zofvK"
   },
   "source": [
    "# Lecture 8 - Variable scopes, Recursion, Debugging.\n",
    "\n",
    "*Wednesday, June 24th 2020*\n",
    "\n",
    "*Rahul Dani*\n",
    "\n",
    "In this lecture, we will cover scopes for variables, the concept of recursion, and simple debugging techniques."
   ]
  },
  {
   "cell_type": "markdown",
   "metadata": {
    "colab_type": "text",
    "id": "1L9vnqRiOfBT"
   },
   "source": [
    "## Topic 1 : Variable scopes"
   ]
  },
  {
   "cell_type": "markdown",
   "metadata": {
    "colab_type": "text",
    "id": "ygRC81DPOiiC"
   },
   "source": [
    "In the previous lecture, we talked about function scopes. Here is a quick recap task:\n",
    "\n",
    "**Task 1 :** What is the result of this code?\n",
    "\n",
    "    def sub(x,y):\n",
    "        print(x-y) \n",
    "    \n",
    "    def mult(x,y): \n",
    "        z = x*y   \n",
    "        print(z)   \n",
    "        sub(z, y)  \n",
    "    \n",
    "    def add(x,y): \n",
    "        z = x + y \n",
    "        mult(z, x) \n",
    "        print(z)   \n",
    "    \n",
    "    add(10,3)"
   ]
  },
  {
   "cell_type": "code",
   "execution_count": null,
   "metadata": {
    "colab": {
     "base_uri": "https://localhost:8080/",
     "height": 68
    },
    "colab_type": "code",
    "executionInfo": {
     "elapsed": 333,
     "status": "ok",
     "timestamp": 1593011080931,
     "user": {
      "displayName": "Rahul Dani",
      "photoUrl": "https://lh3.googleusercontent.com/a-/AOh14Gj4Ylyc5noiFAMi-UQaeNwk1wfY6BGY9uKNf5_8IQ=s64",
      "userId": "15518412354795461544"
     },
     "user_tz": 240
    },
    "id": "_Y0pZLqRRnXl",
    "outputId": "6592ce8c-00d4-4b1b-b5c4-67f6807fe29a"
   },
   "outputs": [],
   "source": []
  },
  {
   "cell_type": "markdown",
   "metadata": {
    "colab_type": "text",
    "id": "1wbFPjmTPRkG"
   },
   "source": [
    "You need to understand function scopes to some extent to be able to grasp variable scopes."
   ]
  },
  {
   "cell_type": "markdown",
   "metadata": {
    "colab_type": "text",
    "id": "kzMcDPtmRtjW"
   },
   "source": [
    "**Task 2 :** What is the result of this code?\n",
    "\n",
    "    x = 0 \n",
    "    while (x < 5):\n",
    "        y = 0\n",
    "        print('The value of x is:',str(x))\n",
    "        print('The value of y is:', str(y))\n",
    "        x+=1\n",
    "        y+=1"
   ]
  },
  {
   "cell_type": "code",
   "execution_count": null,
   "metadata": {
    "colab": {
     "base_uri": "https://localhost:8080/",
     "height": 188
    },
    "colab_type": "code",
    "executionInfo": {
     "elapsed": 341,
     "status": "ok",
     "timestamp": 1593011579599,
     "user": {
      "displayName": "Rahul Dani",
      "photoUrl": "https://lh3.googleusercontent.com/a-/AOh14Gj4Ylyc5noiFAMi-UQaeNwk1wfY6BGY9uKNf5_8IQ=s64",
      "userId": "15518412354795461544"
     },
     "user_tz": 240
    },
    "id": "3ODwxLK6NbDa",
    "outputId": "1092f9bd-0ce1-403b-e2c7-ef6b96409614"
   },
   "outputs": [],
   "source": []
  },
  {
   "cell_type": "markdown",
   "metadata": {
    "colab_type": "text",
    "id": "aCX_pjpdSeLm"
   },
   "source": [
    "As you can see, the placement of the variables makes a difference on the values of the variables.\n",
    "\n",
    "If you want to count the number of times something happens, you need to make the variable outside the loop:"
   ]
  },
  {
   "cell_type": "markdown",
   "metadata": {
    "colab_type": "text",
    "id": "XKQ5VmCJWZUU"
   },
   "source": [
    "**Task 3 :** Make a program to count the number of times carrot appears in this veggies list : ['celery', 'cabbage', 'spinach', 'carrot', 'lettuce', 'potato', 'carrot', 'cucumber', 'celery', 'carrot', 'broccoli' ]"
   ]
  },
  {
   "cell_type": "code",
   "execution_count": null,
   "metadata": {
    "colab": {
     "base_uri": "https://localhost:8080/",
     "height": 34
    },
    "colab_type": "code",
    "executionInfo": {
     "elapsed": 356,
     "status": "ok",
     "timestamp": 1593011852737,
     "user": {
      "displayName": "Rahul Dani",
      "photoUrl": "https://lh3.googleusercontent.com/a-/AOh14Gj4Ylyc5noiFAMi-UQaeNwk1wfY6BGY9uKNf5_8IQ=s64",
      "userId": "15518412354795461544"
     },
     "user_tz": 240
    },
    "id": "VCYsdtZtXHYG",
    "outputId": "53e24ec9-e64b-4534-e646-8dc9a23d1677"
   },
   "outputs": [],
   "source": []
  },
  {
   "cell_type": "markdown",
   "metadata": {
    "colab_type": "text",
    "id": "VSPfNHZzVmPu"
   },
   "source": [
    "**Task 4:** What is the result of this code (value of x and y) ?\n",
    "\n",
    "    def fun1(x):\n",
    "        x = 10\n",
    "        return x\n",
    "\n",
    "    def fun2(x):\n",
    "        x = 20\n",
    "        fun1(x)\n",
    "        return x\n",
    "\n",
    "    x = 5\n",
    "    y = fun2(x)\n",
    "    print(x)\n",
    "    print(y)"
   ]
  },
  {
   "cell_type": "code",
   "execution_count": null,
   "metadata": {
    "colab": {
     "base_uri": "https://localhost:8080/",
     "height": 51
    },
    "colab_type": "code",
    "executionInfo": {
     "elapsed": 327,
     "status": "ok",
     "timestamp": 1593012041889,
     "user": {
      "displayName": "Rahul Dani",
      "photoUrl": "https://lh3.googleusercontent.com/a-/AOh14Gj4Ylyc5noiFAMi-UQaeNwk1wfY6BGY9uKNf5_8IQ=s64",
      "userId": "15518412354795461544"
     },
     "user_tz": 240
    },
    "id": "Rq0E4VX9PK5e",
    "outputId": "0d0799c1-9452-4db4-d47e-a2d1f765fd9d"
   },
   "outputs": [],
   "source": []
  },
  {
   "cell_type": "markdown",
   "metadata": {
    "colab_type": "text",
    "id": "PtyDY1QfajYO"
   },
   "source": [
    "## Topic 2 : Recursion"
   ]
  },
  {
   "cell_type": "markdown",
   "metadata": {
    "colab_type": "text",
    "id": "9Wjp4r77ascP"
   },
   "source": [
    "Recursion is a process in which we call a function within the body of the same function. **It calls itself**."
   ]
  },
  {
   "cell_type": "markdown",
   "metadata": {
    "colab_type": "text",
    "id": "ay-1nf17bDTL"
   },
   "source": [
    "There is a commonly used math function known as **factorial** (!). It is used to multiply all the numbers before it, all the way to 1.\n",
    "\n",
    "Recursion has two steps to it:\n",
    "\n",
    "* The base case (stopping point)\n",
    "* The recursive case\n",
    "\n",
    "Example:\n",
    "\n",
    "    5! = 5*4*3*2*1 = 120\n",
    "    3! = 3*2*1 = 6\n",
    "\n",
    "In order to code a function like this, we use recursion:\n",
    "\n",
    "    def factorial(x):\n",
    "        if x == 1:\n",
    "            return x\n",
    "        else:\n",
    "            return x * factorial(x-1)\n",
    "\n",
    "The way the functions are called for an example like x = 5 look like this:\n",
    "\n",
    "    factorial(5)\n",
    "    5*factorial(4)\n",
    "    5*4*factorial(3)\n",
    "    5*4*3*factorial(2)\n",
    "    5*4*3*2*factorial(1)\n",
    "    5*4*3*2*1\n"
   ]
  },
  {
   "cell_type": "markdown",
   "metadata": {
    "colab_type": "text",
    "id": "KpanP1Wzc_ZB"
   },
   "source": [
    "**Task 5 :** Make recursive function called \"add\" to add all the numbers from x to 1 where x is any positive number > 1. For example: if x = 10 -> 10+9+8+..+3+2+1\n",
    "\n",
    "<!-- ```\n",
    "def add(x):\n",
    "    if(x == 0):\n",
    "        return x\n",
    "    else:\n",
    "        return x + add(x-1)\n",
    "\n",
    "print(add(10))\n",
    "``` -->\n",
    "\n"
   ]
  },
  {
   "cell_type": "code",
   "execution_count": null,
   "metadata": {
    "colab": {
     "base_uri": "https://localhost:8080/",
     "height": 34
    },
    "colab_type": "code",
    "executionInfo": {
     "elapsed": 367,
     "status": "ok",
     "timestamp": 1593012660317,
     "user": {
      "displayName": "Rahul Dani",
      "photoUrl": "https://lh3.googleusercontent.com/a-/AOh14Gj4Ylyc5noiFAMi-UQaeNwk1wfY6BGY9uKNf5_8IQ=s64",
      "userId": "15518412354795461544"
     },
     "user_tz": 240
    },
    "id": "qhPelntlVaeF",
    "outputId": "21de403b-a91d-456c-8666-4814176bc28c"
   },
   "outputs": [],
   "source": []
  },
  {
   "cell_type": "markdown",
   "metadata": {
    "colab_type": "text",
    "id": "t6nr3Ob9eAzv"
   },
   "source": [
    "We have seen this question before! It is the Gauss sum problem! The formula approach is more efficient that recursion, but this is another way of solving that initial problem."
   ]
  },
  {
   "cell_type": "markdown",
   "metadata": {
    "colab_type": "text",
    "id": "tV0Xig2benYM"
   },
   "source": [
    "There is a famous math sequence known as the **fibonacci sequence**.\n",
    "\n",
    "The sequence:\n",
    "\n",
    "![alt text](https://i.pinimg.com/originals/98/82/d5/9882d569f7e0b5665fe3b2edd5069b06.png)\n",
    "\n",
    "This is a shape it takes:\n",
    "\n",
    "![alt text](https://thumbs-prod.si-cdn.com/-xRLmAuW3pXBbANvy8uCYqVRN5Q=/fit-in/1600x0/filters:focal(1365x816:1366x817)/https://public-media.si-cdn.com/filer/3a/70/3a70f58d-dabc-4d54-ba16-1d1548594720/2560px-fibonaccispiralsvg.jpg)\n",
    "\n",
    "These are some mind-blowing examples of fibonacci sequence: [Fibonacci Sequence](https://io9.gizmodo.com/15-uncanny-examples-of-the-golden-ratio-in-nature-5985588)\n",
    "\n",
    "Also this egg :\n",
    "\n",
    "![alt text](https://blogs.unimelb.edu.au/sciencecommunication/files/2018/09/egg-golden-spiral-152nk1n.jpg)"
   ]
  },
  {
   "cell_type": "markdown",
   "metadata": {
    "colab_type": "text",
    "id": "TB6UYysHik_K"
   },
   "source": [
    "So the code for this mind-blowing sequence looks like:\n",
    "\n",
    "    def fibonacci(n):\n",
    "        if n == 0 or n == 1:\n",
    "            return n\n",
    "        else:\n",
    "            return fibonacci(n-1) + fibonacci(n-2)\n",
    "\n",
    "    print(fibonacci(6))\n",
    "\n",
    "The way the functions are called for an example like fibonacci(6) looks like this:\n",
    "\n",
    "    fibonacci(6) = fibonacci(5)+fibonacci(4)\n",
    "    fibonacci(5) = fibonacci(4)+fibonacci(3)\n",
    "    fibonacci(4) = fibonacci(3)+fibonacci(2)\n",
    "    fibonacci(3) = fibonacci(2)+fibonacci(1)\n",
    "    fibonacci(2) = fibonacci(1)+fibonacci(0)\n",
    "    fibonacci(1) = 1\n",
    "    fibonacci(0) = 0\n",
    "    fibonacci(2) = 1 + 0 = 1\n",
    "    fibonacci(3) = 1 + 1 = 2\n",
    "    fibonacci(4) = 2 + 1 = 3\n",
    "    fibonacci(5) = 3 + 2 = 5\n",
    "    fibonacci(6) = 5 + 3 = 8\n",
    "\n",
    "Therefore, the 6th item in the fibonacci sequence is **8**.\n",
    "\n",
    "This might be very confusing to you guys and it is supposed to be quite a challenging concept, so ask me any questions you have!\n"
   ]
  },
  {
   "cell_type": "markdown",
   "metadata": {
    "colab_type": "text",
    "id": "zlrAxXOGk6g2"
   },
   "source": [
    "Just remember that recursion is used when you call a function within itself. If you continue programming in the future, this is surely an idea you will come across!"
   ]
  },
  {
   "cell_type": "code",
   "execution_count": null,
   "metadata": {
    "colab": {},
    "colab_type": "code",
    "id": "opW1eUtUdkq2"
   },
   "outputs": [],
   "source": []
  },
  {
   "cell_type": "markdown",
   "metadata": {
    "colab_type": "text",
    "id": "z3gznY4Yloeg"
   },
   "source": [
    "## Topic 3 : Debugging"
   ]
  },
  {
   "cell_type": "markdown",
   "metadata": {
    "colab_type": "text",
    "id": "Pm9wBJtpmH9D"
   },
   "source": [
    "Python is a special language in the sense that it does not break until an error line is found. It will run everything prior to the error.\n",
    "\n",
    "For example:\n",
    "\n",
    "    print('Hello') # valid\n",
    "    print(24)      # valid\n",
    "    print(Hello)   # invalid because Hello variable doesn't exist\n",
    "\n",
    "In this case, the program shows the first 2 lines but crashes at the 3rd line.\n",
    "\n",
    "Some programming languages won't even run if there is an error in any of the lines, this is where python is unique.\n",
    "\n",
    "I will now demonstrate how to read error messages and fix them."
   ]
  },
  {
   "cell_type": "code",
   "execution_count": 1,
   "metadata": {
    "colab": {
     "base_uri": "https://localhost:8080/",
     "height": 233
    },
    "colab_type": "code",
    "executionInfo": {
     "elapsed": 442,
     "status": "error",
     "timestamp": 1593013335981,
     "user": {
      "displayName": "Rahul Dani",
      "photoUrl": "https://lh3.googleusercontent.com/a-/AOh14Gj4Ylyc5noiFAMi-UQaeNwk1wfY6BGY9uKNf5_8IQ=s64",
      "userId": "15518412354795461544"
     },
     "user_tz": 240
    },
    "id": "iL0px8aemrfq",
    "outputId": "7fbef6e6-5fb1-4e91-deb7-dbde342c33d4"
   },
   "outputs": [
    {
     "name": "stdout",
     "output_type": "stream",
     "text": [
      "Hello\n",
      "24\n"
     ]
    },
    {
     "ename": "NameError",
     "evalue": "name 'Hello' is not defined",
     "output_type": "error",
     "traceback": [
      "\u001b[1;31m---------------------------------------------------------------------------\u001b[0m",
      "\u001b[1;31mNameError\u001b[0m                                 Traceback (most recent call last)",
      "\u001b[1;32m<ipython-input-1-1b93c7354cfc>\u001b[0m in \u001b[0;36m<module>\u001b[1;34m\u001b[0m\n\u001b[0;32m      1\u001b[0m \u001b[0mprint\u001b[0m\u001b[1;33m(\u001b[0m\u001b[1;34m'Hello'\u001b[0m\u001b[1;33m)\u001b[0m \u001b[1;31m# valid\u001b[0m\u001b[1;33m\u001b[0m\u001b[1;33m\u001b[0m\u001b[0m\n\u001b[0;32m      2\u001b[0m \u001b[0mprint\u001b[0m\u001b[1;33m(\u001b[0m\u001b[1;36m24\u001b[0m\u001b[1;33m)\u001b[0m      \u001b[1;31m# valid\u001b[0m\u001b[1;33m\u001b[0m\u001b[1;33m\u001b[0m\u001b[0m\n\u001b[1;32m----> 3\u001b[1;33m \u001b[0mprint\u001b[0m\u001b[1;33m(\u001b[0m\u001b[0mHello\u001b[0m\u001b[1;33m)\u001b[0m   \u001b[1;31m# invalid because Hello variable doesn't exist\u001b[0m\u001b[1;33m\u001b[0m\u001b[1;33m\u001b[0m\u001b[0m\n\u001b[0m\u001b[0;32m      4\u001b[0m \u001b[1;31m# Shift + Enter\u001b[0m\u001b[1;33m\u001b[0m\u001b[1;33m\u001b[0m\u001b[1;33m\u001b[0m\u001b[0m\n",
      "\u001b[1;31mNameError\u001b[0m: name 'Hello' is not defined"
     ]
    }
   ],
   "source": [
    "print('Hello') # valid\n",
    "print(24)      # valid\n",
    "print(Hello)   # invalid because Hello variable doesn't exist\n",
    "# Shift + Enter"
   ]
  },
  {
   "cell_type": "markdown",
   "metadata": {
    "colab_type": "text",
    "id": "0fLNmmILmZKe"
   },
   "source": [
    "**Task 6 :** What is the error in the following code? Explain...\n",
    "\n",
    "    sodas = ['Coke', 'Pepsi', 'Dr.Pepper', 'Fanta', 'Sprite', 'Mountain Dew']\n",
    "    \n",
    "    for soda in soda:\n",
    "        print(soda)\n",
    "     "
   ]
  },
  {
   "cell_type": "code",
   "execution_count": null,
   "metadata": {
    "colab": {
     "base_uri": "https://localhost:8080/",
     "height": 216
    },
    "colab_type": "code",
    "executionInfo": {
     "elapsed": 404,
     "status": "error",
     "timestamp": 1593013467230,
     "user": {
      "displayName": "Rahul Dani",
      "photoUrl": "https://lh3.googleusercontent.com/a-/AOh14Gj4Ylyc5noiFAMi-UQaeNwk1wfY6BGY9uKNf5_8IQ=s64",
      "userId": "15518412354795461544"
     },
     "user_tz": 240
    },
    "id": "8NYYdFsAAGK_",
    "outputId": "27147762-618e-431b-bcfa-d2d157a7eb5e"
   },
   "outputs": [],
   "source": []
  },
  {
   "cell_type": "markdown",
   "metadata": {
    "colab_type": "text",
    "id": "msQ34GCgoVJ0"
   },
   "source": [
    "**Task 7 :** What is the error in the following code? Explain...\n",
    "\n",
    "    sodas = ['Coke', 'Pepsi', 'Dr.Pepper', 'Fanta', 'Sprite', 'Mountain Dew']\n",
    "    \n",
    "    print(sodas[10])\n",
    "\n"
   ]
  },
  {
   "cell_type": "code",
   "execution_count": null,
   "metadata": {
    "colab": {
     "base_uri": "https://localhost:8080/",
     "height": 199
    },
    "colab_type": "code",
    "executionInfo": {
     "elapsed": 354,
     "status": "error",
     "timestamp": 1593013525639,
     "user": {
      "displayName": "Rahul Dani",
      "photoUrl": "https://lh3.googleusercontent.com/a-/AOh14Gj4Ylyc5noiFAMi-UQaeNwk1wfY6BGY9uKNf5_8IQ=s64",
      "userId": "15518412354795461544"
     },
     "user_tz": 240
    },
    "id": "37CzeNe8AVCS",
    "outputId": "c9ed86f2-e242-4ca9-d2c5-e4371f1a4d59"
   },
   "outputs": [],
   "source": []
  },
  {
   "cell_type": "markdown",
   "metadata": {
    "colab_type": "text",
    "id": "haDdyhlxpb0q"
   },
   "source": [
    "There is a concept in programming known as **edge cases**. It refers to errors in the program that one does not typically think of."
   ]
  },
  {
   "cell_type": "markdown",
   "metadata": {
    "colab_type": "text",
    "id": "dVYLmCe5psSb"
   },
   "source": [
    "**Task 8 :** What is the edge case in the following code? Explain...\n",
    "\n",
    "    x = input('Enter the first number: ')\n",
    "    x = int(x)\n",
    "    y = input('Enter the second number: ')\n",
    "    y = int(y)\n",
    "    print(x/y)"
   ]
  },
  {
   "cell_type": "code",
   "execution_count": null,
   "metadata": {
    "colab": {
     "base_uri": "https://localhost:8080/",
     "height": 68
    },
    "colab_type": "code",
    "executionInfo": {
     "elapsed": 3671,
     "status": "ok",
     "timestamp": 1593013965535,
     "user": {
      "displayName": "Rahul Dani",
      "photoUrl": "https://lh3.googleusercontent.com/a-/AOh14Gj4Ylyc5noiFAMi-UQaeNwk1wfY6BGY9uKNf5_8IQ=s64",
      "userId": "15518412354795461544"
     },
     "user_tz": 240
    },
    "id": "S7Ozg-vNn6dC",
    "outputId": "ed9c6fe7-87f0-4543-d9d4-65da3413171d"
   },
   "outputs": [],
   "source": []
  },
  {
   "cell_type": "markdown",
   "metadata": {
    "colab_type": "text",
    "id": "sTVI9zPd1Nwn"
   },
   "source": [
    "Practice Problems from previous lectures to work on after class:\n",
    "\n",
    "Lecture 1 : https://colab.research.google.com/drive/1RlMF5WD6YvUf7sbGs0XkpYyWvOLyT30b?usp=sharing\n",
    "\n",
    "Lecture 2 : https://colab.research.google.com/drive/14B7NaXdTWmfFhb6wRldo8nTdPMHNX7fZ?usp=sharing\n",
    "\n",
    "Lecture 3 : https://colab.research.google.com/drive/1WLEpSIk2eDn9YORxIuBJKAIBtvQ0E50Q?usp=sharing\n",
    "\n",
    "Lecture 4 :  https://colab.research.google.com/drive/1eZ3Xzojdu8QYzLD3AfkImMgSf9xUMsHD?usp=sharing\n",
    "\n",
    "Lecture 6 : https://colab.research.google.com/drive/1fbE_v3kYROSSHDjPQEzmtSp263SRDNiI?usp=sharing\n",
    "\n"
   ]
  }
 ],
 "metadata": {
  "colab": {
   "authorship_tag": "ABX9TyNTZhsTuj0+7AJe4DCkdgO4",
   "collapsed_sections": [],
   "name": "Lecture 8.ipynb",
   "provenance": []
  },
  "kernelspec": {
   "display_name": "Python 3",
   "language": "python",
   "name": "python3"
  },
  "language_info": {
   "codemirror_mode": {
    "name": "ipython",
    "version": 3
   },
   "file_extension": ".py",
   "mimetype": "text/x-python",
   "name": "python",
   "nbconvert_exporter": "python",
   "pygments_lexer": "ipython3",
   "version": "3.7.4"
  }
 },
 "nbformat": 4,
 "nbformat_minor": 1
}
