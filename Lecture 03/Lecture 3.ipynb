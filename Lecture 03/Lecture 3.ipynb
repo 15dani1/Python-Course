{
 "cells": [
  {
   "cell_type": "markdown",
   "metadata": {
    "colab_type": "text",
    "id": "3_QWEI6zofvK"
   },
   "source": [
    "# Lecture 3 - Input, Count operator, and If statements\n",
    "\n",
    "*Monday, June 8th 2020*\n",
    "\n",
    "*Rahul Dani*\n",
    "\n",
    "In this lecture, we will cover how to take user input, increment counters, as well as use if statements!"
   ]
  },
  {
   "cell_type": "markdown",
   "metadata": {
    "colab_type": "text",
    "id": "ngC3BbbYOOu9"
   },
   "source": [
    "## Topic 1: Input "
   ]
  },
  {
   "cell_type": "markdown",
   "metadata": {
    "colab_type": "text",
    "id": "npFUigNkhUa8"
   },
   "source": [
    "> The **input()** command can be used to take user input (string) and save that value to a variable.\n",
    "\n",
    "For example:\n",
    "\n",
    "    x = input()\n",
    "    print(x)  # Prints whatever the user typed\n",
    "\n",
    "    x = input('Type something here! ')\n",
    "    print(x) # Displays the 'type something here' message and prints the value typed.\n",
    "\n",
    "Note: When combining 2 or more words together in print (concatenation), you can use either a comma (,) or the plus sign (+) to seperate the words.\n",
    "\n"
   ]
  },
  {
   "cell_type": "markdown",
   "metadata": {
    "colab_type": "text",
    "id": "4deazmbgjDxj"
   },
   "source": [
    "**Task:** Make an input variable 'x' with a message 'Type a number here: ', enter 27 when prompted, convert it to int and print x + 17. \n",
    "\n",
    "<!-- Answer:\n",
    "\n",
    "    x = input('Type a number here: ')\n",
    "    print(int(x) + 17) -->\n"
   ]
  },
  {
   "cell_type": "code",
   "execution_count": 0,
   "metadata": {
    "colab": {},
    "colab_type": "code",
    "id": "JMZoK-jqdIq-"
   },
   "outputs": [],
   "source": []
  },
  {
   "cell_type": "markdown",
   "metadata": {
    "colab_type": "text",
    "id": "TySdU-TEkFJl"
   },
   "source": [
    "**Task:** Ask the user what their name is. Then print \"Hello, (NAME)!\".\n",
    "\n",
    "<!-- Answer:\n",
    "user_name = input('What is your name? ')\n",
    "print('Hello,', user_name + '!') -->"
   ]
  },
  {
   "cell_type": "code",
   "execution_count": 0,
   "metadata": {
    "colab": {},
    "colab_type": "code",
    "id": "kyg8vfd7MWey"
   },
   "outputs": [],
   "source": []
  },
  {
   "cell_type": "markdown",
   "metadata": {
    "colab_type": "text",
    "id": "jz09Ie5iR5a7"
   },
   "source": [
    "## Topic 2: Count operator"
   ]
  },
  {
   "cell_type": "markdown",
   "metadata": {
    "colab_type": "text",
    "id": "7mEG3UOClncD"
   },
   "source": [
    "\n",
    "Count operators can be used to modify int values.\n",
    "\n",
    "For example:\n",
    "\n",
    "    x = 5\n",
    "    print(x) # Prints 5 to the screen.\n",
    "    x = x + 7\n",
    "    print(x) # Prints 12 to the screen.\n",
    "\n"
   ]
  },
  {
   "cell_type": "markdown",
   "metadata": {
    "colab_type": "text",
    "id": "jylmW16lU0aD"
   },
   "source": [
    "A convenient shortcut to that step is to use (+=) operation:\n",
    "\n",
    "    x += 7 # Same as x = x + 7"
   ]
  },
  {
   "cell_type": "markdown",
   "metadata": {
    "colab_type": "text",
    "id": "Vjq8VEfaSNh7"
   },
   "source": [
    "![alt text](https://i.imgur.com/DPKDBIX.png?1)"
   ]
  },
  {
   "cell_type": "markdown",
   "metadata": {
    "colab_type": "text",
    "id": "nh2v3wuFVdFd"
   },
   "source": [
    "**Task:** Make an 'x' variable equal to your birth year. Set x to the remainder of your birth year and 1000. Print x. Set x to x times 5. Print x. Use the count operator in both cases.\n",
    "\n",
    "<!-- Answer:\n",
    "\n",
    "    x = 2003\n",
    "    x %= 1000\n",
    "    print(x)\n",
    "    x *= 5\n",
    "    print(x) -->"
   ]
  },
  {
   "cell_type": "code",
   "execution_count": 0,
   "metadata": {
    "colab": {},
    "colab_type": "code",
    "id": "JDSIE9Y6SLil"
   },
   "outputs": [],
   "source": []
  },
  {
   "cell_type": "markdown",
   "metadata": {
    "colab_type": "text",
    "id": "P-vxgKBvW39h"
   },
   "source": [
    "## Topic 3: If statement"
   ]
  },
  {
   "cell_type": "markdown",
   "metadata": {
    "colab_type": "text",
    "id": "3x6ZZzSGXIuZ"
   },
   "source": [
    "Recall what we learned about boolean conditions.\n",
    "\n",
    "For example:\n",
    "\n",
    "```\n",
    "x = 6\n",
    "print(x > 20) # False\n",
    "print(x <= 15) #True\n",
    "```\n",
    "\n",
    "```\n",
    "y = 'Hello'\n",
    "print(y == 'bye') # False\n",
    "print(y != 'Tampa') # True\n",
    "```\n",
    "\n",
    "```\n",
    "a = True\n",
    "b = 18\n",
    "print(a and False) # False\n",
    "print((b > 20) or True) # True\n",
    "print(not a) # False\n",
    "```\n",
    "\n",
    "\n",
    "\n"
   ]
  },
  {
   "cell_type": "markdown",
   "metadata": {
    "colab_type": "text",
    "id": "mPERB9UHYX4Z"
   },
   "source": [
    "**If statements** have 2 components:\n",
    "    Boolean Conditions and Clauses a.k.a block of code.\n",
    "\n",
    "The if statement checks a boolean condition first and runs the clause if the condition is True.\n",
    "\n",
    "The if statement uses the **if**, **elif**, **else** keywords. The elif and else keywords are optional.\n",
    "\n",
    "You must make sure to use a **colon** (:) after the condition and **tab** (indent) before the clause.\n",
    "\n",
    "The general indentation width is 4.\n",
    "\n",
    "For example:\n",
    "\n",
    "    x = 12\n",
    "    if(x > 20000):\n",
    "        print('x is big!')\n",
    "    else:\n",
    "        print('x is small!') # This is printed to the screen.\n",
    "\n",
    "```\n",
    "city = 'Denver'\n",
    "if (city == 'Miami'):\n",
    "    print('Lets go to the beach!')\n",
    "elif (city == 'Denver'):\n",
    "    print('Lets watch a Broncos game!')\n",
    "else:\n",
    "    print('where are you?')\n",
    "```    \n"
   ]
  },
  {
   "cell_type": "markdown",
   "metadata": {
    "colab_type": "text",
    "id": "7QM4Mwv3bDZZ"
   },
   "source": [
    "**Task :** Change indentation width to 4. Follow along!"
   ]
  },
  {
   "cell_type": "code",
   "execution_count": 0,
   "metadata": {
    "colab": {},
    "colab_type": "code",
    "id": "haOom94kWX5H"
   },
   "outputs": [],
   "source": []
  },
  {
   "cell_type": "markdown",
   "metadata": {
    "colab_type": "text",
    "id": "OmgIxYvAU6TJ"
   },
   "source": [
    "**Task:** Ask the user if they have taken Algebra 1. The user must answer either yes or no. If the user answers yes, ask them for their name and say \"Welcome, (NAME)!\" If the user answers no, say \"You have not taken Algebra 1!\" Use input!\n",
    "\n",
    "<!-- Answer:\n",
    "alg1 = input('Have you taken Algebra 1? Answer yes or no: ') \n",
    "if alg1 == ('Yes' or 'yes'):\n",
    "  name = input('What is your name? ')\n",
    "  print('Welcome,' , name + '!')\n",
    "else:\n",
    "  print('You have not taken Algebra 1!') -->"
   ]
  },
  {
   "cell_type": "code",
   "execution_count": 0,
   "metadata": {
    "colab": {},
    "colab_type": "code",
    "id": "7-tsigElZ_zO"
   },
   "outputs": [],
   "source": []
  },
  {
   "cell_type": "markdown",
   "metadata": {
    "colab_type": "text",
    "id": "8jrAu63JW8sZ"
   },
   "source": [
    "**Task:** Take a user input for a grade(number), convert it to the float type. Make if statements to determine the person's letter grade and print it? Use only A,B,C,D,F for grades. Example: 85.6 is a B.\n",
    "\n",
    "<!-- Answer:\n",
    "\n",
    "```\n",
    "x = input('Enter grade here: ')\n",
    "x = float(x)\n",
    "if(x <= 100 and x >= 90):\n",
    "    print('You got an A!')\n",
    "elif(x < 90 and x >= 80):\n",
    "    print('You got a B!')\n",
    "elif(x < 80 and x >= 70):\n",
    "    print('You got a C!')\n",
    "elif(x < 70 and x >= 60):\n",
    "    print('You got a D!')\n",
    "else:\n",
    "    print('Oh no! You got an F :(')\n",
    "``` -->\n"
   ]
  },
  {
   "cell_type": "code",
   "execution_count": 0,
   "metadata": {
    "colab": {},
    "colab_type": "code",
    "id": "3ClhKfU8YoYn"
   },
   "outputs": [],
   "source": []
  },
  {
   "cell_type": "markdown",
   "metadata": {
    "colab_type": "text",
    "id": "yhtV0T5SVIGS"
   },
   "source": [
    "**Nested if statements** are if statements within if statements.\n",
    "\n",
    "For example:\n",
    "\n",
    "    name = 'Rahul'\n",
    "    age = 20\n",
    "    if(name == 'Rahul'):\n",
    "        if(age == 20):\n",
    "            print('Identity confirmed!')\n",
    "        else:\n",
    "            print('Rahul, this is the wrong age!')\n",
    "    else:\n",
    "        print('You are not Rahul!')\n",
    "\n",
    "This is essentially how websites track your log-in information."
   ]
  },
  {
   "cell_type": "markdown",
   "metadata": {
    "colab_type": "text",
    "id": "ZzZ_mCAjV17l"
   },
   "source": [
    "**Task:** Make a nested if statement that takes a city and an area code (phone-code) as user input and checks if the city is 'Tampa' and the area code is 813. Print 'You are from Tampa and have 813 area code!' or 'You are from Tampa but do not have 813 area code!' or 'You are not from Tampa!'. Use nested if statements.\n",
    "\n",
    "<!-- Answer :\n",
    "```\n",
    "city = input('Enter city name here: ')\n",
    "area_code = input('Enter area code here: ')\n",
    "area_code = int(area_code)\n",
    "if(city == 'Tampa' or city == 'tampa'):\n",
    "    if(area_code == 813):\n",
    "        print('You are from Tampa and have 813 area code!')\n",
    "    else:\n",
    "        print('You are from Tampa but do not have 813 area code!')\n",
    "else:\n",
    "    print('You are not from Tampa!')\n",
    "``` -->\n"
   ]
  },
  {
   "cell_type": "code",
   "execution_count": 0,
   "metadata": {
    "colab": {},
    "colab_type": "code",
    "id": "LIke6A8IaIau"
   },
   "outputs": [],
   "source": []
  },
  {
   "cell_type": "markdown",
   "metadata": {
    "colab_type": "text",
    "id": "N1xG7wyygMYx"
   },
   "source": [
    "**Task:** Same task as above but can you do it without the nested if. Use a regular if statement instead.\n",
    "\n",
    "<!-- Answer:\n",
    "\n",
    "```\n",
    "city = input('Enter city name here: ')\n",
    "area_code = input('Enter area code here: ')\n",
    "area_code = int(area_code)\n",
    "if((city == 'Tampa' or city == 'tampa') and area_code == 813):\n",
    "    print('You are from Tampa and have 813 area code!')\n",
    "elif (city == 'Tampa' or city == 'tampa'):\n",
    "    print('You are from Tampa but do not have 813 area code!')\n",
    "else:\n",
    "    print('You are not from Tampa!')\n",
    "``` -->"
   ]
  },
  {
   "cell_type": "code",
   "execution_count": 0,
   "metadata": {
    "colab": {},
    "colab_type": "code",
    "id": "1S5tyzTBU1uH"
   },
   "outputs": [],
   "source": []
  },
  {
   "cell_type": "markdown",
   "metadata": {
    "colab_type": "text",
    "id": "sTVI9zPd1Nwn"
   },
   "source": [
    "Lets go over the Practice Problems from previous lectures (if time permits):\n",
    "\n",
    "Lecture 1 : https://colab.research.google.com/drive/1RlMF5WD6YvUf7sbGs0XkpYyWvOLyT30b?usp=sharing\n",
    "\n",
    "Lecture 2 : https://colab.research.google.com/drive/14B7NaXdTWmfFhb6wRldo8nTdPMHNX7fZ?usp=sharing\n",
    "\n"
   ]
  }
 ],
 "metadata": {
  "colab": {
   "authorship_tag": "ABX9TyNNmHumsCwyBmmODMU/FTJ1",
   "collapsed_sections": [],
   "name": "Lecture 3.ipynb",
   "provenance": []
  },
  "kernelspec": {
   "display_name": "Python 3",
   "language": "python",
   "name": "python3"
  },
  "language_info": {
   "codemirror_mode": {
    "name": "ipython",
    "version": 3
   },
   "file_extension": ".py",
   "mimetype": "text/x-python",
   "name": "python",
   "nbconvert_exporter": "python",
   "pygments_lexer": "ipython3",
   "version": "3.7.4"
  }
 },
 "nbformat": 4,
 "nbformat_minor": 1
}
