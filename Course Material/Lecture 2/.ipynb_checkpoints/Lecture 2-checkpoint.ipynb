{
 "cells": [
  {
   "cell_type": "markdown",
   "metadata": {
    "colab_type": "text",
    "id": "3_QWEI6zofvK"
   },
   "source": [
    "# Lecture 2 - Naming Convention, Strings, and Booleans\n",
    "\n",
    "*Wednesday, June 3rd 2020*\n",
    "\n",
    "*Rahul Dani*\n",
    "\n",
    "In this lecture, we will cover some important conventions to follow as well as learn about strings and booleans!"
   ]
  },
  {
   "cell_type": "markdown",
   "metadata": {
    "colab_type": "text",
    "id": "PPMp6xYnXmsx"
   },
   "source": [
    "## Topic 1 : Naming Convention"
   ]
  },
  {
   "cell_type": "markdown",
   "metadata": {
    "colab_type": "text",
    "id": "ql95IuC5ZbCk"
   },
   "source": [
    "**Naming conventions** are important because they make it easier for you as well as others to decipher the purpose of that variable just from its name. \n",
    "\n",
    "Some steps to follow:\n",
    "- Keep the variables concise.       \n",
    "- Variables CANNOT start with numbers.\n",
    "- Variables can only start with a letter or underscore (_)   \n",
    "\n",
    "\n",
    "There are two common styles used in programming:        \n",
    "- camelCase     \n",
    "- snake_case\n",
    "\n",
    "Either convention can be used, but make sure to stay consistent throughout the program. "
   ]
  },
  {
   "cell_type": "markdown",
   "metadata": {
    "colab_type": "text",
    "id": "GNpKDJY-Z_3w"
   },
   "source": [
    "**camelCase**: The first word is lowercase and all the following words have the first letter written in UPPERCASE.\n",
    "\n",
    "Ex.    \n",
    "stringOne   \n",
    "finalResult\n"
   ]
  },
  {
   "cell_type": "markdown",
   "metadata": {
    "colab_type": "text",
    "id": "0VKDJLzEb_M_"
   },
   "source": [
    "**snake_case**: All words are written in lowercase and each word is seperated by an underscore.\n",
    "Ex.    \n",
    "string_one   \n",
    "final_result"
   ]
  },
  {
   "cell_type": "markdown",
   "metadata": {
    "colab_type": "text",
    "id": "LDzPvgncjb8C"
   },
   "source": [
    "**Note:** In Python, the standard convention is snake_case. "
   ]
  },
  {
   "cell_type": "markdown",
   "metadata": {
    "colab_type": "text",
    "id": "95IuG8Yag3pO"
   },
   "source": [
    "**Task :** Can someone tell me which of the following string names are valid, which should be ideal?\n",
    "\n",
    "1. numerical_digits\n",
    "2. 2numerical_2digits\n",
    "3. numericalDigits\n",
    "4. num3rical_d1g1ts\n",
    "5. 'numericaldigits'\n",
    "6. _numericalDigits\n",
    "\n"
   ]
  },
  {
   "cell_type": "markdown",
   "metadata": {
    "colab_type": "text",
    "id": "QYw0FQXAZE00"
   },
   "source": [
    "## Topic 2 : Strings"
   ]
  },
  {
   "cell_type": "markdown",
   "metadata": {
    "colab_type": "text",
    "id": "LkWZLJCfZzFP"
   },
   "source": [
    "Strings can be initialized using both single quotes (' ') as well as double quotes (\" \"). For this class, I will be primarily using single quotes.\n",
    "\n",
    "Examples of string variable assignment:\n",
    "\n",
    "```\n",
    "car = 'mustang'\n",
    "chemical = \"chlorine\"\n",
    "pluto = 'not a planet!'\n",
    "seventy_six = '76'\n",
    "lion = ''\n",
    "space = ' '\n",
    "```\n",
    "Notice the last two cases do not contain any text.\n",
    "\n",
    "The lion variable is called an empty string. **Empty strings** contain nothing inside them, but they are valid strings.\n",
    "\n",
    "The space variable contains just a space character. It is technically not empty.\n",
    "\n"
   ]
  },
  {
   "cell_type": "markdown",
   "metadata": {
    "colab_type": "text",
    "id": "qlwcoKFmhmTO"
   },
   "source": [
    "We are also able to combine strings with each other. This process is known as **concatenation**.\n",
    "\n",
    "Examples of concatenation:\n",
    "\n",
    "```\n",
    "'New'+'York' => 'NewYork'\n",
    "'San '+'Francisco' => 'San Francisco'\n",
    "'1' + '2' => '12'\n",
    "'15.67'+'23.88'+'99.11' => '15.6723.8899.11'\n",
    "```\n",
    "\n",
    "Remember that this only works for strings. If you try 1+2 (without quotes) it would give you 3.\n",
    "\n"
   ]
  },
  {
   "cell_type": "markdown",
   "metadata": {
    "colab_type": "text",
    "id": "4LkZG69Qjeqa"
   },
   "source": [
    "**Task :** Write your name but put the string '156.4' between your first and last name and print it out.\n",
    "\n",
    "<!-- Answer:\n",
    "```\n",
    "print('Rahul'+'156.4'+'Dani')\n",
    "``` -->"
   ]
  },
  {
   "cell_type": "code",
   "execution_count": 0,
   "metadata": {
    "colab": {},
    "colab_type": "code",
    "id": "xUnKini-iS7W"
   },
   "outputs": [],
   "source": []
  },
  {
   "cell_type": "markdown",
   "metadata": {
    "colab_type": "text",
    "id": "ZWQI72hwcJXJ"
   },
   "source": [
    "Strings can also be thought of as a **sequence of characters**.\n",
    "\n",
    "For example:\n",
    "```\n",
    "'Atlanta' is a seqeuence of characters A-t-l-a-n-t-a.\n",
    "```\n",
    "**In most programming languages we start counting from 0 instead of 1.** This is the case for Python as well!\n",
    "\n",
    "For example:\n",
    "\n",
    "Normally we say the 1st character in 'Atlanta' is 'A' but in programming 'A' would be the 0th character and the 1st character would be 't'.\n",
    "\n",
    "This concept is known as **0 index counting**.\n",
    "From now on, unless stated differently, **I will be using 0 index counting** when I refer to character counting.\n",
    "\n",
    "**Index** refers to the position in the string or any given list.\n"
   ]
  },
  {
   "cell_type": "markdown",
   "metadata": {
    "colab_type": "text",
    "id": "3_NZmrh_qp2V"
   },
   "source": [
    "Task : What is the 4th character in the string 'Believe you can and you are halfway there'. What is the 11th character?\n",
    "\n",
    "<!-- Answer:\n",
    "\n",
    "```\n",
    "s = 'Believe you can and you are halfway there'\n",
    "print(s[4])\n",
    "print(s[11])\n",
    "``` -->"
   ]
  },
  {
   "cell_type": "code",
   "execution_count": 0,
   "metadata": {
    "colab": {},
    "colab_type": "code",
    "id": "_c8dbrnmsRNC"
   },
   "outputs": [],
   "source": []
  },
  {
   "cell_type": "markdown",
   "metadata": {
    "colab_type": "text",
    "id": "Bes9uCJHzZB-"
   },
   "source": [
    "A handy way to do the above task without physically counting is to use the **slicing operator** [ ] to extract certain character from a string.\n",
    "\n",
    "The operator has the following syntax:\n",
    "\n",
    "```\n",
    "variable[index] # This displays the index character of the variable.\n",
    "variable[start:end] # This shows a subsequence of the string. Note: the end position is not inclusive. So it would show start to end-1\n",
    "```\n",
    "\n",
    "Example 1:\n",
    "```\n",
    "s = 'Life is like riding a bicycle. To keep your balance, you must keep moving'\n",
    "print(s[5]) # This should print 'i' \n",
    "print(s[13]) # This should print 'r'\n",
    "```\n",
    "\n",
    "Example 2:\n",
    "\n",
    "```\n",
    "s = 'Life is like riding a bicycle. To keep your balance, you must keep moving'\n",
    "print(s[0:4]) # This should print 'Life'\n",
    "print(s[22:29]) # This should print 'bicycle'\n",
    "```\n"
   ]
  },
  {
   "cell_type": "markdown",
   "metadata": {
    "colab_type": "text",
    "id": "n4lSMguE2lM6"
   },
   "source": [
    "Task : Extract the word 'balance' from the string 'Life is like riding a bicycle. To keep your balance, you must keep moving'.\n",
    "\n",
    "<!-- Answer:\n",
    "```\n",
    "print(s[44:51])\n",
    "``` -->"
   ]
  },
  {
   "cell_type": "code",
   "execution_count": 0,
   "metadata": {
    "colab": {},
    "colab_type": "code",
    "id": "2LCCx-ey0BZD"
   },
   "outputs": [],
   "source": []
  },
  {
   "cell_type": "markdown",
   "metadata": {
    "colab_type": "text",
    "id": "WQxpMdVepUB8"
   },
   "source": [
    "You can also **reverse** a string by having \n",
    "\n",
    "`variable[::-1]`\n",
    "\n",
    "Example:\n",
    "```\n",
    "a = 'Kennedy'\n",
    "print(a[::-1]) # prints out 'ydenneK'\n",
    "```"
   ]
  },
  {
   "cell_type": "markdown",
   "metadata": {
    "colab_type": "text",
    "id": "8XZctF1ULnfk"
   },
   "source": [
    "#### Convert between different types\n",
    "\n",
    "You can convert between different types by enclosing your variable within the words:\n",
    "\n",
    "*   str()\n",
    "*   float()\n",
    "*   int()\n",
    "\n",
    "Examples:\n",
    "```\n",
    "str(123) # results in '123'\n",
    "str(50.3) # results in '50.3'\n",
    "float(5) # results in 5.0\n",
    "int('134') # results in 134\n",
    "int(18.9) # results in 18\n",
    "\n",
    "pi = 3.14\n",
    "int(pi) # results in 3\n",
    "```"
   ]
  },
  {
   "cell_type": "markdown",
   "metadata": {
    "colab_type": "text",
    "id": "faiPzqpVpi18"
   },
   "source": [
    "Task : Take a 5 digit integer, convert it to a string, then reverse it. (Backwards)\n",
    "\n",
    "<!-- Answer:\n",
    "\n",
    "```\n",
    "a = 63529\n",
    "b = str(a)\n",
    "c = b[::-1]\n",
    "print(c)\n",
    "``` -->\n",
    "\n"
   ]
  },
  {
   "cell_type": "code",
   "execution_count": 0,
   "metadata": {
    "colab": {},
    "colab_type": "code",
    "id": "aSuWS9xlpp4F"
   },
   "outputs": [],
   "source": []
  },
  {
   "cell_type": "markdown",
   "metadata": {
    "colab_type": "text",
    "id": "r28vDc1mZFM8"
   },
   "source": [
    "## Topic 3 : Booleans"
   ]
  },
  {
   "cell_type": "markdown",
   "metadata": {
    "colab_type": "text",
    "id": "LKTa30Plq6x_"
   },
   "source": [
    "As mentioned previously, booleans are also a data type.\n",
    "\n",
    "Booleans can take values of True or False.\n",
    "\n",
    "Example:\n",
    "\n",
    "    fact = True\n",
    "    idea = False\n",
    "\n",
    "There are a few boolean operators in python. They are: and, or, not.\n",
    "\n",
    "The **'and'** operator checks if the left AND right values are true.\n",
    "\n",
    "![alt text](https://i.imgur.com/FjrJG1c.jpg)\n",
    "\n",
    "For example:\n",
    "\n",
    "    a = True\n",
    "    b = False\n",
    "    print(a and b) # results in False because the b variable is False\n",
    "\n",
    "    c = False\n",
    "    d = False\n",
    "    print(c and d) # results in False because both the c and d variables are False \n"
   ]
  },
  {
   "cell_type": "markdown",
   "metadata": {
    "colab_type": "text",
    "id": "z3m-1nAqs_Nf"
   },
   "source": [
    "The **'or'** operator checks if the left OR right values are true.\n",
    "\n",
    "![alt text](https://i.imgur.com/BfWWeS6.jpg)\n",
    "\n",
    "For example:\n",
    "\n",
    "    a = True\n",
    "    b = False\n",
    "    print(a or b) # results in True because the a variable is True\n",
    "\n",
    "    c = False\n",
    "    d = False\n",
    "    print(c or d) # results in False because both the c and d variables are False "
   ]
  },
  {
   "cell_type": "markdown",
   "metadata": {
    "colab_type": "text",
    "id": "FUZ46GlmtVyg"
   },
   "source": [
    "The **'not'** operator takes the inverse of the boolean variable.\n",
    "\n",
    "![alt text](https://i.imgur.com/ZSFO8jJ.jpg)\n",
    "\n",
    "For example:\n",
    "\n",
    "    a = True\n",
    "    b = not a\n",
    "    print(b) # results in False because b is not a and a is True.\n",
    "\n",
    "    c = False\n",
    "    d = not False\n",
    "    print(d) # results in True because b is not False which is True."
   ]
  },
  {
   "cell_type": "markdown",
   "metadata": {
    "colab_type": "text",
    "id": "OyePCdpCGtBr"
   },
   "source": [
    "Operation Precedence (highest to lowest):\n",
    "\n",
    "*   not\n",
    "*   and\n",
    "*   or"
   ]
  },
  {
   "cell_type": "markdown",
   "metadata": {
    "colab_type": "text",
    "id": "jfCfnAD4uXqN"
   },
   "source": [
    "**Task :** What is the value of the 'd' variable in this case?\n",
    "\n",
    "    a = True or False\n",
    "    b = not a\n",
    "    c = False and b\n",
    "    d = not c or a"
   ]
  },
  {
   "cell_type": "code",
   "execution_count": 0,
   "metadata": {
    "colab": {},
    "colab_type": "code",
    "id": "Kifo8Lqssm4C"
   },
   "outputs": [],
   "source": []
  },
  {
   "cell_type": "markdown",
   "metadata": {
    "colab_type": "text",
    "id": "X17BC9Ksxy3G"
   },
   "source": [
    "There are also many **comparator operators** in python. Comparator operators result in boolean as the output. Some of them are:\n",
    "\n",
    "    > # greater than\n",
    "    < # less than\n",
    "    >= # greater than or equal to\n",
    "    <= # less than or equal to\n",
    "    == # equals, we have talked about this before.\n",
    "    != # not equals\n",
    "\n",
    "Examples:\n",
    "\n",
    "    a = 5\n",
    "    b = 7\n",
    "    print(a < b) # results in True\n",
    "\n",
    "    c = 12\n",
    "    d = 37.5\n",
    "    print(b != c) # results in True\n",
    "\n",
    "    e = 'hi'\n",
    "    f = 'bye'\n",
    "    print(e == f) # results in False\n"
   ]
  },
  {
   "cell_type": "markdown",
   "metadata": {
    "colab_type": "text",
    "id": "6t6dIs1KzJrh"
   },
   "source": [
    "You are also able to combine comparators with boolean operators! This might be hard to grasp at first, but you'll get better with practice.\n",
    "\n",
    "For example:\n",
    "\n",
    "    a = 17\n",
    "    b = 25\n",
    "    c = (a <= 20)                         # the value of c is True because a <= 20\n",
    "    d = (not c and True) or (b > 30)      # the value of d is False\n"
   ]
  },
  {
   "cell_type": "markdown",
   "metadata": {
    "colab_type": "text",
    "id": "Fd194t060hQX"
   },
   "source": [
    "**Task :** What is the value of the 'h' variable?\n",
    "\n",
    "    e = (17 < 25)\n",
    "    f = not e or (21 > 10)\n",
    "    g = f and True\n",
    "    h = not g and e"
   ]
  },
  {
   "cell_type": "code",
   "execution_count": 0,
   "metadata": {
    "colab": {},
    "colab_type": "code",
    "id": "wh1PF6BKyv3Y"
   },
   "outputs": [],
   "source": []
  },
  {
   "cell_type": "markdown",
   "metadata": {
    "colab_type": "text",
    "id": "sTVI9zPd1Nwn"
   },
   "source": [
    "Lets go over the Practice Problems from previous lectures (if time permits):\n",
    "\n",
    "Lecture 1 : https://colab.research.google.com/drive/1RlMF5WD6YvUf7sbGs0XkpYyWvOLyT30b?usp=sharing\n",
    "\n",
    "Lecture 2 : https://colab.research.google.com/drive/14B7NaXdTWmfFhb6wRldo8nTdPMHNX7fZ?usp=sharing\n",
    "\n"
   ]
  },
  {
   "cell_type": "code",
   "execution_count": 0,
   "metadata": {
    "colab": {},
    "colab_type": "code",
    "id": "kOrjIbELNqG5"
   },
   "outputs": [],
   "source": []
  }
 ],
 "metadata": {
  "colab": {
   "authorship_tag": "ABX9TyPm1rTTo/oDCRXJ4cMJfLzX",
   "collapsed_sections": [],
   "name": "Lecture 2.ipynb",
   "provenance": []
  },
  "kernelspec": {
   "display_name": "Python 3",
   "language": "python",
   "name": "python3"
  },
  "language_info": {
   "codemirror_mode": {
    "name": "ipython",
    "version": 3
   },
   "file_extension": ".py",
   "mimetype": "text/x-python",
   "name": "python",
   "nbconvert_exporter": "python",
   "pygments_lexer": "ipython3",
   "version": "3.7.4"
  }
 },
 "nbformat": 4,
 "nbformat_minor": 1
}
