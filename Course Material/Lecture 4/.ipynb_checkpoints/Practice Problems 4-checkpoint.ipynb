{
 "cells": [
  {
   "cell_type": "markdown",
   "metadata": {
    "colab_type": "text",
    "id": "LGJLH8gPwOis"
   },
   "source": [
    "## Practice Problems"
   ]
  },
  {
   "cell_type": "markdown",
   "metadata": {
    "colab_type": "text",
    "id": "MCFOqsSs4D-i"
   },
   "source": [
    "**Task 1 :** Create a list called 'animals' fill it with 8 of your favorite animals. Print the animal at index 2 and index 5.\n",
    "\n",
    "<!-- Answer:\n",
    "\n",
    "    animals = ['lion', 'giraffe', 'tiger', 'cow', 'cheetah', 'donkey', 'rabbit', 'fox']\n",
    "    print(animals[2])\n",
    "    print(animals[5]) -->"
   ]
  },
  {
   "cell_type": "code",
   "execution_count": null,
   "metadata": {
    "colab": {},
    "colab_type": "code",
    "id": "nuw3Guou4OLS"
   },
   "outputs": [],
   "source": []
  },
  {
   "cell_type": "markdown",
   "metadata": {
    "colab_type": "text",
    "id": "2H-vg8zR4D2a"
   },
   "source": [
    "**Task 2 :** Create a list with numbers from 13 to 35 and print the element at index 6. Do not individually type the numbers, use the range() command.\n",
    "<!-- Answer: \n",
    "    x = range(13,36)\n",
    "    print(x[6]) -->"
   ]
  },
  {
   "cell_type": "code",
   "execution_count": null,
   "metadata": {
    "colab": {},
    "colab_type": "code",
    "id": "rXc2wTJc4Opq"
   },
   "outputs": [],
   "source": []
  },
  {
   "cell_type": "markdown",
   "metadata": {
    "colab_type": "text",
    "id": "I4tDSDXh4Dxk"
   },
   "source": [
    "**Task 3 :** Using a *while loop* print all the even numbers between 2 and 56. Remember to click 'Runtime' then 'Restart runtime' if you get an \"infinite loop\"!\n",
    "\n",
    "<!-- Answer: \n",
    "\n",
    "    x = 2\n",
    "    while(x < 57):\n",
    "        if(x % 2 == 0):\n",
    "            print(x)\n",
    "        x += 1 -->"
   ]
  },
  {
   "cell_type": "code",
   "execution_count": null,
   "metadata": {
    "colab": {},
    "colab_type": "code",
    "id": "b89aJ2-E4PEV"
   },
   "outputs": [],
   "source": []
  },
  {
   "cell_type": "markdown",
   "metadata": {
    "colab_type": "text",
    "id": "Kw3zomoe4DnY"
   },
   "source": [
    "**Task 4 :** Using the 'animal' list you made in Question 1, print all the animals using a *for loop*.\n",
    "\n",
    "<!-- Answer: \n",
    "\n",
    "    animals = ['lion', 'giraffe', 'tiger', 'cow', 'cheetah', 'donkey', 'rabbit', 'fox']\n",
    "    for animal in animals:\n",
    "        print(animal) -->"
   ]
  },
  {
   "cell_type": "code",
   "execution_count": null,
   "metadata": {
    "colab": {},
    "colab_type": "code",
    "id": "h71DsQuG7mr8"
   },
   "outputs": [],
   "source": []
  }
 ],
 "metadata": {
  "colab": {
   "authorship_tag": "ABX9TyMAUZwiVUh8tPuhAO9cNrEB",
   "collapsed_sections": [],
   "name": "Practice Problems 4.ipynb",
   "provenance": []
  },
  "kernelspec": {
   "display_name": "Python 3",
   "language": "python",
   "name": "python3"
  },
  "language_info": {
   "codemirror_mode": {
    "name": "ipython",
    "version": 3
   },
   "file_extension": ".py",
   "mimetype": "text/x-python",
   "name": "python",
   "nbconvert_exporter": "python",
   "pygments_lexer": "ipython3",
   "version": "3.7.4"
  }
 },
 "nbformat": 4,
 "nbformat_minor": 1
}
