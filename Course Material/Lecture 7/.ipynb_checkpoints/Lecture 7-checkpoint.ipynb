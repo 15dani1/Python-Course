{
 "cells": [
  {
   "cell_type": "markdown",
   "metadata": {
    "colab_type": "text",
    "id": "3_QWEI6zofvK"
   },
   "source": [
    "# Lecture 7 - Dictionary, Input Handling, Scopes\n",
    "\n",
    "*Monday, June 22nd 2020*\n",
    "\n",
    "*Rahul Dani*\n",
    "\n",
    "In this lecture, we will learn about the dictionary, input handling, and scopes."
   ]
  },
  {
   "cell_type": "markdown",
   "metadata": {
    "colab_type": "text",
    "id": "ZDdgPBpNEdpV"
   },
   "source": [
    "## Topic 1 : Dictionary"
   ]
  },
  {
   "cell_type": "markdown",
   "metadata": {
    "colab_type": "text",
    "id": "mWSFLEkLEjpu"
   },
   "source": [
    "A **dictionary** is a data structure used to store **key-value pairs**. They are unordered, cannot be indexed, and changeable.\n",
    "\n",
    "A **key** is refered to as unique identifier. Ex: username, first and last name, id number, etc.\n",
    "\n",
    "A **value** can be any type. Ex: password, color, etc.\n",
    "\n",
    "Dictionaries are also called **\"Hash maps\"** or **\"Hash tables\"** in other programming languages."
   ]
  },
  {
   "cell_type": "markdown",
   "metadata": {
    "colab_type": "text",
    "id": "TEXUYP4BGWwg"
   },
   "source": [
    "Example of dictionary syntax:\n",
    "\n",
    "    name = {key1 : value1, key2 : value2}\n",
    "\n",
    "We use curly brackets for dictionaries and if the key and value are strings we use ' '(single quotes) around them. The key and value are separated by a colon(:) and each pair is separated by a comma.\n",
    "\n",
    "The key is on the left, the value is on the right.\n"
   ]
  },
  {
   "cell_type": "markdown",
   "metadata": {
    "colab_type": "text",
    "id": "zaxrmuIsGDjF"
   },
   "source": [
    "Some real examples:\n",
    "\n",
    "    my_car = {'color' : 'brown', 'make' : 'Hyundai', 'model' : 'Sonata', 'year' : 2017}\n",
    "    user = {'name' : 'Rahul', 'age': 20, 'fav_color' : 'red'}\n",
    "    city = {}\n",
    "\n",
    "A dictionary is a good way to describe an object.\n",
    "\n",
    "**Note:** you cannot use name[0] to get the first item/element from a dictionary.\n",
    "\n",
    "![alt text](https://raw.githubusercontent.com/learn-co-curriculum/cssi-4.10-python-dictionaries/master/images/dictionary.png)"
   ]
  },
  {
   "cell_type": "markdown",
   "metadata": {
    "colab_type": "text",
    "id": "7toeyJwSEhFX"
   },
   "source": [
    "**Task 1 :** Create a dictionary called 'city' and add 4 keys to it : name, state (2 letter), population, temperature. Then add values of your choice to each key. \n",
    "\n",
    "<!-- Answer:\n",
    "\n",
    "    city = {'name' : 'Denver', 'state' : 'CO', 'population' : 2932415, 'temperature' : 82} -->"
   ]
  },
  {
   "cell_type": "code",
   "execution_count": null,
   "metadata": {
    "colab": {
     "base_uri": "https://localhost:8080/",
     "height": 35
    },
    "colab_type": "code",
    "executionInfo": {
     "elapsed": 566,
     "status": "ok",
     "timestamp": 1592838546630,
     "user": {
      "displayName": "Rahul Dani",
      "photoUrl": "https://lh3.googleusercontent.com/a-/AOh14Gj4Ylyc5noiFAMi-UQaeNwk1wfY6BGY9uKNf5_8IQ=s64",
      "userId": "15518412354795461544"
     },
     "user_tz": 240
    },
    "id": "pMpL_wnTDcMt",
    "outputId": "9a1a1672-8f91-40eb-f4fc-aba395615358"
   },
   "outputs": [],
   "source": []
  },
  {
   "cell_type": "markdown",
   "metadata": {
    "colab_type": "text",
    "id": "UNMTdbTQLnmg"
   },
   "source": [
    "In order to **access a value** from a key, use this syntax:\n",
    "\n",
    "    dict_name[key]\n",
    "\n",
    "For example:\n",
    "\n",
    "    x = my_car['make'] # x would be 'Hyundai'\n",
    "    y = user['age']    # y would be 20"
   ]
  },
  {
   "cell_type": "markdown",
   "metadata": {
    "colab_type": "text",
    "id": "95gbfnwLNsjE"
   },
   "source": [
    "To check if a key is in a dictionary:\n",
    "\n",
    "    if key in dict_name:\n",
    "        print('Yes, the dictionary has that key!)\n",
    "    else:\n",
    "        print('No, the dictionary does not have that key!)\n",
    "\n",
    "For example:\n",
    "\n",
    "    if 'name' in user:\n",
    "        print('Yes, the dictionary has that key!')\n",
    "    else:\n",
    "        print('No, the dictionary does not have that key!')"
   ]
  },
  {
   "cell_type": "markdown",
   "metadata": {
    "colab_type": "text",
    "id": "ocJXD04bOaD5"
   },
   "source": [
    "**Task 2 :** Check if the key 'country' is in your city dictionary. If so, print 'Yes, the dictionary has that key!', otherwise print 'No, the dictionary does not have that key!'.\n",
    "\n",
    "<!-- Answer:\n",
    "\n",
    "    if 'country' in city:\n",
    "        print('Yes, the dictionary has that key!')\n",
    "    else:\n",
    "        print('No, the dictionary does not have that key!') -->"
   ]
  },
  {
   "cell_type": "code",
   "execution_count": null,
   "metadata": {
    "colab": {
     "base_uri": "https://localhost:8080/",
     "height": 35
    },
    "colab_type": "code",
    "executionInfo": {
     "elapsed": 521,
     "status": "ok",
     "timestamp": 1592838913814,
     "user": {
      "displayName": "Rahul Dani",
      "photoUrl": "https://lh3.googleusercontent.com/a-/AOh14Gj4Ylyc5noiFAMi-UQaeNwk1wfY6BGY9uKNf5_8IQ=s64",
      "userId": "15518412354795461544"
     },
     "user_tz": 240
    },
    "id": "ZOO6WebUHzeq",
    "outputId": "022096fa-001e-4cbb-b259-63b50c305755"
   },
   "outputs": [],
   "source": []
  },
  {
   "cell_type": "markdown",
   "metadata": {
    "colab_type": "text",
    "id": "izaYNXfwPCOD"
   },
   "source": [
    "**Task 3 :** Print your city name and state (from city dictionary) in one line format. Ex: Tampa, FL\n",
    "\n",
    "<!-- Answer: \n",
    "\n",
    "    print(city['name'] + ', ' + city['state']) -->"
   ]
  },
  {
   "cell_type": "code",
   "execution_count": null,
   "metadata": {
    "colab": {
     "base_uri": "https://localhost:8080/",
     "height": 35
    },
    "colab_type": "code",
    "executionInfo": {
     "elapsed": 467,
     "status": "ok",
     "timestamp": 1592839137349,
     "user": {
      "displayName": "Rahul Dani",
      "photoUrl": "https://lh3.googleusercontent.com/a-/AOh14Gj4Ylyc5noiFAMi-UQaeNwk1wfY6BGY9uKNf5_8IQ=s64",
      "userId": "15518412354795461544"
     },
     "user_tz": 240
    },
    "id": "wWKjTt1cM6-A",
    "outputId": "83b11dd1-c62f-494b-bdbe-ad6f5382d6ef"
   },
   "outputs": [],
   "source": []
  },
  {
   "cell_type": "markdown",
   "metadata": {
    "colab_type": "text",
    "id": "CMXCQFbZP17C"
   },
   "source": [
    "If you want to **print all the items** in your dictionary, there are 3 ways:\n",
    "\n",
    "    for value in dict_name.values():\n",
    "        print(value)\n",
    "\n",
    "    for key in dict_name.keys():\n",
    "        print(key)\n",
    "\n",
    "    for item in dict_name.items():\n",
    "        print(item)\n",
    "\n",
    "Make sure dict_name is the name of your dictionary. You can use any variable name instead of \"value\", \"key\", or \"item\". I just chose those cause it is easy to understand.\n",
    "\n",
    "You can also use:\n",
    "\n",
    "    print('model' in my_car.keys()) # Prints true or false based on if dictionary has key. In this case True.\n",
    "    print('red' in user.values()) # Prints true or false based on if dictionary has value. In this case True"
   ]
  },
  {
   "cell_type": "code",
   "execution_count": null,
   "metadata": {
    "colab": {},
    "colab_type": "code",
    "id": "mOD8wA4yoF3g"
   },
   "outputs": [],
   "source": []
  },
  {
   "cell_type": "markdown",
   "metadata": {
    "colab_type": "text",
    "id": "VshKR0-SQeIf"
   },
   "source": [
    "**Task 4 :** Print all the items in your city dictionary.\n",
    "\n",
    "<!-- Answer:\n",
    "\n",
    "    for item in city.items():\n",
    "    print(item) -->"
   ]
  },
  {
   "cell_type": "code",
   "execution_count": null,
   "metadata": {
    "colab": {
     "base_uri": "https://localhost:8080/",
     "height": 87
    },
    "colab_type": "code",
    "executionInfo": {
     "elapsed": 569,
     "status": "ok",
     "timestamp": 1592839597583,
     "user": {
      "displayName": "Rahul Dani",
      "photoUrl": "https://lh3.googleusercontent.com/a-/AOh14Gj4Ylyc5noiFAMi-UQaeNwk1wfY6BGY9uKNf5_8IQ=s64",
      "userId": "15518412354795461544"
     },
     "user_tz": 240
    },
    "id": "zmBukoZKPnkv",
    "outputId": "98706dba-ed67-424b-ac9a-fe7bb5edd691"
   },
   "outputs": [],
   "source": []
  },
  {
   "cell_type": "markdown",
   "metadata": {
    "colab_type": "text",
    "id": "qVNjeDqjV12P"
   },
   "source": [
    "**Task 5 :** Check if your city name is 'Tampa', print either True or False.\n",
    "\n",
    "<!-- Answer:\n",
    "\n",
    "    print('Tampa' in city.values()) -->"
   ]
  },
  {
   "cell_type": "code",
   "execution_count": 1,
   "metadata": {
    "colab": {
     "base_uri": "https://localhost:8080/",
     "height": 52
    },
    "colab_type": "code",
    "executionInfo": {
     "elapsed": 524,
     "status": "ok",
     "timestamp": 1592839934124,
     "user": {
      "displayName": "Rahul Dani",
      "photoUrl": "https://lh3.googleusercontent.com/a-/AOh14Gj4Ylyc5noiFAMi-UQaeNwk1wfY6BGY9uKNf5_8IQ=s64",
      "userId": "15518412354795461544"
     },
     "user_tz": 240
    },
    "id": "kar3CYAtWBIs",
    "outputId": "d3c02038-017b-4d6d-ff92-ae9ccbdf432a"
   },
   "outputs": [
    {
     "name": "stdout",
     "output_type": "stream",
     "text": [
      "False\n",
      "False\n"
     ]
    }
   ],
   "source": [
    "city = {'name' : 'Denver', 'state' : 'Florida', 'population' : 21480000, 'temperature' : 72}\n",
    "print('Tampa' in city.values())\n",
    "print(city['name'] == 'Tampa')"
   ]
  },
  {
   "cell_type": "markdown",
   "metadata": {
    "colab_type": "text",
    "id": "jp3j_YjGWdMW"
   },
   "source": [
    "To **add a new key-value** pair to you dictionary:\n",
    "\n",
    "    dict_name[new_key] = new_value\n",
    "\n",
    "For example:\n",
    "\n",
    "    my_car['Transmission'] = 'Automatic'\n",
    "    user['school'] = 'UF'"
   ]
  },
  {
   "cell_type": "markdown",
   "metadata": {
    "colab_type": "text",
    "id": "CntPHz5FXnmB"
   },
   "source": [
    "In order to **remove a key-value** pair:\n",
    "\n",
    "    dict_name.pop(key)\n",
    "\n",
    "For example:\n",
    "\n",
    "    user.pop('age')"
   ]
  },
  {
   "cell_type": "markdown",
   "metadata": {
    "colab_type": "text",
    "id": "qPc6DjadX63E"
   },
   "source": [
    "**Task 6 :** Add a new key called 'county' to your city dictionary and add the county name. Remove the temperature key from your city.\n",
    "\n",
    "<!-- Answer:\n",
    "\n",
    "    city['county'] = 'Denver'\n",
    "    city.pop('temperature')\n",
    "    for item in city.items():\n",
    "        print(item) -->"
   ]
  },
  {
   "cell_type": "code",
   "execution_count": null,
   "metadata": {
    "colab": {
     "base_uri": "https://localhost:8080/",
     "height": 87
    },
    "colab_type": "code",
    "executionInfo": {
     "elapsed": 618,
     "status": "ok",
     "timestamp": 1592840206888,
     "user": {
      "displayName": "Rahul Dani",
      "photoUrl": "https://lh3.googleusercontent.com/a-/AOh14Gj4Ylyc5noiFAMi-UQaeNwk1wfY6BGY9uKNf5_8IQ=s64",
      "userId": "15518412354795461544"
     },
     "user_tz": 240
    },
    "id": "SzbagcnqWR6G",
    "outputId": "70483a10-8edb-4325-f938-50aba564516c"
   },
   "outputs": [],
   "source": []
  },
  {
   "cell_type": "markdown",
   "metadata": {
    "colab_type": "text",
    "id": "2utLXC37Yyjp"
   },
   "source": [
    "**Where are dictionaries used?**\n",
    "\n",
    "    * Storing usernames and passwords for accounts.\n",
    "    * Getting find and replace counts on a webpage/document.\n",
    "    * Store inventory/menus\n",
    "    * and many more....\n"
   ]
  },
  {
   "cell_type": "markdown",
   "metadata": {
    "colab_type": "text",
    "id": "SIFa3zmMoZ3L"
   },
   "source": [
    "## Topic 2 : Input Handling"
   ]
  },
  {
   "cell_type": "markdown",
   "metadata": {
    "colab_type": "text",
    "id": "NsUVRWzXoePl"
   },
   "source": [
    "**Input handling** is used to ensure that users enter the correct type of input.\n",
    "\n",
    "Example (program that checks if you are an adult):\n",
    "\n",
    "    x = input('Enter your age as a number')\n",
    "    x = int(x)\n",
    "    if x >= 18:\n",
    "        print('You are an adult!')\n",
    "    else:\n",
    "        print('You are not an adult!')\n",
    "\n",
    "This should work assuming you enter a number. \n",
    "\n",
    "What if you entered a string or boolean instead?\n",
    "    **The program would crash!**\n",
    "\n",
    "\n",
    "```\n",
    "ValueError                                Traceback (most recent call last)\n",
    "<ipython-input-4-b01ea18e0a59> in <module>()\n",
    "      1 x = input('Enter your age as a number')\n",
    "----> 2 x = int(x)\n",
    "      3 if x >= 18:\n",
    "      4     print('You are an adult!')\n",
    "      5 else:\n",
    "\n",
    "ValueError: invalid literal for int() with base 10: 'Hello'\n",
    "```\n"
   ]
  },
  {
   "cell_type": "markdown",
   "metadata": {
    "colab_type": "text",
    "id": "49D6b9E9yp4s"
   },
   "source": [
    "In order to solve that we would use **try and except**:\n",
    "\n",
    "    while True:\n",
    "        x = input('Enter your age as a number: ')\n",
    "        try:\n",
    "            x = int(x)\n",
    "        except:\n",
    "            print('Please enter a number!')\n",
    "            continue\n",
    "        if x < 0:\n",
    "            print('Please enter a positive number!')\n",
    "            continue\n",
    "        if x >= 18:\n",
    "            print('You are an adult!')\n",
    "        else:\n",
    "            print('You are not an adult!')\n",
    "        break\n",
    "\n",
    "\n"
   ]
  },
  {
   "cell_type": "markdown",
   "metadata": {
    "colab_type": "text",
    "id": "E9ZZzbn90S9H"
   },
   "source": [
    "or you can use a python library called **pyinputplus**!\n",
    "\n",
    "Make sure to install it first using:\n",
    "\n",
    "    !pip install -q pyinputplus\n",
    "\n",
    "Example:\n",
    "\n",
    "    import pyinputplus as pyip    # We use 'as' as a shortcut for referencing pyinputplus, in this case pyip\n",
    "    \n",
    "    x = pyip.inputNum('Enter your age here: ', min=0)\n",
    "    if x >= 18:\n",
    "        print('You are an adult!')\n",
    "    else:\n",
    "        print('You are not an adult!')\n",
    "\n",
    "\n"
   ]
  },
  {
   "cell_type": "code",
   "execution_count": null,
   "metadata": {
    "colab": {
     "base_uri": "https://localhost:8080/",
     "height": 173
    },
    "colab_type": "code",
    "executionInfo": {
     "elapsed": 14019,
     "status": "ok",
     "timestamp": 1592840748824,
     "user": {
      "displayName": "Rahul Dani",
      "photoUrl": "https://lh3.googleusercontent.com/a-/AOh14Gj4Ylyc5noiFAMi-UQaeNwk1wfY6BGY9uKNf5_8IQ=s64",
      "userId": "15518412354795461544"
     },
     "user_tz": 240
    },
    "id": "Y_yhI0oltL78",
    "outputId": "8aee0224-707a-4d71-a1a1-ba07544a18e4"
   },
   "outputs": [],
   "source": [
    "!pip install -q pyinputplus"
   ]
  },
  {
   "cell_type": "code",
   "execution_count": null,
   "metadata": {
    "colab": {
     "base_uri": "https://localhost:8080/",
     "height": 156
    },
    "colab_type": "code",
    "executionInfo": {
     "elapsed": 24496,
     "status": "ok",
     "timestamp": 1592840778950,
     "user": {
      "displayName": "Rahul Dani",
      "photoUrl": "https://lh3.googleusercontent.com/a-/AOh14Gj4Ylyc5noiFAMi-UQaeNwk1wfY6BGY9uKNf5_8IQ=s64",
      "userId": "15518412354795461544"
     },
     "user_tz": 240
    },
    "id": "GMndcnfOtJr3",
    "outputId": "6c8366fb-ff41-4f81-8800-fb931227b935"
   },
   "outputs": [],
   "source": []
  },
  {
   "cell_type": "markdown",
   "metadata": {
    "colab_type": "text",
    "id": "bV55RL2b3ABr"
   },
   "source": [
    "**Task 7 :**The pyinputplus library has a function called inputEmail(). It looks like pyip.inputEmail(). Use that function to get a valid email address from the user and print that email with a message 'The email you have provided is: entered_email.'\n",
    "\n",
    "<!-- Answer:\n",
    "\n",
    "    import pyinputplus as pyip  \n",
    " \n",
    "    x = pyip.inputEmail('Enter your email here: ')\n",
    "    print('The email you have provided is:', x) -->"
   ]
  },
  {
   "cell_type": "code",
   "execution_count": null,
   "metadata": {
    "colab": {
     "base_uri": "https://localhost:8080/",
     "height": 52
    },
    "colab_type": "code",
    "executionInfo": {
     "elapsed": 10470,
     "status": "ok",
     "timestamp": 1592840999117,
     "user": {
      "displayName": "Rahul Dani",
      "photoUrl": "https://lh3.googleusercontent.com/a-/AOh14Gj4Ylyc5noiFAMi-UQaeNwk1wfY6BGY9uKNf5_8IQ=s64",
      "userId": "15518412354795461544"
     },
     "user_tz": 240
    },
    "id": "PABmO-TLxqYG",
    "outputId": "972789ff-0050-49b5-9b65-1e4cbe249a90"
   },
   "outputs": [],
   "source": []
  },
  {
   "cell_type": "markdown",
   "metadata": {
    "colab_type": "text",
    "id": "bAfoF_lI4ox_"
   },
   "source": [
    "## Topic 3 (Optional) : Scopes"
   ]
  },
  {
   "cell_type": "markdown",
   "metadata": {
    "colab_type": "text",
    "id": "g2do8MG6O_64"
   },
   "source": [
    "**Scopes** refer to the parts of a program that can access various functions and variables. Today, we will discuss scoping with functions and we will discuss variable scoping in a future lecture."
   ]
  },
  {
   "cell_type": "markdown",
   "metadata": {
    "colab_type": "text",
    "id": "-lbR45NTPXWU"
   },
   "source": [
    "Here is an example of a function (remember from last lecture):\n",
    "\n",
    "    def name(x):         # Definiting the function\n",
    "        print(x)         # Print statement\n",
    "\n",
    "    name('Nancy')        # Calling the function\n",
    "\n",
    "In this example, the name 'Nancy' is printed.\n",
    "\n",
    "\n"
   ]
  },
  {
   "cell_type": "markdown",
   "metadata": {
    "colab_type": "text",
    "id": "-LghoOJ2QORx"
   },
   "source": [
    "**Task 8 :** What about this example, what is the result of this code? Explain:\n",
    "\n",
    "    def name2(x):          # Function definition\n",
    "        print(x)           # Print statement\n",
    "\n",
    "    def name(x):           # Function definition\n",
    "        name2(x)           # Function call\n",
    "        print('ABC')\n",
    " \n",
    "    name('Nancy')          # Function call"
   ]
  },
  {
   "cell_type": "code",
   "execution_count": null,
   "metadata": {
    "colab": {
     "base_uri": "https://localhost:8080/",
     "height": 52
    },
    "colab_type": "code",
    "executionInfo": {
     "elapsed": 814,
     "status": "ok",
     "timestamp": 1592841268688,
     "user": {
      "displayName": "Rahul Dani",
      "photoUrl": "https://lh3.googleusercontent.com/a-/AOh14Gj4Ylyc5noiFAMi-UQaeNwk1wfY6BGY9uKNf5_8IQ=s64",
      "userId": "15518412354795461544"
     },
     "user_tz": 240
    },
    "id": "lQ5za-nmTiiP",
    "outputId": "9e9326a1-ba5f-40c8-8d94-b713a92e073f"
   },
   "outputs": [],
   "source": []
  },
  {
   "cell_type": "markdown",
   "metadata": {
    "colab_type": "text",
    "id": "34O0uEvTRV47"
   },
   "source": [
    "**Task 9 :** What is the result of this code? This might be confusing to grasp at first.\n",
    "\n",
    "    def sub(x,y):\n",
    "        print(x-y)\n",
    "\n",
    "    def mult(x,y):\n",
    "        z = x*y\n",
    "        print(z)\n",
    "        sub(z, y)\n",
    "\n",
    "    def add(x,y):\n",
    "        z = x + y\n",
    "        mult(z, x)\n",
    "        print(z)\n",
    "\n",
    "    add(5,4)\n"
   ]
  },
  {
   "cell_type": "code",
   "execution_count": null,
   "metadata": {
    "colab": {
     "base_uri": "https://localhost:8080/",
     "height": 69
    },
    "colab_type": "code",
    "executionInfo": {
     "elapsed": 785,
     "status": "ok",
     "timestamp": 1592841718923,
     "user": {
      "displayName": "Rahul Dani",
      "photoUrl": "https://lh3.googleusercontent.com/a-/AOh14Gj4Ylyc5noiFAMi-UQaeNwk1wfY6BGY9uKNf5_8IQ=s64",
      "userId": "15518412354795461544"
     },
     "user_tz": 240
    },
    "id": "6tfs_KoYPlkZ",
    "outputId": "7183a66b-cefc-4fdd-8fb4-1beeaa614089"
   },
   "outputs": [],
   "source": []
  },
  {
   "cell_type": "markdown",
   "metadata": {
    "colab_type": "text",
    "id": "sTVI9zPd1Nwn"
   },
   "source": [
    "Practice Problems from previous lectures to work on after class:\n",
    "\n",
    "Lecture 1 : https://colab.research.google.com/drive/1RlMF5WD6YvUf7sbGs0XkpYyWvOLyT30b?usp=sharing\n",
    "\n",
    "Lecture 2 : https://colab.research.google.com/drive/14B7NaXdTWmfFhb6wRldo8nTdPMHNX7fZ?usp=sharing\n",
    "\n",
    "Lecture 3 : https://colab.research.google.com/drive/1WLEpSIk2eDn9YORxIuBJKAIBtvQ0E50Q?usp=sharing\n",
    "\n",
    "Lecture 4 :  https://colab.research.google.com/drive/1eZ3Xzojdu8QYzLD3AfkImMgSf9xUMsHD?usp=sharing\n",
    "\n",
    "Lecture 6 : https://colab.research.google.com/drive/1fbE_v3kYROSSHDjPQEzmtSp263SRDNiI?usp=sharing\n",
    "\n"
   ]
  }
 ],
 "metadata": {
  "colab": {
   "authorship_tag": "ABX9TyMeQ5lC53DtGaA8sDqNvrdS",
   "collapsed_sections": [],
   "name": "Lecture 7.ipynb",
   "provenance": []
  },
  "kernelspec": {
   "display_name": "Python 3",
   "language": "python",
   "name": "python3"
  },
  "language_info": {
   "codemirror_mode": {
    "name": "ipython",
    "version": 3
   },
   "file_extension": ".py",
   "mimetype": "text/x-python",
   "name": "python",
   "nbconvert_exporter": "python",
   "pygments_lexer": "ipython3",
   "version": "3.7.4"
  }
 },
 "nbformat": 4,
 "nbformat_minor": 1
}
