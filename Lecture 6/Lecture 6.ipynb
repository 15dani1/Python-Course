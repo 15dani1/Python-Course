{
 "cells": [
  {
   "cell_type": "markdown",
   "metadata": {
    "colab_type": "text",
    "id": "3_QWEI6zofvK"
   },
   "source": [
    "# Lecture 6 - Functions\n",
    "\n",
    "*Wednesday, June 17th 2020*\n",
    "\n",
    "*Rahul Dani*\n",
    "\n",
    "In this lecture, we will learn about functions, how to define them, call them, and some extra features."
   ]
  },
  {
   "cell_type": "markdown",
   "metadata": {
    "colab_type": "text",
    "id": "Bk5WM7h2F9e_"
   },
   "source": [
    "## Topic 1 : What are functions?"
   ]
  },
  {
   "cell_type": "markdown",
   "metadata": {
    "colab_type": "text",
    "id": "vlhBMk4CIWAV"
   },
   "source": [
    "A function is a block of organized and reusable code. It takes in an input, does calculation, then returns an output. \n",
    "\n",
    "Functions are also sometimes called methods, they are interchangeable."
   ]
  },
  {
   "cell_type": "markdown",
   "metadata": {
    "colab_type": "text",
    "id": "YibkU-xkJBkN"
   },
   "source": [
    "Functions have 2 parts to them: **Definition (Define) and Calling**.\n",
    "\n",
    "**Define :** The part where you make the function a.k.a the task it is supposed to handle.\n",
    "\n",
    "**Call :** Actually using the function you made."
   ]
  },
  {
   "cell_type": "markdown",
   "metadata": {
    "colab_type": "text",
    "id": "ZI5THuE1JM82"
   },
   "source": [
    "Functions have 3 main elements to them:\n",
    "\n",
    "**Parameters (also referred to as Arguments)** : These are your inputs! They are the components you want to run the function on.\n",
    "\n",
    "**Code block** : The task of the function. What the function is doing!\n",
    "\n",
    "**Return type** : The output of the function. What is the end result.\n",
    "\n",
    "Note: There are some functions that do not return anything, there are typically referred to as void functions. They are still perfectly valid functions."
   ]
  },
  {
   "cell_type": "markdown",
   "metadata": {
    "colab_type": "text",
    "id": "7Cymv8UyOWxG"
   },
   "source": [
    "## Topic 2 : Function Definition"
   ]
  },
  {
   "cell_type": "markdown",
   "metadata": {
    "colab_type": "text",
    "id": "uynD3mTBPKEM"
   },
   "source": [
    "This is an example of how a function is defined:\n",
    "\n",
    "    def name(parameter):        \n",
    "        code_block\n",
    "        return answer\n",
    "\n",
    "* We use the word 'def' to define a function.\n",
    "\n",
    "* The word 'name' is the name of the function, it can be whatever you like.\n",
    "\n",
    "* 'parameter' is the inputs to you program.\n",
    "\n",
    "* code_block is the task performed inside this function.\n",
    "\n",
    "* 'return' means output.\n",
    "\n",
    "* answer is the variable that is being outputted.\n",
    "\n",
    "Note: Make sure to use **colons (:) and indent (tab)**!"
   ]
  },
  {
   "cell_type": "markdown",
   "metadata": {
    "colab_type": "text",
    "id": "GV7LrnRDQZQr"
   },
   "source": [
    "Example 1: The function to add two numbers would look like:\n",
    "\n",
    "    def add_num(a, b): # add_num is the name of my function, and it takes 2 parameters: a and b\n",
    "        sum = a + b    # this is the code block that does the addition calculation.\n",
    "        return sum     # returns/outputs sum as the result of this function"
   ]
  },
  {
   "cell_type": "markdown",
   "metadata": {
    "colab_type": "text",
    "id": "bVHF5tRtRorR"
   },
   "source": [
    "Example 2: The function to check if the number is greater than 20:\n",
    "\n",
    "    def is_greater_than_20(x):\n",
    "        if (x > 20):\n",
    "            return True\n",
    "        else:\n",
    "            return False"
   ]
  },
  {
   "cell_type": "markdown",
   "metadata": {
    "colab_type": "text",
    "id": "p4rKnsEaSmqi"
   },
   "source": [
    "Example 3: Check if x is a string type.\n",
    "\n",
    "    def is_string(x):\n",
    "        if (type(x) == str):\n",
    "            print('Yes, the variable is a string!')\n",
    "        else:\n",
    "            print('No, the variable is not a string!)\n",
    "\n",
    "This above example is a void function as it does not 'return' anything, just prints.\n"
   ]
  },
  {
   "cell_type": "markdown",
   "metadata": {
    "colab_type": "text",
    "id": "MZELQPBeZ8la"
   },
   "source": [
    "**Task :** Make a function named 'bigger_num' that takes 2 numbers as variables and returns the larger number. Note : You will not be able to test this just yet. We will learn how to do that in the next section.\n",
    "\n",
    "<!-- Answer: \n",
    "\n",
    "```\n",
    "def bigger_num(a, b):\n",
    "    if (a > b):\n",
    "        return a\n",
    "    elif (b > a):\n",
    "        return b\n",
    "    else:\n",
    "        print(\"The first and second numbers are equal to each other!\")\n",
    "        return a\n",
    "``` -->\n"
   ]
  },
  {
   "cell_type": "code",
   "execution_count": null,
   "metadata": {
    "colab": {},
    "colab_type": "code",
    "id": "XkWcADpK2Umi"
   },
   "outputs": [],
   "source": []
  },
  {
   "cell_type": "markdown",
   "metadata": {
    "colab_type": "text",
    "id": "4JvoSP6qcEfb"
   },
   "source": [
    "**Task :** Make function named 'abs_val' that takes a number and return its absolute value. Ex : -5 would be 5; 10 would still be 10.\n",
    "\n",
    "<!-- Answer: \n",
    "```\n",
    "def abs_val(x):\n",
    "    if(x < 0):\n",
    "        return x*-1\n",
    "    else:\n",
    "        return x\n",
    "``` -->"
   ]
  },
  {
   "cell_type": "code",
   "execution_count": null,
   "metadata": {
    "colab": {},
    "colab_type": "code",
    "id": "BH4UnMf-TPya"
   },
   "outputs": [],
   "source": []
  },
  {
   "cell_type": "markdown",
   "metadata": {
    "colab_type": "text",
    "id": "BWsHjcQXgCUJ"
   },
   "source": [
    "**Task :** Make a void function called 'me' that takes in a name variable and prints 'Hello, NAME' if the name is your name, otherwise prints 'Hello, random person!'\n",
    "\n",
    "<!-- Answer:\n",
    "```\n",
    "def me(name):\n",
    "    my_name = 'Rahul'\n",
    "    if name == my_name:\n",
    "        print('Hello,', my_name)\n",
    "    else:\n",
    "        print('Hello, random person!')\n",
    "``` -->\n"
   ]
  },
  {
   "cell_type": "code",
   "execution_count": null,
   "metadata": {
    "colab": {},
    "colab_type": "code",
    "id": "WJ9rVo4_gbZj"
   },
   "outputs": [],
   "source": []
  },
  {
   "cell_type": "markdown",
   "metadata": {
    "colab_type": "text",
    "id": "pMouj_-iejm7"
   },
   "source": [
    "## Topic 3 : Calling functions"
   ]
  },
  {
   "cell_type": "markdown",
   "metadata": {
    "colab_type": "text",
    "id": "2HhGnOsFez3c"
   },
   "source": [
    "**\"Calling a function\"** or **\"function call\"** is the second part of functions.\n",
    "\n",
    "We learned about definition in the previous section, that is where we make the function.\n",
    "\n",
    "Here we will learn to use the function!"
   ]
  },
  {
   "cell_type": "markdown",
   "metadata": {
    "colab_type": "text",
    "id": "l0Jty5WtfPtY"
   },
   "source": [
    "Let's use the 3 examples of functions we made in the previous section:\n",
    "\n",
    "bigger_num function :\n",
    "\n",
    "    def bigger_num(a, b):\n",
    "        if (a > b):\n",
    "            return a\n",
    "        elif (b > a):\n",
    "            return b\n",
    "        else:\n",
    "            print(\"The first and second numbers are equal to each other!\")\n",
    "            return a\n",
    "\n",
    "abs_val function : \n",
    "\n",
    "    def abs_val(x):\n",
    "        if(x < 0):\n",
    "            return x*-1\n",
    "        else:\n",
    "            return x\n",
    "\n",
    "me function:\n",
    "\n",
    "    def me(name):\n",
    "        my_name = 'Rahul'\n",
    "        if name == my_name:\n",
    "            print('Hello,', my_name)\n",
    "        else:\n",
    "            print('Hello, random person!')"
   ]
  },
  {
   "cell_type": "markdown",
   "metadata": {
    "colab_type": "text",
    "id": "qWXuDwQhhKaF"
   },
   "source": [
    "In order to \"call\" these functions, we use this syntax:\n",
    "\n",
    "    function_name(parameters)\n",
    "\n",
    "For example, if you want to call the functions above they would look like:\n",
    "\n",
    "    bigger_num(5,13)     # Calls the 'bigger_num' function with values 5 and 13 for a and b respectively.\n",
    "    \n",
    "    abs_val(-21)         # Calls the 'abs_val' function with value -21\n",
    "\n",
    "    me('Leonardo')       # Calls the 'me' function with value 'Leonardo'\n",
    "\n",
    "But remember that you will need to print the function call to see it:\n",
    "\n",
    "    print(abs_val(-21))\n",
    "\n",
    "or\n",
    "\n",
    "    answer = abs_val(-21)\n",
    "    print(answer)\n",
    "\n",
    "You cannot call a function without defining it! (There are exceptions to this that we will discuss soon)"
   ]
  },
  {
   "cell_type": "markdown",
   "metadata": {
    "colab_type": "text",
    "id": "xWlV3il6n-OY"
   },
   "source": [
    "**Task :** Define a function called 'power' that takes 2 parameters and calculates then returns the power of the first number to the second number. Then call the power function with parameters 3 and 5. Ex : if the parameters are 2 and 3, the output would be 8 (2^3). Note: Don't forget print when calling.\n",
    "\n",
    "<!-- Answer:\n",
    "```\n",
    "def power(a, b):\n",
    "    return a ** b\n",
    "\n",
    "print(power(3,5))\n",
    "``` -->"
   ]
  },
  {
   "cell_type": "code",
   "execution_count": null,
   "metadata": {
    "colab": {
     "base_uri": "https://localhost:8080/",
     "height": 34
    },
    "colab_type": "code",
    "executionInfo": {
     "elapsed": 591,
     "status": "ok",
     "timestamp": 1592409612841,
     "user": {
      "displayName": "Rahul Dani",
      "photoUrl": "https://lh3.googleusercontent.com/a-/AOh14Gj4Ylyc5noiFAMi-UQaeNwk1wfY6BGY9uKNf5_8IQ=s64",
      "userId": "15518412354795461544"
     },
     "user_tz": 240
    },
    "id": "o9DtO3qLezgO",
    "outputId": "9a687889-d0bc-4fb2-9fa1-3b5ad6bba47a"
   },
   "outputs": [],
   "source": []
  },
  {
   "cell_type": "markdown",
   "metadata": {
    "colab_type": "text",
    "id": "KOlnQWXgjLP0"
   },
   "source": [
    "**Task :** Define a void function called 'print_num' that prints the all the numbers from 0 to n where n is a parameter. Then call print_num with parameter 17.\n",
    "\n",
    "<!-- Answer:\n",
    "\n",
    "```\n",
    "def print_num(my_num):\n",
    "    for num in range(my_num+1):\n",
    "        print(num)\n",
    "\n",
    "print_num(17)\n",
    "``` -->"
   ]
  },
  {
   "cell_type": "code",
   "execution_count": null,
   "metadata": {
    "colab": {
     "base_uri": "https://localhost:8080/",
     "height": 308
    },
    "colab_type": "code",
    "executionInfo": {
     "elapsed": 785,
     "status": "ok",
     "timestamp": 1592408719694,
     "user": {
      "displayName": "Rahul Dani",
      "photoUrl": "https://lh3.googleusercontent.com/a-/AOh14Gj4Ylyc5noiFAMi-UQaeNwk1wfY6BGY9uKNf5_8IQ=s64",
      "userId": "15518412354795461544"
     },
     "user_tz": 240
    },
    "id": "yx_oAYUSdMsv",
    "outputId": "f29605b7-93b5-4b6c-e95d-e2e41c17bd52"
   },
   "outputs": [],
   "source": []
  },
  {
   "cell_type": "markdown",
   "metadata": {
    "colab_type": "text",
    "id": "CVcyAVWWpOcX"
   },
   "source": [
    "## Topic 4 (Optional) : User-Defined vs Built-in Functions vs Libraries"
   ]
  },
  {
   "cell_type": "markdown",
   "metadata": {
    "colab_type": "text",
    "id": "2K640l1cpinq"
   },
   "source": [
    "All the example functions you guys made above are called **user-defined functions**.\n",
    "\n",
    "These are functions created by the programmer/user.\n",
    "\n",
    "Many programming languages have functions called **built-in functions** that come standard with the language.\n",
    "\n",
    "You guys have used these built-in functions before, they include:\n",
    "\n",
    "    print()\n",
    "    len()\n",
    "    range()\n",
    "    type()\n",
    "    input()\n",
    "    # and many more!"
   ]
  },
  {
   "cell_type": "markdown",
   "metadata": {
    "colab_type": "text",
    "id": "gxzwBHNCZ1PS"
   },
   "source": [
    "Here is a website that shows all the built-in functions in python - https://www.programiz.com/python-programming/methods/built-in\n"
   ]
  },
  {
   "cell_type": "markdown",
   "metadata": {
    "colab_type": "text",
    "id": "T-8xLx7FbGjN"
   },
   "source": [
    "Programming languages also have **libraries**, which are essentially a \"store\" of functions. They are usually created by companies or other individuals. These libraries have many functions for people to use without writing them by hand."
   ]
  },
  {
   "cell_type": "markdown",
   "metadata": {
    "colab_type": "text",
    "id": "s7hdf27FbZ45"
   },
   "source": [
    "An example of this is the math library in python. In order to use it, we say **import** before the library name and then use the functions but use **library_name.function()** as syntax.\n",
    "\n",
    "    import math\n",
    "\n",
    "    x = math.sqrt(5)\n",
    "    print(x)\n",
    "\n",
    "\n",
    "Some other examples functions from the math library are:\n",
    "\n",
    "    math.gcd(a,b)     # Find gcd of 2 numbers.\n",
    "    math.sin(x)       # Find sin of x value (radians)\n",
    "    math.cos(x)       # Find cos of x value (radians)\n",
    "    math.pi           # The value of pi\n",
    "    math.radian(x)    # Convert degrees to radians\n"
   ]
  },
  {
   "cell_type": "markdown",
   "metadata": {
    "colab_type": "text",
    "id": "gV3_8xvBdMqU"
   },
   "source": [
    "Here is the link to all the functions of the python math library - https://docs.python.org/3/library/math.html\n"
   ]
  },
  {
   "cell_type": "markdown",
   "metadata": {
    "colab_type": "text",
    "id": "7o3FPI9udc2b"
   },
   "source": [
    "Here is the link to all the standard libraries of python - https://docs.python.org/3/library/index.html\n"
   ]
  },
  {
   "cell_type": "markdown",
   "metadata": {
    "colab_type": "text",
    "id": "bZFpytIimV9k"
   },
   "source": [
    "Practice Problems for this lecture (Lecture 6)- https://colab.research.google.com/drive/1fbE_v3kYROSSHDjPQEzmtSp263SRDNiI?usp=sharing"
   ]
  },
  {
   "cell_type": "markdown",
   "metadata": {
    "colab_type": "text",
    "id": "sTVI9zPd1Nwn"
   },
   "source": [
    "Practice Problems from previous lectures to work on after class:\n",
    "\n",
    "Lecture 1 : https://colab.research.google.com/drive/1RlMF5WD6YvUf7sbGs0XkpYyWvOLyT30b?usp=sharing\n",
    "\n",
    "Lecture 2 : https://colab.research.google.com/drive/14B7NaXdTWmfFhb6wRldo8nTdPMHNX7fZ?usp=sharing\n",
    "\n",
    "Lecture 3 : https://colab.research.google.com/drive/1WLEpSIk2eDn9YORxIuBJKAIBtvQ0E50Q?usp=sharing\n",
    "\n",
    "Lecture 4 :  https://colab.research.google.com/drive/1eZ3Xzojdu8QYzLD3AfkImMgSf9xUMsHD?usp=sharing\n"
   ]
  }
 ],
 "metadata": {
  "colab": {
   "authorship_tag": "ABX9TyMHp1Jfa3QmGTm+kkqLC8sz",
   "collapsed_sections": [],
   "name": "Lecture 6.ipynb",
   "provenance": []
  },
  "kernelspec": {
   "display_name": "Python 3",
   "language": "python",
   "name": "python3"
  },
  "language_info": {
   "codemirror_mode": {
    "name": "ipython",
    "version": 3
   },
   "file_extension": ".py",
   "mimetype": "text/x-python",
   "name": "python",
   "nbconvert_exporter": "python",
   "pygments_lexer": "ipython3",
   "version": "3.7.4"
  }
 },
 "nbformat": 4,
 "nbformat_minor": 1
}
