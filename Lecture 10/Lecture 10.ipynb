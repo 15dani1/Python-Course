{
 "cells": [
  {
   "cell_type": "markdown",
   "metadata": {
    "colab_type": "text",
    "id": "3_QWEI6zofvK"
   },
   "source": [
    "# Lecture 10 - Final Class\n",
    "\n",
    "*Wednesday, July 1st 2020*\n",
    "\n",
    "*Rahul Dani*\n",
    "\n",
    "In this lecture, we will discover ways to further our knowledge in computers and learn about software that people use in their day to day tasks. We will also have some review problems at the end recap all the content we have learned so far.\n"
   ]
  },
  {
   "cell_type": "markdown",
   "metadata": {
    "colab_type": "text",
    "id": "go40D_RGLJaC"
   },
   "source": [
    "## Topic 1 : Git and GitHub"
   ]
  },
  {
   "cell_type": "markdown",
   "metadata": {
    "colab_type": "text",
    "id": "28XgXVBcLagl"
   },
   "source": [
    "Git is a version control software. It is used to keep track of various versions of our project. \n",
    "\n",
    "There are certain git commands that people tend to use in their work. Some examples are:\n",
    "\n",
    "    git clone              # Used to create a new local repository\n",
    "    git add                # Add files for staging\n",
    "    git commit             # Finalize changes in the local repository\n",
    "    git push               # Send changes to remote repository\n",
    "    git pull               # Get changes from remote repository\n",
    "    git checkout           # Create/Switch branches\n"
   ]
  },
  {
   "cell_type": "markdown",
   "metadata": {
    "colab_type": "text",
    "id": "UFP2dJQgNc7t"
   },
   "source": [
    "GitHub is a platform that is used to store all your code. It is essentially a google drive for code. GitHub is owned by Microsoft and supports all the git commands we have talked about."
   ]
  },
  {
   "cell_type": "markdown",
   "metadata": {
    "colab_type": "text",
    "id": "Ib6DPR8oPPhn"
   },
   "source": [
    "People use GitHub for all types of files including Microsoft Word docs!\n",
    "\n",
    "This is my personal GitHub - https://github.com/15dani1"
   ]
  },
  {
   "cell_type": "markdown",
   "metadata": {
    "colab_type": "text",
    "id": "pBw52rw8QlkQ"
   },
   "source": [
    "GitHub is also a great place to start contributing to open source projects!\n",
    "\n",
    "What are **open-source projects**?\n",
    "\n",
    "* They are projects that are fully free and available for anyone to use, modify, and distribute.\n",
    "\n",
    "* An example of an open source project is Chromium - https://github.com/chromium/chromium\n",
    "\n",
    "Chromium was made by Google as a template for web browsers. The company modifies Chromium to make Google Chrome. Many modern browsers use Chromium as a template : Microsoft Edge, Opera, Torch, Brave, etc.\n",
    "\n",
    "Pretty much anyone can contribute to these open-source projects. The admin of the projects will approve or deny your changes.\n"
   ]
  },
  {
   "cell_type": "markdown",
   "metadata": {
    "colab_type": "text",
    "id": "uNfv8v8tUUnf"
   },
   "source": [
    "## Topic 2 : IDE/Text Editors"
   ]
  },
  {
   "cell_type": "markdown",
   "metadata": {
    "colab_type": "text",
    "id": "u2nHyHqjUbvb"
   },
   "source": [
    "**IDE** stands for Integrated Development Environment. It is the resource many people use to write code. Another resource people use to write code are **text editors**."
   ]
  },
  {
   "cell_type": "markdown",
   "metadata": {
    "colab_type": "text",
    "id": "fi7Pm7ylVXmT"
   },
   "source": [
    "Some popular IDEs for python are :\n",
    "\n",
    "* PyCharm\n",
    "* Spyder\n",
    "* PyDev\n",
    "\n",
    "Some popular text editors are :\n",
    "\n",
    "* Visual Studio Code (VS Code)\n",
    "* Sublime Text\n",
    "* Atom\n"
   ]
  },
  {
   "cell_type": "markdown",
   "metadata": {
    "colab_type": "text",
    "id": "Q60q0sVzZLu1"
   },
   "source": [
    "## Topic 3 : Fun Python Projects"
   ]
  },
  {
   "cell_type": "markdown",
   "metadata": {
    "colab_type": "text",
    "id": "qa2z-unEZbG7"
   },
   "source": [
    "### WoofCheck\n",
    "\n",
    "This is a project that I made for class, it uses a lot of Python!\n",
    "\n",
    "WoofCheck - https://youtu.be/UAXSWsqdfBk"
   ]
  },
  {
   "cell_type": "markdown",
   "metadata": {
    "colab_type": "text",
    "id": "v8_f5iXEaCrY"
   },
   "source": [
    "### This Person Does Not Exist\n",
    "\n",
    "This is very cool - https://thispersondoesnotexist.com/\n",
    "\n",
    "Github - https://github.com/NVlabs/stylegan2\n"
   ]
  },
  {
   "cell_type": "markdown",
   "metadata": {
    "colab_type": "text",
    "id": "lR-3vA6zbWjy"
   },
   "source": [
    "### Upscaling AI\n",
    "\n",
    "https://www.youtube.com/watch?v=CSoHaO3YqH8&feature=emb_title\n",
    "\n",
    "Github - https://github.com/adamian98/pulse"
   ]
  },
  {
   "cell_type": "markdown",
   "metadata": {
    "colab_type": "text",
    "id": "3BK9VFDF1HGF"
   },
   "source": [
    "## Topic 4 : Review of content so far!"
   ]
  },
  {
   "cell_type": "markdown",
   "metadata": {
    "colab_type": "text",
    "id": "e5-8YzWUwUNs"
   },
   "source": [
    "**Task 1:** Find and print the area of a circle with radius 12.6 inches. Hint : Make sure to use variables!\n",
    "\n",
    "<!-- Answer:\n",
    "```\n",
    "pi = 3.141\n",
    "r = 12.6\n",
    "area = pi*(r**2)\n",
    "print(area)\n",
    "``` -->"
   ]
  },
  {
   "cell_type": "code",
   "execution_count": null,
   "metadata": {
    "colab": {
     "base_uri": "https://localhost:8080/",
     "height": 34
    },
    "colab_type": "code",
    "executionInfo": {
     "elapsed": 361,
     "status": "ok",
     "timestamp": 1593619078422,
     "user": {
      "displayName": "Rahul Dani",
      "photoUrl": "https://lh3.googleusercontent.com/a-/AOh14Gj4Ylyc5noiFAMi-UQaeNwk1wfY6BGY9uKNf5_8IQ=s64",
      "userId": "15518412354795461544"
     },
     "user_tz": 240
    },
    "id": "tXZp-DUZ1Kx4",
    "outputId": "c8ed8d79-4e26-4447-a368-ef85141223fc"
   },
   "outputs": [],
   "source": []
  },
  {
   "cell_type": "markdown",
   "metadata": {
    "colab_type": "text",
    "id": "qYk1PpLiNsLp"
   },
   "source": [
    "**Task 2 :** Swap the values of two variables. Ex : If x = 5 and y = 12, make x = 12 and y = 5, without saying 'x = 12, y = 5'"
   ]
  },
  {
   "cell_type": "code",
   "execution_count": null,
   "metadata": {
    "colab": {
     "base_uri": "https://localhost:8080/",
     "height": 51
    },
    "colab_type": "code",
    "executionInfo": {
     "elapsed": 376,
     "status": "ok",
     "timestamp": 1593619399312,
     "user": {
      "displayName": "Rahul Dani",
      "photoUrl": "https://lh3.googleusercontent.com/a-/AOh14Gj4Ylyc5noiFAMi-UQaeNwk1wfY6BGY9uKNf5_8IQ=s64",
      "userId": "15518412354795461544"
     },
     "user_tz": 240
    },
    "id": "H8Q0IAhz1TWt",
    "outputId": "b145cc47-1a6c-4544-cb54-d72b2f71e472"
   },
   "outputs": [],
   "source": []
  },
  {
   "cell_type": "markdown",
   "metadata": {
    "colab_type": "text",
    "id": "ZuDo5ikTOUhy"
   },
   "source": [
    "**Task 3:** Compute 2 to the 5 power and print it enclosed within the words 'Albert Einstein'. Example: 'Albert32Einstein'\n",
    "\n",
    "<!-- Answer:\n",
    "```\n",
    "a = 2 ** 5\n",
    "print('Albert'+str(a)+'Einstein')\n",
    "``` -->"
   ]
  },
  {
   "cell_type": "code",
   "execution_count": null,
   "metadata": {
    "colab": {
     "base_uri": "https://localhost:8080/",
     "height": 34
    },
    "colab_type": "code",
    "executionInfo": {
     "elapsed": 379,
     "status": "ok",
     "timestamp": 1593619618726,
     "user": {
      "displayName": "Rahul Dani",
      "photoUrl": "https://lh3.googleusercontent.com/a-/AOh14Gj4Ylyc5noiFAMi-UQaeNwk1wfY6BGY9uKNf5_8IQ=s64",
      "userId": "15518412354795461544"
     },
     "user_tz": 240
    },
    "id": "7dJ8hdp63cFj",
    "outputId": "ab76da8a-c77f-4695-d974-7f1dde528f29"
   },
   "outputs": [],
   "source": []
  },
  {
   "cell_type": "markdown",
   "metadata": {
    "colab_type": "text",
    "id": "NbcBpDlYOWF7"
   },
   "source": [
    "**Task 4:** What is the value of the 'd' variable?\n",
    "\n",
    "    a = 37\n",
    "    b = 220\n",
    "    c = (a % 2 == 0)                       \n",
    "    d = (c and True) or (b < 18)\n",
    "\n",
    "<!-- Answer: \n",
    "    False -->"
   ]
  },
  {
   "cell_type": "code",
   "execution_count": null,
   "metadata": {
    "colab": {
     "base_uri": "https://localhost:8080/",
     "height": 34
    },
    "colab_type": "code",
    "executionInfo": {
     "elapsed": 511,
     "status": "ok",
     "timestamp": 1593619713576,
     "user": {
      "displayName": "Rahul Dani",
      "photoUrl": "https://lh3.googleusercontent.com/a-/AOh14Gj4Ylyc5noiFAMi-UQaeNwk1wfY6BGY9uKNf5_8IQ=s64",
      "userId": "15518412354795461544"
     },
     "user_tz": 240
    },
    "id": "Nx4dyTR93cxf",
    "outputId": "c3cee406-e844-4c83-cc0c-34c97298d62f"
   },
   "outputs": [],
   "source": []
  },
  {
   "cell_type": "markdown",
   "metadata": {
    "colab_type": "text",
    "id": "MCFOqsSs4D-i"
   },
   "source": [
    "**Task 5 :** Create a list called 'animals' fill it with 8 of your favorite animals. Print the animal at index 2 and index 5.\n",
    "\n",
    "<!-- Answer:\n",
    "\n",
    "    animals = ['lion', 'giraffe', 'tiger', 'cow', 'cheetah', 'donkey', 'rabbit', 'fox']\n",
    "    print(animals[2])\n",
    "    print(animals[5]) -->"
   ]
  },
  {
   "cell_type": "code",
   "execution_count": null,
   "metadata": {
    "colab": {
     "base_uri": "https://localhost:8080/",
     "height": 51
    },
    "colab_type": "code",
    "executionInfo": {
     "elapsed": 352,
     "status": "ok",
     "timestamp": 1593619880538,
     "user": {
      "displayName": "Rahul Dani",
      "photoUrl": "https://lh3.googleusercontent.com/a-/AOh14Gj4Ylyc5noiFAMi-UQaeNwk1wfY6BGY9uKNf5_8IQ=s64",
      "userId": "15518412354795461544"
     },
     "user_tz": 240
    },
    "id": "hhqcpre13dZ6",
    "outputId": "1f8703ae-e8f9-4d6b-eb9d-28cfda42cdd1"
   },
   "outputs": [],
   "source": []
  },
  {
   "cell_type": "markdown",
   "metadata": {
    "colab_type": "text",
    "id": "Kw3zomoe4DnY"
   },
   "source": [
    "**Task 6:** Using the 'animal' list you made in Question 1, print all the animals using a *for loop*.\n",
    "\n",
    "<!-- Answer: \n",
    "\n",
    "    animals = ['lion', 'giraffe', 'tiger', 'cow', 'cheetah', 'donkey', 'rabbit', 'fox']\n",
    "    for animal in animals:\n",
    "        print(animal) -->"
   ]
  },
  {
   "cell_type": "code",
   "execution_count": null,
   "metadata": {
    "colab": {
     "base_uri": "https://localhost:8080/",
     "height": 154
    },
    "colab_type": "code",
    "executionInfo": {
     "elapsed": 365,
     "status": "ok",
     "timestamp": 1593619986803,
     "user": {
      "displayName": "Rahul Dani",
      "photoUrl": "https://lh3.googleusercontent.com/a-/AOh14Gj4Ylyc5noiFAMi-UQaeNwk1wfY6BGY9uKNf5_8IQ=s64",
      "userId": "15518412354795461544"
     },
     "user_tz": 240
    },
    "id": "dJQa_8gO3d7C",
    "outputId": "81dbf4b2-ccbf-45bc-db8b-b096097228b4"
   },
   "outputs": [],
   "source": []
  },
  {
   "cell_type": "markdown",
   "metadata": {
    "colab_type": "text",
    "id": "XKDrwS3_fGJh"
   },
   "source": [
    "**Task 7 :** Create a function called 'price_calc' that takes 2 parameters price_before_tax and sales_tax_rate (in decimal) and returns the final price including tax.\n",
    "\n",
    "<!-- Answer: \n",
    "\n",
    "```\n",
    "def price_calc(price_before_tax, sales_tax_rate):\n",
    "    final_price = price_before_tax + price_before_tax * sales_tax_rate\n",
    "    return final_price\n",
    "\n",
    "print(price_calc(70, 0.04))\n",
    "``` -->\n"
   ]
  },
  {
   "cell_type": "code",
   "execution_count": null,
   "metadata": {
    "colab": {
     "base_uri": "https://localhost:8080/",
     "height": 34
    },
    "colab_type": "code",
    "executionInfo": {
     "elapsed": 293,
     "status": "ok",
     "timestamp": 1593620358134,
     "user": {
      "displayName": "Rahul Dani",
      "photoUrl": "https://lh3.googleusercontent.com/a-/AOh14Gj4Ylyc5noiFAMi-UQaeNwk1wfY6BGY9uKNf5_8IQ=s64",
      "userId": "15518412354795461544"
     },
     "user_tz": 240
    },
    "id": "NNiffTRT3bIs",
    "outputId": "8fc22019-6bfc-49b8-8241-2d823b534c6b"
   },
   "outputs": [],
   "source": []
  },
  {
   "cell_type": "markdown",
   "metadata": {
    "colab_type": "text",
    "id": "9f9vIEx4b244"
   },
   "source": [
    "## Topic 5 : Next Steps"
   ]
  },
  {
   "cell_type": "markdown",
   "metadata": {
    "colab_type": "text",
    "id": "edhtRk-wb695"
   },
   "source": [
    "Learn a new language:\n",
    "\n",
    "* **Java** - Used in Android and other devices.\n",
    "* **Javascript** - Used for websites/web development.\n",
    "* **C or C++** - Used for hardware/robotics.\n",
    "* **Swift** - Used for iOS, macOS, and other apple devices.\n",
    "\n",
    "You guys will be able to use your python knowledge to learn other languages very easily because they are all very similar.\n",
    "\n",
    "Some other platforms you can use are:\n",
    "\n",
    "* **Udemy** - Programming Courses/Tutorials\n",
    "* **Youtube** - Videos walkthroughs"
   ]
  },
  {
   "cell_type": "markdown",
   "metadata": {
    "colab_type": "text",
    "id": "sTVI9zPd1Nwn"
   },
   "source": [
    "Practice Problems from previous lectures to work on after class:\n",
    "\n",
    "Lecture 1 : https://colab.research.google.com/drive/1RlMF5WD6YvUf7sbGs0XkpYyWvOLyT30b?usp=sharing\n",
    "\n",
    "Lecture 2 : https://colab.research.google.com/drive/14B7NaXdTWmfFhb6wRldo8nTdPMHNX7fZ?usp=sharing\n",
    "\n",
    "Lecture 3 : https://colab.research.google.com/drive/1WLEpSIk2eDn9YORxIuBJKAIBtvQ0E50Q?usp=sharing\n",
    "\n",
    "Lecture 4 :  https://colab.research.google.com/drive/1eZ3Xzojdu8QYzLD3AfkImMgSf9xUMsHD?usp=sharing\n",
    "\n",
    "Lecture 6 : https://colab.research.google.com/drive/1fbE_v3kYROSSHDjPQEzmtSp263SRDNiI?usp=sharing\n",
    "\n"
   ]
  }
 ],
 "metadata": {
  "colab": {
   "authorship_tag": "ABX9TyMEEfspqthBtfgqhtKaLikB",
   "collapsed_sections": [],
   "name": "Lecture 10.ipynb",
   "provenance": []
  },
  "kernelspec": {
   "display_name": "Python 3",
   "language": "python",
   "name": "python3"
  },
  "language_info": {
   "codemirror_mode": {
    "name": "ipython",
    "version": 3
   },
   "file_extension": ".py",
   "mimetype": "text/x-python",
   "name": "python",
   "nbconvert_exporter": "python",
   "pygments_lexer": "ipython3",
   "version": "3.7.4"
  }
 },
 "nbformat": 4,
 "nbformat_minor": 1
}
