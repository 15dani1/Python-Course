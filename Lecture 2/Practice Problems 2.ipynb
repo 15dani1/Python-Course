{
 "cells": [
  {
   "cell_type": "markdown",
   "metadata": {
    "colab_type": "text",
    "id": "LGJLH8gPwOis"
   },
   "source": [
    "## Practice Problems"
   ]
  },
  {
   "cell_type": "markdown",
   "metadata": {
    "colab_type": "text",
    "id": "_aT6jdJTOTj2"
   },
   "source": [
    "**Task 1:** Find the 10th element and 21st element from the sentence 'A room without books is like a body without a soul.' and concatenate them.\n",
    "\n",
    "<!-- Answer:\n",
    "```\n",
    "s = 'A room without books is like a body without a soul.'\n",
    "print(s[10]+s[21])\n",
    "``` -->"
   ]
  },
  {
   "cell_type": "code",
   "execution_count": 0,
   "metadata": {
    "colab": {},
    "colab_type": "code",
    "id": "sD5AdlbMOG-R"
   },
   "outputs": [],
   "source": []
  },
  {
   "cell_type": "markdown",
   "metadata": {
    "colab_type": "text",
    "id": "ZuDo5ikTOUhy"
   },
   "source": [
    "**Task 2:** Compute 2 to the 5 power and print it enclosed within the words 'Albert Einstein'. Example: 'Albert32Einstein'\n",
    "\n",
    "<!-- Answer:\n",
    "```\n",
    "a = 2 ** 5\n",
    "print('Albert'+str(a)+'Einstein')\n",
    "``` -->"
   ]
  },
  {
   "cell_type": "code",
   "execution_count": 0,
   "metadata": {
    "colab": {},
    "colab_type": "code",
    "id": "qtl6VXSCOVzL"
   },
   "outputs": [],
   "source": []
  },
  {
   "cell_type": "markdown",
   "metadata": {
    "colab_type": "text",
    "id": "NbcBpDlYOWF7"
   },
   "source": [
    "**Task 3:** What is the value of the 'd' variable?\n",
    "\n",
    "    a = 37\n",
    "    b = 220\n",
    "    c = (a % 2 == 0)                       \n",
    "    d = (c and True) or (b < 18)\n",
    "<!-- Answer: \n",
    "    False -->"
   ]
  },
  {
   "cell_type": "code",
   "execution_count": 0,
   "metadata": {
    "colab": {},
    "colab_type": "code",
    "id": "onOBbHKYOXgw"
   },
   "outputs": [],
   "source": []
  },
  {
   "cell_type": "markdown",
   "metadata": {
    "colab_type": "text",
    "id": "eGCZxnuBOXGn"
   },
   "source": [
    "**Task 4:** Extract and print the words 'live' and 'right' from the sentence 'You only live once, but if you do it right, once is enough.'\n",
    "\n",
    "<!-- Answer:\n",
    "```\n",
    "s = 'You only live once, but if you do it right, once is enough.'\n",
    "print(s[9:13])\n",
    "print(s[37:42])\n",
    "``` -->"
   ]
  },
  {
   "cell_type": "code",
   "execution_count": 0,
   "metadata": {
    "colab": {},
    "colab_type": "code",
    "id": "qstbvEuTOZ2M"
   },
   "outputs": [],
   "source": []
  }
 ],
 "metadata": {
  "colab": {
   "authorship_tag": "ABX9TyOUamSuk5Noz8UwTuhE5kFP",
   "collapsed_sections": [],
   "name": "Practice Problems 2.ipynb",
   "provenance": []
  },
  "kernelspec": {
   "display_name": "Python 3",
   "language": "python",
   "name": "python3"
  },
  "language_info": {
   "codemirror_mode": {
    "name": "ipython",
    "version": 3
   },
   "file_extension": ".py",
   "mimetype": "text/x-python",
   "name": "python",
   "nbconvert_exporter": "python",
   "pygments_lexer": "ipython3",
   "version": "3.7.4"
  }
 },
 "nbformat": 4,
 "nbformat_minor": 1
}
