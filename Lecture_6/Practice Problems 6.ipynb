{
 "cells": [
  {
   "cell_type": "markdown",
   "metadata": {
    "colab_type": "text",
    "id": "LGJLH8gPwOis"
   },
   "source": [
    "## Practice Problems"
   ]
  },
  {
   "cell_type": "markdown",
   "metadata": {
    "colab_type": "text",
    "id": "TO_GjmMsfGbs"
   },
   "source": [
    "**Task 1 :** Create a function called 'mult_list' that takes a list as a parameter. Multiply all the elements of the list and return the result.\n",
    "\n",
    "<!-- Answer:\n",
    "```\n",
    "def mult_list(list):\n",
    "    result = 1\n",
    "    for num in list:\n",
    "        result *= num\n",
    "    return result\n",
    "\n",
    "print(mult_list([2,13,4,7,5]))\n",
    "``` -->"
   ]
  },
  {
   "cell_type": "code",
   "execution_count": 0,
   "metadata": {
    "colab": {},
    "colab_type": "code",
    "id": "wJuCJh5njFtv"
   },
   "outputs": [],
   "source": []
  },
  {
   "cell_type": "markdown",
   "metadata": {
    "colab_type": "text",
    "id": "Ao6D4Ol8fGTd"
   },
   "source": [
    "**Task 2 :** Create a function called 'even_len' that takes a string as a parameter and returns true if the string have even number of characters in it and false if it has odd number of characters. Ex : 'World' -> False because it has 5 characters.\n",
    "\n",
    "<!-- Answer:\n",
    "\n",
    "```\n",
    "def even_len(x):\n",
    "    if(len(x) % 2 == 0):\n",
    "        return True\n",
    "    else:\n",
    "        return False\n",
    "\n",
    "print(even_len('World'))\n",
    "``` -->"
   ]
  },
  {
   "cell_type": "code",
   "execution_count": 0,
   "metadata": {
    "colab": {},
    "colab_type": "code",
    "id": "7IbPHuW5jGGm"
   },
   "outputs": [],
   "source": []
  },
  {
   "cell_type": "markdown",
   "metadata": {
    "colab_type": "text",
    "id": "XKDrwS3_fGJh"
   },
   "source": [
    "**Task 3 :** Create a function called 'price_calc' that takes 2 parameters price_before_tax and sales_tax_rate (in decimal) and returns the final price including tax.\n",
    "\n",
    "<!-- Answer: \n",
    "\n",
    "```\n",
    "def price_calc(price_before_tax, sales_tax_rate):\n",
    "    final_price = price_before_tax + price_before_tax * sales_tax_rate\n",
    "    return final_price\n",
    "\n",
    "print(price_calc(70, 0.04))\n",
    "``` -->\n"
   ]
  },
  {
   "cell_type": "code",
   "execution_count": 0,
   "metadata": {
    "colab": {},
    "colab_type": "code",
    "id": "Dxg27z3OjGiD"
   },
   "outputs": [],
   "source": []
  },
  {
   "cell_type": "markdown",
   "metadata": {
    "colab_type": "text",
    "id": "qzIJiGYEfF6B"
   },
   "source": [
    "**Task 4 :** Create a function called 'list_max' that takes a list as parameter and returns the max element from the list.\n",
    "\n",
    "<!-- Answer:\n",
    "```\n",
    "def list_max(list):\n",
    "    max = list[0]\n",
    "    for num in list:\n",
    "        if(num > max):\n",
    "            max = num\n",
    "    return max\n",
    "\n",
    "print(list_max([6, 13, 7, 25, 64, 37, 19]))\n",
    "``` -->"
   ]
  },
  {
   "cell_type": "code",
   "execution_count": 0,
   "metadata": {
    "colab": {},
    "colab_type": "code",
    "id": "pUTMm7c8fQ8e"
   },
   "outputs": [],
   "source": []
  }
 ],
 "metadata": {
  "colab": {
   "authorship_tag": "ABX9TyNffxMW6yO7n0hQDfHF7nYJ",
   "collapsed_sections": [],
   "name": "Practice Problems 6.ipynb",
   "provenance": []
  },
  "kernelspec": {
   "display_name": "Python 3",
   "language": "python",
   "name": "python3"
  },
  "language_info": {
   "codemirror_mode": {
    "name": "ipython",
    "version": 3
   },
   "file_extension": ".py",
   "mimetype": "text/x-python",
   "name": "python",
   "nbconvert_exporter": "python",
   "pygments_lexer": "ipython3",
   "version": "3.7.4"
  }
 },
 "nbformat": 4,
 "nbformat_minor": 1
}
