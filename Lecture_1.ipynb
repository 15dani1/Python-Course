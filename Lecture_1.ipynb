{
  "nbformat": 4,
  "nbformat_minor": 0,
  "metadata": {
    "colab": {
      "name": "Lecture 1.ipynb",
      "provenance": [],
      "collapsed_sections": [
        "BX4ZY_C1G5_F"
      ]
    },
    "kernelspec": {
      "name": "python3",
      "display_name": "Python 3"
    }
  },
  "cells": [
    {
      "cell_type": "markdown",
      "metadata": {
        "id": "3_QWEI6zofvK",
        "colab_type": "text"
      },
      "source": [
        "# Lecture 1 - Introduction, Variables, and Print Statement\n",
        "\n",
        "*Monday, June 1st 2020*\n",
        "\n",
        "*Rahul Dani*\n",
        "\n",
        "In this lecture, we will cover many fundamental topics to get you started!"
      ]
    },
    {
      "cell_type": "markdown",
      "metadata": {
        "id": "9rnwa1v_rDRF",
        "colab_type": "text"
      },
      "source": [
        "## Topic 1 : Variables\n",
        "\n",
        "\n"
      ]
    },
    {
      "cell_type": "markdown",
      "metadata": {
        "id": "vhLP2deQsF1I",
        "colab_type": "text"
      },
      "source": [
        "Variables can be considered as an item that holds a value. You can put any value inside this item. \n",
        "\n",
        "Note that **Python is case-sensitive** (UPPERCASE names and lowercase names are different from each other). Be careful about using letters in different cases.\n",
        "\n",
        "The format of the variables look like:\n",
        "\n",
        "```\n",
        "name = value\n",
        "```\n",
        "\n",
        "Some examples:\n",
        "\n",
        "```\n",
        "x = 5\n",
        "y = 10\n",
        "car = 73\n",
        "bottle = 21\n",
        "```\n",
        "\n"
      ]
    },
    {
      "cell_type": "markdown",
      "metadata": {
        "id": "W6sND5uhw5rn",
        "colab_type": "text"
      },
      "source": [
        "There are different types of variables:\n",
        "\n",
        "**int** : *integer* (Example : 5, 14, -56)\n",
        "\n",
        "**float** : *decimal numbers* (Example: 7.33, 1.5, 9.0, -13.67234 )\n",
        "\n",
        "**bool** : *boolean values* (Example: True, False)\n",
        "\n",
        "**str** : *text values/strings* (Example: 'hi', 'India', 'purple', 'ABC!', 'usa23'). Strings always need to have quotes(' ') around them. \n"
      ]
    },
    {
      "cell_type": "markdown",
      "metadata": {
        "id": "vC-Zw8P11CnZ",
        "colab_type": "text"
      },
      "source": [
        "Some examples of variables definition using different types:\n",
        "\n",
        "```\n",
        "city = 'tampa'\n",
        "year = 2020\n",
        "temperature = 75.6\n",
        "is_hot = True\n",
        "username = 'cat123'\n",
        "number_one = '1'\n",
        "```\n",
        "\n"
      ]
    },
    {
      "cell_type": "markdown",
      "metadata": {
        "id": "7YTY5BjY14TZ",
        "colab_type": "text"
      },
      "source": [
        "**Task :** Can someone tell me what the types of each of the above variables are?\n",
        "\n",
        "<!-- Answers:\n",
        "    \n",
        "* City is a string\n",
        "* Year is an int\n",
        "* Temperature is a float\n",
        "* is_hot is a boolean\n",
        "* username is a string\n",
        "* number_one is a string -->\n"
      ]
    },
    {
      "cell_type": "markdown",
      "metadata": {
        "id": "FaiVbVJXMEvK",
        "colab_type": "text"
      },
      "source": [
        "**Literals** are the values by itself.\n",
        "\n",
        "For example:\n",
        "```\n",
        "3\n",
        "'New York'\n",
        "67.4\n",
        "True\n",
        "```\n",
        "\n"
      ]
    },
    {
      "cell_type": "markdown",
      "metadata": {
        "id": "A1tNBmY46HSR",
        "colab_type": "text"
      },
      "source": [
        "The way to check the type of a given variable using python is:\n",
        "\n",
        "```\n",
        "type(variable_name)\n",
        "```\n",
        "\n",
        "so if you wanted to check the type of the variable *city* the code looks like:\n",
        "\n",
        "```\n",
        "type(city)\n",
        "```\n",
        "\n",
        "Make sure to use the parenthesis after the word 'type' to run the type command on the city variable. \n"
      ]
    },
    {
      "cell_type": "markdown",
      "metadata": {
        "id": "53yL_1596qvF",
        "colab_type": "text"
      },
      "source": [
        "**Task :** Find the types of all the variables we used above. Make sure to define the variable first!\n",
        "\n",
        "<!-- Answer: \n",
        "\n",
        "```\n",
        "city = 'tampa'\n",
        "year = 2020\n",
        "temperature = 75.6\n",
        "is_hot = True\n",
        "username = 'cat123'\n",
        "number_one = '1'\n",
        "\n",
        "print(type(city))\n",
        "print(type(year))\n",
        "print(type(temperature))\n",
        "print(type(is_hot))\n",
        "print(type(username))\n",
        "print(type(number_one))\n",
        "``` -->\n",
        "\n"
      ]
    },
    {
      "cell_type": "code",
      "metadata": {
        "id": "Xk3gNNfEzw8p",
        "colab_type": "code",
        "colab": {},
        "cellView": "code"
      },
      "source": [
        ""
      ],
      "execution_count": 0,
      "outputs": []
    },
    {
      "cell_type": "markdown",
      "metadata": {
        "id": "8WHzTLjp77SW",
        "colab_type": "text"
      },
      "source": [
        "To check if two items or variables are the same use the **==** command.\n",
        "\n",
        "Example: \n",
        "\n",
        "```\n",
        "'cat' == 'cat'\n",
        "abc == abc\n",
        "123 == 123\n",
        "True == False\n",
        "```\n",
        "You can also check the variable types of two variables using the == command.\n",
        "\n",
        "Example:\n",
        "\n",
        "```\n",
        "type(2) == type(5)\n",
        "type('name') == type('chicago')\n",
        "type(word) == type(tampa)\n",
        "type(True) == type(False) \n",
        "```\n",
        "\n",
        "This would tell us if the two items have the same type. \n"
      ]
    },
    {
      "cell_type": "markdown",
      "metadata": {
        "id": "HRr3hG_D_H4q",
        "colab_type": "text"
      },
      "source": [
        "**Task :** Make a new variable called 'color_one' equal to your favorite color. Then set another variable called 'color_two' to your second favorite color. Then check if the two colors are the same.\n",
        "\n",
        "<!-- Answer:\n",
        "\n",
        "```\n",
        "#False Case\n",
        "color_one = 'red'\n",
        "color_two = 'black'\n",
        "color_one == color_two\n",
        "\n",
        "#True Case\n",
        "color_one = 'red'\n",
        "color_two = 'red'\n",
        "color_one == color_two\n",
        "``` -->\n"
      ]
    },
    {
      "cell_type": "code",
      "metadata": {
        "id": "DzHePzDp8LVk",
        "colab_type": "code",
        "colab": {}
      },
      "source": [
        ""
      ],
      "execution_count": 0,
      "outputs": []
    },
    {
      "cell_type": "markdown",
      "metadata": {
        "id": "onPio-479JNo",
        "colab_type": "text"
      },
      "source": [
        "**Task :** Make a new variable called 'place' equal to your favorite city. Then check if place and 4.9 have the same type. What about place and 'miami', do they have the same type?\n",
        "\n",
        "<!-- Answer:\n",
        "\n",
        "```\n",
        "place = 'gainesville'\n",
        "print(type(place) == type(4.9))\n",
        "print(type(place) == type('miami'))\n",
        "``` -->\n",
        "\n"
      ]
    },
    {
      "cell_type": "code",
      "metadata": {
        "id": "LN7H6SRA-FV3",
        "colab_type": "code",
        "colab": {}
      },
      "source": [
        ""
      ],
      "execution_count": 0,
      "outputs": []
    },
    {
      "cell_type": "markdown",
      "metadata": {
        "id": "BX4ZY_C1G5_F",
        "colab_type": "text"
      },
      "source": [
        "## Topic 2: Comment and Print"
      ]
    },
    {
      "cell_type": "markdown",
      "metadata": {
        "id": "s25DgsN6HQFJ",
        "colab_type": "text"
      },
      "source": [
        "**Comments** are used to write notes about your code without actually running that line. To write a comment put **#** before that line of code.\n",
        "\n",
        "Example:\n",
        "\n",
        "```\n",
        "# This is a comment\n",
        "# This line will not run\n",
        "This line will run because it is not a comment\n",
        "```\n",
        "\n",
        "Comments are also handy for testing a program. You can comment lines of code and see how they behave without those lines (Will cover this in detail in a future lecture).\n",
        "\n"
      ]
    },
    {
      "cell_type": "markdown",
      "metadata": {
        "id": "-FwxQYKAKJMa",
        "colab_type": "text"
      },
      "source": [
        "**Task :** Make two variables called 'height' and 'weight' and set them as two float values respectively. Comment the weight variable.\n",
        "\n",
        "<!-- Answer:\n",
        "```\n",
        "height = 6.3\n",
        "#weight = 180.3\n",
        "``` -->"
      ]
    },
    {
      "cell_type": "code",
      "metadata": {
        "id": "YNALHEtwKzD4",
        "colab_type": "code",
        "colab": {}
      },
      "source": [
        ""
      ],
      "execution_count": 0,
      "outputs": []
    },
    {
      "cell_type": "markdown",
      "metadata": {
        "id": "olS33SHhLLEk",
        "colab_type": "text"
      },
      "source": [
        "**Print** Statements are used to printout/display the contents to the screen.\n",
        "\n",
        "Example of syntax:\n",
        "```\n",
        "print('Hi')\n",
        "print('This is a sentence.')\n",
        "print(1+2)\n",
        "print(367.123)\n",
        "print(car)\n",
        "```\n",
        "\n",
        "Print can be done on both variables and literals. Even expressions such as '6*5' can be used within the print statement.\n",
        "\n",
        "Similar to type, make sure to use the parenthesis after the word 'print' to run the print command on the variable or literal you choose. "
      ]
    },
    {
      "cell_type": "markdown",
      "metadata": {
        "id": "ixwVQ16_Mw6D",
        "colab_type": "text"
      },
      "source": [
        "**Task :** Print the string 'Hello World'. Create a new variable called name and make it equal to your name. Print the name variable and also print the sum of 15 and 3 to the screen. \n",
        "\n",
        "<!-- Answer:\n",
        "```\n",
        "print('Hello World')\n",
        "name = 'Rahul'\n",
        "print(name)\n",
        "print(15+3)\n",
        "``` -->"
      ]
    },
    {
      "cell_type": "code",
      "metadata": {
        "id": "0kvth6tPNU3z",
        "colab_type": "code",
        "colab": {}
      },
      "source": [
        ""
      ],
      "execution_count": 0,
      "outputs": []
    },
    {
      "cell_type": "markdown",
      "metadata": {
        "id": "a-1rNEf7v9r_",
        "colab_type": "text"
      },
      "source": [
        "## Topic 3: Using Python as a Calculator\n"
      ]
    },
    {
      "cell_type": "markdown",
      "metadata": {
        "id": "Yt2tLsBUF-3E",
        "colab_type": "text"
      },
      "source": [
        "Python can be used as a calculator. Calculations such as addition, subtraction, and multiplication, and division can be used. We will practice doing this today. \n",
        "\n",
        "**Addition (+), Subtraction (-), Multiplication (*), and Division (/)**"
      ]
    },
    {
      "cell_type": "markdown",
      "metadata": {
        "id": "wcjAOqJr4qdi",
        "colab_type": "text"
      },
      "source": [
        "**Task**: Find the sum of 3 and 2. \n",
        "\n",
        "<!-- Answer : 3+2 -->"
      ]
    },
    {
      "cell_type": "code",
      "metadata": {
        "id": "sPJthn8Z5YnJ",
        "colab_type": "code",
        "colab": {}
      },
      "source": [
        ""
      ],
      "execution_count": 0,
      "outputs": []
    },
    {
      "cell_type": "markdown",
      "metadata": {
        "id": "1I1Dowf96RGw",
        "colab_type": "text"
      },
      "source": [
        "**Task:** Print x + y where               \n",
        "x = 4 - 2                           \n",
        "y = 5 + 3\n",
        "\n",
        "<!-- Answer:   \n",
        "x = 4 - 2                \n",
        "y = 5 + 3                   \n",
        "print(x+y)            -->"
      ]
    },
    {
      "cell_type": "code",
      "metadata": {
        "id": "KWuhfFu16zV2",
        "colab_type": "code",
        "colab": {}
      },
      "source": [
        ""
      ],
      "execution_count": 0,
      "outputs": []
    },
    {
      "cell_type": "markdown",
      "metadata": {
        "id": "lQaGUaAV76CZ",
        "colab_type": "text"
      },
      "source": [
        "**Task:** Print  z + m where                \n",
        "z = 3 * 7     \n",
        "m = 6/2            \n",
        "\n",
        "<!-- Answer:\n",
        "\n",
        "z = 3 * 7           \n",
        "m = 6 / 2           \n",
        "print (z+m)             -->\n"
      ]
    },
    {
      "cell_type": "code",
      "metadata": {
        "id": "o3cipVx58Xu5",
        "colab_type": "code",
        "colab": {}
      },
      "source": [
        " "
      ],
      "execution_count": 0,
      "outputs": []
    },
    {
      "cell_type": "markdown",
      "metadata": {
        "id": "q_0G0ous9hya",
        "colab_type": "text"
      },
      "source": [
        "\n",
        "\n",
        "**Modulus/Remainder (%)** finds the remainder when two values are divided.\n",
        "\n",
        "**Power** (***)  finds the power of the first value to the second value. Ex. 5 ** 2 is the same as 5^2.\n",
        "\n",
        "**Floor/Integer Division (//)** divides the two numbers given and then rounds it to the lower number.\n",
        "\n",
        "\n"
      ]
    },
    {
      "cell_type": "markdown",
      "metadata": {
        "id": "ImJz0h23-NB_",
        "colab_type": "text"
      },
      "source": [
        "**Task:** Find the remainder of 7 divided by 3\n",
        "<!-- Answer:\n",
        "7 % 3 -->"
      ]
    },
    {
      "cell_type": "code",
      "metadata": {
        "id": "vu5zk9zw-pxS",
        "colab_type": "code",
        "colab": {}
      },
      "source": [
        ""
      ],
      "execution_count": 0,
      "outputs": []
    },
    {
      "cell_type": "markdown",
      "metadata": {
        "id": "rKq7uryVASf_",
        "colab_type": "text"
      },
      "source": [
        "**Task:** Find 17^3 and the floored solution of 10 divided by 3. \n",
        "Print both answers on seperate lines.\n",
        "\n",
        "<!-- Answer:              \n",
        "print(17**3)             \n",
        "print(10//3)         \n",
        "-->"
      ]
    },
    {
      "cell_type": "code",
      "metadata": {
        "id": "vX3HtWjWFBnF",
        "colab_type": "code",
        "colab": {}
      },
      "source": [
        ""
      ],
      "execution_count": 0,
      "outputs": []
    }
  ]
}